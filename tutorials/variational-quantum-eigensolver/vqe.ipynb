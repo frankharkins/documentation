{
 "cells": [
  {
   "attachments": {},
   "cell_type": "markdown",
   "id": "a6f69b77",
   "metadata": {},
   "source": [
    "*Usage estimate: 73 minutes on ibm_kyiv or 28 minutes on ibm_manila. (NOTE: This is an estimate only. Your runtime may vary.)*\n",
    "\n",
    "## Background\n",
    "\n",
    "[Variational quantum algorithms](https://arxiv.org/abs/2012.09265) are promising candidate hybrid-algorithms for observing quantum computation utility on noisy near-term devices. Variational algorithms are characterized by the use of a classical optimization algorithm to iteratively update a parameterized trial solution, or \"ansatz\". Chief among these methods is the Variational Quantum Eigensolver (VQE) that aims to solve for the ground state of a given Hamiltonian represented as a linear combination of Pauli terms, with an ansatz circuit where the number of parameters to optimize over is polynomial in the number of qubits.  Given that the size of the full solution vector is exponential in the number of qubits, successful minimization using VQE requires, in general, additional problem-specific information to define the structure of the ansatz circuit.\n",
    "\n",
    "\n",
    "Executing a VQE algorithm requires the following components:\n",
    "\n",
    "   1. Hamiltonian and ansatz (problem specification)\n",
    "   2. Qiskit Runtime estimator\n",
    "   3. Classical optimizer\n",
    "\n",
    "Although the Hamiltonian and ansatz require domain-specific knowledge to construct, these details are immaterial to the Runtime, and we can execute a wide class of VQE problems in the same manner."
   ]
  },
  {
   "cell_type": "markdown",
   "id": "55b94021",
   "metadata": {},
   "source": [
    "## Requirements\n",
    "\n",
    "Before starting this tutorial, ensure that you have the following installed:\n",
    "\n",
    "* Qiskit SDK 1.0 or later, with visualization support (`pip install 'qiskit[visualization]'`)\n",
    "* Qiskit Runtime (`pip install qiskit-ibm-runtime`) 0.22 or later\n",
    "* SciPy (`python -m pip install scipy`)"
   ]
  },
  {
   "attachments": {},
   "cell_type": "markdown",
   "id": "7db2e559",
   "metadata": {},
   "source": [
    "## Setup\n",
    "\n",
    "Here we import the tools needed for a VQE experiment."
   ]
  },
  {
   "cell_type": "code",
   "execution_count": 1,
   "id": "a0a48442",
   "metadata": {},
   "outputs": [],
   "source": [
    "# General imports\n",
    "import numpy as np\n",
    "\n",
    "# Pre-defined ansatz circuit and operator class for Hamiltonian\n",
    "from qiskit.circuit.library import EfficientSU2\n",
    "from qiskit.quantum_info import SparsePauliOp\n",
    "\n",
    "# SciPy minimizer routine\n",
    "from scipy.optimize import minimize\n",
    "\n",
    "# Plotting functions\n",
    "import matplotlib.pyplot as plt"
   ]
  },
  {
   "cell_type": "code",
   "execution_count": 2,
   "id": "bc380c46",
   "metadata": {},
   "outputs": [],
   "source": [
    "# runtime imports\n",
    "from qiskit_ibm_runtime import QiskitRuntimeService, Session\n",
    "from qiskit_ibm_runtime import EstimatorV2 as Estimator\n",
    "\n",
    "# To run on hardware, select the backend with the fewest number of jobs in the queue\n",
    "service = QiskitRuntimeService(channel=\"ibm_quantum\")\n",
    "backend = service.least_busy(operational=True, simulator=False)"
   ]
  },
  {
   "attachments": {},
   "cell_type": "markdown",
   "id": "988ee237",
   "metadata": {},
   "source": [
    "## Step 1: Map classical inputs to a quantum problem\n",
    "\n",
    "Although the problem instance in question for the VQE algorithm can come from a variety of domains, the form for execution through Qiskit Runtime is the same. Qiskit provides a convenience class for expressing Hamiltonians in Pauli form, and a collection of widely used ansatz circuits in the [`qiskit.circuit.library`](https://docs.quantum-computing.ibm.com/api/qiskit/circuit_library).\n",
    "\n",
    "This example Hamiltonian is derived from a quantum chemistry problem."
   ]
  },
  {
   "cell_type": "code",
   "execution_count": 3,
   "id": "0ad66539",
   "metadata": {},
   "outputs": [],
   "source": [
    "hamiltonian = SparsePauliOp.from_list(\n",
    "    [(\"YZ\", 0.3980), (\"ZI\", -0.3980), (\"ZZ\", -0.0113), (\"XX\", 0.1810)]\n",
    ")"
   ]
  },
  {
   "attachments": {},
   "cell_type": "markdown",
   "id": "acb83d48",
   "metadata": {},
   "source": [
    "Our choice of ansatz is the `EfficientSU2` that, by default, linearly entangles qubits, making it ideal for quantum hardware with limited connectivity."
   ]
  },
  {
   "cell_type": "code",
   "execution_count": 4,
   "id": "59bffe5e",
   "metadata": {},
   "outputs": [
    {
     "data": {
      "image/svg+xml": [
       "<?xml version=\"1.0\" encoding=\"UTF-8\"?><!DOCTYPE svg  PUBLIC '-//W3C//DTD SVG 1.1//EN'  'http://www.w3.org/Graphics/SVG/1.1/DTD/svg11.dtd'><svg width=\"590.86pt\" height=\"125.65pt\" version=\"1.1\" viewBox=\"0 0 590.86 125.65\" xmlns=\"http://www.w3.org/2000/svg\" xmlns:xlink=\"http://www.w3.org/1999/xlink\"><defs><style type=\"text/css\">*{stroke-linejoin: round; stroke-linecap: butt}</style></defs><path d=\"m0 125.65h590.86v-125.65h-590.86z\" fill=\"#ffffff\"/><path d=\"m64.497 44.283h514.53\" clip-path=\"url(#17d60b7b1a4)\" fill=\"none\" stroke=\"#000000\" stroke-linecap=\"square\" stroke-width=\"2\"/><path d=\"m64.497 90.637h514.53\" clip-path=\"url(#17d60b7b1a4)\" fill=\"none\" stroke=\"#000000\" stroke-linecap=\"square\" stroke-width=\"2\"/><path d=\"m59.862 21.106h-1158.8v139.06h1158.8z\" clip-path=\"url(#17d60b7b1a4)\" fill=\"#ffffff\" stroke=\"#ffffff\" stroke-width=\"1.5\"/><path d=\"m182.24 90.637v-46.354\" clip-path=\"url(#17d60b7b1a4)\" fill=\"none\" stroke=\"#002d9c\" stroke-linecap=\"square\" stroke-width=\"2\"/><path d=\"m321.3 90.637v-46.354\" clip-path=\"url(#17d60b7b1a4)\" fill=\"none\" stroke=\"#002d9c\" stroke-linecap=\"square\" stroke-width=\"2\"/><path d=\"m460.36 90.637v-46.354\" clip-path=\"url(#17d60b7b1a4)\" fill=\"none\" stroke=\"#002d9c\" stroke-linecap=\"square\" stroke-width=\"2\"/><path d=\"m74.463 59.348h30.13v-30.13h-30.13z\" clip-path=\"url(#17d60b7b1a4)\" fill=\"#9f1853\" stroke=\"#9f1853\" stroke-width=\"1.5\"/><path d=\"m74.463 105.7h30.13v-30.13h-30.13z\" clip-path=\"url(#17d60b7b1a4)\" fill=\"#9f1853\" stroke=\"#9f1853\" stroke-width=\"1.5\"/><path d=\"m120.82 59.348h30.13v-30.13h-30.13z\" clip-path=\"url(#17d60b7b1a4)\" fill=\"#33b1ff\" stroke=\"#33b1ff\" stroke-width=\"1.5\"/><path d=\"m120.82 105.7h30.13v-30.13h-30.13z\" clip-path=\"url(#17d60b7b1a4)\" fill=\"#33b1ff\" stroke=\"#33b1ff\" stroke-width=\"1.5\"/><path d=\"m182.24 48.803c1.1986 0 2.3482-0.4762 3.1958-1.3237 0.84753-0.84753 1.3237-1.9972 1.3237-3.1958 0-1.1986-0.4762-2.3482-1.3237-3.1958-0.84753-0.84753-1.9972-1.3237-3.1958-1.3237s-2.3482 0.4762-3.1958 1.3237c-0.84753 0.84753-1.3237 1.9972-1.3237 3.1958 0 1.1986 0.4762 2.3482 1.3237 3.1958 0.84753 0.84753 1.9972 1.3237 3.1958 1.3237z\" clip-path=\"url(#17d60b7b1a4)\" fill=\"#002d9c\" stroke=\"#002d9c\" stroke-width=\"1.5\"/><path d=\"m182.24 101.18c2.7967 0 5.4792-1.1111 7.4568-3.0887 1.9776-1.9776 3.0887-4.6601 3.0887-7.4568 0-2.7967-1.1111-5.4792-3.0887-7.4568-1.9776-1.9776-4.6601-3.0887-7.4568-3.0887s-5.4792 1.1111-7.4568 3.0887c-1.9776 1.9776-3.0887 4.6601-3.0887 7.4568 0 2.7967 1.1111 5.4792 3.0887 7.4568 1.9776 1.9776 4.6601 3.0887 7.4568 3.0887z\" clip-path=\"url(#17d60b7b1a4)\" fill=\"#002d9c\" stroke=\"#002d9c\" stroke-width=\"2\"/><path d=\"m213.53 59.348h30.13v-30.13h-30.13z\" clip-path=\"url(#17d60b7b1a4)\" fill=\"#9f1853\" stroke=\"#9f1853\" stroke-width=\"1.5\"/><path d=\"m213.53 105.7h30.13v-30.13h-30.13z\" clip-path=\"url(#17d60b7b1a4)\" fill=\"#9f1853\" stroke=\"#9f1853\" stroke-width=\"1.5\"/><path d=\"m259.88 59.348h30.13v-30.13h-30.13z\" clip-path=\"url(#17d60b7b1a4)\" fill=\"#33b1ff\" stroke=\"#33b1ff\" stroke-width=\"1.5\"/><path d=\"m259.88 105.7h30.13v-30.13h-30.13z\" clip-path=\"url(#17d60b7b1a4)\" fill=\"#33b1ff\" stroke=\"#33b1ff\" stroke-width=\"1.5\"/><path d=\"m321.3 48.803c1.1986 0 2.3482-0.4762 3.1958-1.3237 0.84753-0.84753 1.3237-1.9972 1.3237-3.1958 0-1.1986-0.4762-2.3482-1.3237-3.1958-0.84753-0.84753-1.9972-1.3237-3.1958-1.3237-1.1986 0-2.3482 0.4762-3.1958 1.3237-0.84753 0.84753-1.3237 1.9972-1.3237 3.1958 0 1.1986 0.4762 2.3482 1.3237 3.1958 0.84753 0.84753 1.9972 1.3237 3.1958 1.3237z\" clip-path=\"url(#17d60b7b1a4)\" fill=\"#002d9c\" stroke=\"#002d9c\" stroke-width=\"1.5\"/><path d=\"m321.3 101.18c2.7967 0 5.4792-1.1111 7.4568-3.0887 1.9776-1.9776 3.0887-4.6601 3.0887-7.4568 0-2.7967-1.1111-5.4792-3.0887-7.4568-1.9776-1.9776-4.6601-3.0887-7.4568-3.0887-2.7967 0-5.4792 1.1111-7.4568 3.0887-1.9776 1.9776-3.0887 4.6601-3.0887 7.4568 0 2.7967 1.1111 5.4792 3.0887 7.4568 1.9776 1.9776 4.6601 3.0887 7.4568 3.0887z\" clip-path=\"url(#17d60b7b1a4)\" fill=\"#002d9c\" stroke=\"#002d9c\" stroke-width=\"2\"/><path d=\"m352.59 59.348h30.13v-30.13h-30.13z\" clip-path=\"url(#17d60b7b1a4)\" fill=\"#9f1853\" stroke=\"#9f1853\" stroke-width=\"1.5\"/><path d=\"m352.59 105.7h30.13v-30.13h-30.13z\" clip-path=\"url(#17d60b7b1a4)\" fill=\"#9f1853\" stroke=\"#9f1853\" stroke-width=\"1.5\"/><path d=\"m398.94 59.348h30.13v-30.13h-30.13z\" clip-path=\"url(#17d60b7b1a4)\" fill=\"#33b1ff\" stroke=\"#33b1ff\" stroke-width=\"1.5\"/><path d=\"m398.94 105.7h30.13v-30.13h-30.13z\" clip-path=\"url(#17d60b7b1a4)\" fill=\"#33b1ff\" stroke=\"#33b1ff\" stroke-width=\"1.5\"/><path d=\"m460.36 48.803c1.1986 0 2.3482-0.4762 3.1958-1.3237s1.3237-1.9972 1.3237-3.1958c0-1.1986-0.4762-2.3482-1.3237-3.1958s-1.9972-1.3237-3.1958-1.3237c-1.1986 0-2.3482 0.4762-3.1958 1.3237-0.84753 0.84753-1.3237 1.9972-1.3237 3.1958 0 1.1986 0.4762 2.3482 1.3237 3.1958 0.84753 0.84753 1.9972 1.3237 3.1958 1.3237z\" clip-path=\"url(#17d60b7b1a4)\" fill=\"#002d9c\" stroke=\"#002d9c\" stroke-width=\"1.5\"/><path d=\"m460.36 101.18c2.7967 0 5.4792-1.1111 7.4568-3.0887 1.9776-1.9776 3.0887-4.6601 3.0887-7.4568 0-2.7967-1.1111-5.4792-3.0887-7.4568-1.9776-1.9776-4.6601-3.0887-7.4568-3.0887-2.7967 0-5.4792 1.1111-7.4568 3.0887-1.9776 1.9776-3.0887 4.6601-3.0887 7.4568 0 2.7967 1.1111 5.4792 3.0887 7.4568 1.9776 1.9776 4.6601 3.0887 7.4568 3.0887z\" clip-path=\"url(#17d60b7b1a4)\" fill=\"#002d9c\" stroke=\"#002d9c\" stroke-width=\"2\"/><path d=\"m491.65 59.348h30.13v-30.13h-30.13z\" clip-path=\"url(#17d60b7b1a4)\" fill=\"#9f1853\" stroke=\"#9f1853\" stroke-width=\"1.5\"/><path d=\"m491.65 105.7h30.13v-30.13h-30.13z\" clip-path=\"url(#17d60b7b1a4)\" fill=\"#9f1853\" stroke=\"#9f1853\" stroke-width=\"1.5\"/><path d=\"m538 59.348h30.13v-30.13h-30.13z\" clip-path=\"url(#17d60b7b1a4)\" fill=\"#33b1ff\" stroke=\"#33b1ff\" stroke-width=\"1.5\"/><path d=\"m538 105.7h30.13v-30.13h-30.13z\" clip-path=\"url(#17d60b7b1a4)\" fill=\"#33b1ff\" stroke=\"#33b1ff\" stroke-width=\"1.5\"/><path d=\"m182.24 96.663v-12.052\" clip-path=\"url(#17d60b7b1a4)\" fill=\"none\" stroke=\"#ffffff\" stroke-linecap=\"square\" stroke-width=\"2\"/><path d=\"m176.21 90.637h12.052\" clip-path=\"url(#17d60b7b1a4)\" fill=\"none\" stroke=\"#ffffff\" stroke-linecap=\"square\" stroke-width=\"2\"/><path d=\"m321.3 96.663v-12.052\" clip-path=\"url(#17d60b7b1a4)\" fill=\"none\" stroke=\"#ffffff\" stroke-linecap=\"square\" stroke-width=\"2\"/><path d=\"m315.27 90.637h12.052\" clip-path=\"url(#17d60b7b1a4)\" fill=\"none\" stroke=\"#ffffff\" stroke-linecap=\"square\" stroke-width=\"2\"/><path d=\"m460.36 96.663v-12.052\" clip-path=\"url(#17d60b7b1a4)\" fill=\"none\" stroke=\"#ffffff\" stroke-linecap=\"square\" stroke-width=\"2\"/><path d=\"m454.33 90.637h12.052\" clip-path=\"url(#17d60b7b1a4)\" fill=\"none\" stroke=\"#ffffff\" stroke-linecap=\"square\" stroke-width=\"2\"/><g clip-path=\"url(#17d60b7b1a4)\"><g transform=\"translate(37.189 48.734) scale(.1625 -.1625)\"><defs><path id=\"DejaVuSans-Oblique-71\" transform=\"scale(.015625)\" d=\"m2669 525q-231-303-546-460-314-156-695-156-531 0-833 358-301 358-301 986 0 506 186 978t533 847q225 244 517 375t614 131q387 0 637-153t363-462l100 525h578l-934-4813h-579l360 1844zm-1778 813q0-463 193-705 194-242 560-242 544 0 928 520t384 1264q0 450-199 689-198 239-569 239-272 0-504-127-231-126-403-370-181-256-286-600-104-343-104-668z\"/><path id=\"DejaVuSans-30\" transform=\"scale(.015625)\" d=\"m2034 4250q-487 0-733-480-245-479-245-1442 0-959 245-1439 246-480 733-480 491 0 736 480 246 480 246 1439 0 963-246 1442-245 480-736 480zm0 500q785 0 1199-621 414-620 414-1801 0-1178-414-1799-414-620-1199-620-784 0-1198 620-414 621-414 1799 0 1181 414 1801 414 621 1198 621z\"/></defs><use xlink:href=\"#DejaVuSans-Oblique-71\"/><use transform=\"translate(63.477 -16.406) scale(.7)\" xlink:href=\"#DejaVuSans-30\"/></g></g><g clip-path=\"url(#17d60b7b1a4)\"><g transform=\"translate(37.189 95.088) scale(.1625 -.1625)\"><defs><path id=\"DejaVuSans-31\" transform=\"scale(.015625)\" d=\"m794 531h1031v3560l-1122-225v575l1116 225h631v-4135h1031v-531h-2687v531z\"/></defs><use xlink:href=\"#DejaVuSans-Oblique-71\"/><use transform=\"translate(63.477 -16.406) scale(.7)\" xlink:href=\"#DejaVuSans-31\"/></g></g><g clip-path=\"url(#17d60b7b1a4)\"><g transform=\"translate(81.415 55.53) scale(.08 -.08)\" fill=\"#ffffff\"><defs><path id=\"DejaVuSans-3b8\" transform=\"scale(.015625)\" d=\"m2953 2219h-1990q46-935 262-1331 269-488 734-488 469 0 729 491 228 431 265 1328zm-9 531q-88 888-256 1200-269 494-729 494-478 0-731-488-200-393-259-1206h1975zm-985 2163q750 0 1179-663 428-659 428-1828 0-1166-428-1828-429-666-1179-666-753 0-1178 666-428 662-428 1828 0 1169 428 1828 425 663 1178 663z\"/><path id=\"DejaVuSans-5b\" transform=\"scale(.015625)\" d=\"m550 4863h1325v-447h-750v-4813h750v-447h-1325v5707z\"/><path id=\"DejaVuSans-5d\" transform=\"scale(.015625)\" d=\"m1947 4863v-5707h-1325v447h747v4813h-747v447h1325z\"/></defs><use xlink:href=\"#DejaVuSans-3b8\"/><use x=\"61.181641\" xlink:href=\"#DejaVuSans-5b\"/><use x=\"100.195312\" xlink:href=\"#DejaVuSans-30\"/><use x=\"163.818359\" xlink:href=\"#DejaVuSans-5d\"/></g></g><g clip-path=\"url(#17d60b7b1a4)\"><g transform=\"translate(81.988 43.351) scale(.13 -.13)\" fill=\"#ffffff\"><defs><path id=\"DejaVuSans-52\" transform=\"scale(.015625)\" d=\"m2841 2188q203-69 395-294t386-619l641-1275h-679l-596 1197q-232 469-449 622t-592 153h-688v-1972h-631v4666h1425q800 0 1194-335 394-334 394-1009 0-441-205-732-205-290-595-402zm-1582 1959v-1656h794q456 0 689 211t233 620-233 617-689 208h-794z\"/><path id=\"DejaVuSans-59\" transform=\"scale(.015625)\" d=\"m-13 4666h679l1293-1919 1285 1919h678l-1650-2444v-2222h-634v2222l-1651 2444z\"/></defs><use transform=\"translate(0 .09375)\" xlink:href=\"#DejaVuSans-52\"/><use transform=\"translate(70.439 -16.312) scale(.7)\" xlink:href=\"#DejaVuSans-59\"/></g></g><g clip-path=\"url(#17d60b7b1a4)\"><g transform=\"translate(81.415 101.88) scale(.08 -.08)\" fill=\"#ffffff\"><use xlink:href=\"#DejaVuSans-3b8\"/><use x=\"61.181641\" xlink:href=\"#DejaVuSans-5b\"/><use x=\"100.195312\" xlink:href=\"#DejaVuSans-31\"/><use x=\"163.818359\" xlink:href=\"#DejaVuSans-5d\"/></g></g><g clip-path=\"url(#17d60b7b1a4)\"><g transform=\"translate(81.988 89.705) scale(.13 -.13)\" fill=\"#ffffff\"><use transform=\"translate(0 .09375)\" xlink:href=\"#DejaVuSans-52\"/><use transform=\"translate(70.439 -16.312) scale(.7)\" xlink:href=\"#DejaVuSans-59\"/></g></g><g clip-path=\"url(#17d60b7b1a4)\"><g transform=\"translate(127.77 55.53) scale(.08 -.08)\"><defs><path id=\"DejaVuSans-32\" transform=\"scale(.015625)\" d=\"m1228 531h2203v-531h-2962v531q359 372 979 998 621 627 780 809 303 340 423 576 121 236 121 464 0 372-261 606-261 235-680 235-297 0-627-103-329-103-704-313v638q381 153 712 231 332 78 607 78 725 0 1156-363 431-362 431-968 0-288-108-546-107-257-392-607-78-91-497-524-418-433-1181-1211z\"/></defs><use xlink:href=\"#DejaVuSans-3b8\"/><use x=\"61.181641\" xlink:href=\"#DejaVuSans-5b\"/><use x=\"100.195312\" xlink:href=\"#DejaVuSans-32\"/><use x=\"163.818359\" xlink:href=\"#DejaVuSans-5d\"/></g></g><g clip-path=\"url(#17d60b7b1a4)\"><g transform=\"translate(127.95 43.351) scale(.13 -.13)\"><defs><path id=\"DejaVuSans-5a\" transform=\"scale(.015625)\" d=\"m359 4666h3666v-482l-2950-3653h3022v-531h-3809v481l2950 3653h-2879v532z\"/></defs><use transform=\"translate(0 .09375)\" xlink:href=\"#DejaVuSans-52\"/><use transform=\"translate(70.439 -16.312) scale(.7)\" xlink:href=\"#DejaVuSans-5a\"/></g></g><g clip-path=\"url(#17d60b7b1a4)\"><g transform=\"translate(127.77 101.88) scale(.08 -.08)\"><defs><path id=\"DejaVuSans-33\" transform=\"scale(.015625)\" d=\"m2597 2516q453-97 707-404 255-306 255-756 0-690-475-1069-475-378-1350-378-293 0-604 58t-642 174v609q262-153 574-231 313-78 654-78 593 0 904 234t311 681q0 413-289 645-289 233-804 233h-544v519h569q465 0 712 186t247 536q0 359-255 551-254 193-729 193-260 0-557-57-297-56-653-174v562q360 100 674 150t592 50q719 0 1137-327 419-326 419-882 0-388-222-655t-631-370z\"/></defs><use xlink:href=\"#DejaVuSans-3b8\"/><use x=\"61.181641\" xlink:href=\"#DejaVuSans-5b\"/><use x=\"100.195312\" xlink:href=\"#DejaVuSans-33\"/><use x=\"163.818359\" xlink:href=\"#DejaVuSans-5d\"/></g></g><g clip-path=\"url(#17d60b7b1a4)\"><g transform=\"translate(127.95 89.705) scale(.13 -.13)\"><use transform=\"translate(0 .09375)\" xlink:href=\"#DejaVuSans-52\"/><use transform=\"translate(70.439 -16.312) scale(.7)\" xlink:href=\"#DejaVuSans-5a\"/></g></g><g clip-path=\"url(#17d60b7b1a4)\"><g transform=\"translate(220.48 55.53) scale(.08 -.08)\" fill=\"#ffffff\"><defs><path id=\"DejaVuSans-34\" transform=\"scale(.015625)\" d=\"m2419 4116-1594-2491h1594v2491zm-166 550h794v-3041h666v-525h-666v-1100h-628v1100h-2106v609l1940 2957z\"/></defs><use xlink:href=\"#DejaVuSans-3b8\"/><use x=\"61.181641\" xlink:href=\"#DejaVuSans-5b\"/><use x=\"100.195312\" xlink:href=\"#DejaVuSans-34\"/><use x=\"163.818359\" xlink:href=\"#DejaVuSans-5d\"/></g></g><g clip-path=\"url(#17d60b7b1a4)\"><g transform=\"translate(221.05 43.351) scale(.13 -.13)\" fill=\"#ffffff\"><use transform=\"translate(0 .09375)\" xlink:href=\"#DejaVuSans-52\"/><use transform=\"translate(70.439 -16.312) scale(.7)\" xlink:href=\"#DejaVuSans-59\"/></g></g><g clip-path=\"url(#17d60b7b1a4)\"><g transform=\"translate(220.48 101.88) scale(.08 -.08)\" fill=\"#ffffff\"><defs><path id=\"DejaVuSans-35\" transform=\"scale(.015625)\" d=\"m691 4666h2478v-532h-1900v-1143q137 47 274 70 138 23 276 23 781 0 1237-428 457-428 457-1159 0-753-469-1171-469-417-1322-417-294 0-599 50-304 50-629 150v635q281-153 581-228t634-75q541 0 856 284 316 284 316 772 0 487-316 771-315 285-856 285-253 0-505-56-251-56-513-175v2344z\"/></defs><use xlink:href=\"#DejaVuSans-3b8\"/><use x=\"61.181641\" xlink:href=\"#DejaVuSans-5b\"/><use x=\"100.195312\" xlink:href=\"#DejaVuSans-35\"/><use x=\"163.818359\" xlink:href=\"#DejaVuSans-5d\"/></g></g><g clip-path=\"url(#17d60b7b1a4)\"><g transform=\"translate(221.05 89.705) scale(.13 -.13)\" fill=\"#ffffff\"><use transform=\"translate(0 .09375)\" xlink:href=\"#DejaVuSans-52\"/><use transform=\"translate(70.439 -16.312) scale(.7)\" xlink:href=\"#DejaVuSans-59\"/></g></g><g clip-path=\"url(#17d60b7b1a4)\"><g transform=\"translate(266.83 55.53) scale(.08 -.08)\"><defs><path id=\"DejaVuSans-36\" transform=\"scale(.015625)\" d=\"m2113 2584q-425 0-674-291-248-290-248-796 0-503 248-796 249-292 674-292t673 292q248 293 248 796 0 506-248 796-248 291-673 291zm1253 1979v-575q-238 112-480 171-242 60-480 60-625 0-955-422-329-422-376-1275 184 272 462 417 279 145 613 145 703 0 1111-427 408-426 408-1160 0-719-425-1154-425-434-1131-434-810 0-1238 620-428 621-428 1799 0 1106 525 1764t1409 658q238 0 480-47t505-140z\"/></defs><use xlink:href=\"#DejaVuSans-3b8\"/><use x=\"61.181641\" xlink:href=\"#DejaVuSans-5b\"/><use x=\"100.195312\" xlink:href=\"#DejaVuSans-36\"/><use x=\"163.818359\" xlink:href=\"#DejaVuSans-5d\"/></g></g><g clip-path=\"url(#17d60b7b1a4)\"><g transform=\"translate(267.01 43.351) scale(.13 -.13)\"><use transform=\"translate(0 .09375)\" xlink:href=\"#DejaVuSans-52\"/><use transform=\"translate(70.439 -16.312) scale(.7)\" xlink:href=\"#DejaVuSans-5a\"/></g></g><g clip-path=\"url(#17d60b7b1a4)\"><g transform=\"translate(266.83 101.88) scale(.08 -.08)\"><defs><path id=\"DejaVuSans-37\" transform=\"scale(.015625)\" d=\"m525 4666h3e3v-269l-1694-4397h-659l1594 4134h-2241v532z\"/></defs><use xlink:href=\"#DejaVuSans-3b8\"/><use x=\"61.181641\" xlink:href=\"#DejaVuSans-5b\"/><use x=\"100.195312\" xlink:href=\"#DejaVuSans-37\"/><use x=\"163.818359\" xlink:href=\"#DejaVuSans-5d\"/></g></g><g clip-path=\"url(#17d60b7b1a4)\"><g transform=\"translate(267.01 89.705) scale(.13 -.13)\"><use transform=\"translate(0 .09375)\" xlink:href=\"#DejaVuSans-52\"/><use transform=\"translate(70.439 -16.312) scale(.7)\" xlink:href=\"#DejaVuSans-5a\"/></g></g><g clip-path=\"url(#17d60b7b1a4)\"><g transform=\"translate(359.54 55.53) scale(.08 -.08)\" fill=\"#ffffff\"><defs><path id=\"DejaVuSans-38\" transform=\"scale(.015625)\" d=\"m2034 2216q-450 0-708-241-257-241-257-662 0-422 257-663 258-241 708-241t709 242q260 243 260 662 0 421-258 662-257 241-711 241zm-631 268q-406 100-633 378-226 279-226 679 0 559 398 884 399 325 1092 325 697 0 1094-325t397-884q0-400-227-679-226-278-629-378 456-106 710-416 255-309 255-755 0-679-414-1042-414-362-1186-362-771 0-1186 362-414 363-414 1042 0 446 256 755 257 310 713 416zm-231 997q0-362 226-565 227-203 636-203 407 0 636 203 230 203 230 565 0 363-230 566-229 203-636 203-409 0-636-203-226-203-226-566z\"/></defs><use xlink:href=\"#DejaVuSans-3b8\"/><use x=\"61.181641\" xlink:href=\"#DejaVuSans-5b\"/><use x=\"100.195312\" xlink:href=\"#DejaVuSans-38\"/><use x=\"163.818359\" xlink:href=\"#DejaVuSans-5d\"/></g></g><g clip-path=\"url(#17d60b7b1a4)\"><g transform=\"translate(360.11 43.351) scale(.13 -.13)\" fill=\"#ffffff\"><use transform=\"translate(0 .09375)\" xlink:href=\"#DejaVuSans-52\"/><use transform=\"translate(70.439 -16.312) scale(.7)\" xlink:href=\"#DejaVuSans-59\"/></g></g><g clip-path=\"url(#17d60b7b1a4)\"><g transform=\"translate(359.54 101.88) scale(.08 -.08)\" fill=\"#ffffff\"><defs><path id=\"DejaVuSans-39\" transform=\"scale(.015625)\" d=\"m703 97v575q238-113 481-172 244-59 479-59 625 0 954 420 330 420 377 1277-181-269-460-413-278-144-615-144-700 0-1108 423-408 424-408 1159 0 718 425 1152 425 435 1131 435 810 0 1236-621 427-620 427-1801 0-1103-524-1761-523-658-1407-658-238 0-482 47-243 47-506 141zm1256 1978q425 0 673 290 249 291 249 798 0 503-249 795-248 292-673 292t-673-292-248-795q0-507 248-798 248-290 673-290z\"/></defs><use xlink:href=\"#DejaVuSans-3b8\"/><use x=\"61.181641\" xlink:href=\"#DejaVuSans-5b\"/><use x=\"100.195312\" xlink:href=\"#DejaVuSans-39\"/><use x=\"163.818359\" xlink:href=\"#DejaVuSans-5d\"/></g></g><g clip-path=\"url(#17d60b7b1a4)\"><g transform=\"translate(360.11 89.705) scale(.13 -.13)\" fill=\"#ffffff\"><use transform=\"translate(0 .09375)\" xlink:href=\"#DejaVuSans-52\"/><use transform=\"translate(70.439 -16.312) scale(.7)\" xlink:href=\"#DejaVuSans-59\"/></g></g><g clip-path=\"url(#17d60b7b1a4)\"><g transform=\"translate(403.35 55.53) scale(.08 -.08)\"><use xlink:href=\"#DejaVuSans-3b8\"/><use x=\"61.181641\" xlink:href=\"#DejaVuSans-5b\"/><use x=\"100.195312\" xlink:href=\"#DejaVuSans-31\"/><use x=\"163.818359\" xlink:href=\"#DejaVuSans-30\"/><use x=\"227.441406\" xlink:href=\"#DejaVuSans-5d\"/></g></g><g clip-path=\"url(#17d60b7b1a4)\"><g transform=\"translate(406.08 43.351) scale(.13 -.13)\"><use transform=\"translate(0 .09375)\" xlink:href=\"#DejaVuSans-52\"/><use transform=\"translate(70.439 -16.312) scale(.7)\" xlink:href=\"#DejaVuSans-5a\"/></g></g><g clip-path=\"url(#17d60b7b1a4)\"><g transform=\"translate(403.35 101.88) scale(.08 -.08)\"><use xlink:href=\"#DejaVuSans-3b8\"/><use x=\"61.181641\" xlink:href=\"#DejaVuSans-5b\"/><use x=\"100.195312\" xlink:href=\"#DejaVuSans-31\"/><use x=\"163.818359\" xlink:href=\"#DejaVuSans-31\"/><use x=\"227.441406\" xlink:href=\"#DejaVuSans-5d\"/></g></g><g clip-path=\"url(#17d60b7b1a4)\"><g transform=\"translate(406.08 89.705) scale(.13 -.13)\"><use transform=\"translate(0 .09375)\" xlink:href=\"#DejaVuSans-52\"/><use transform=\"translate(70.439 -16.312) scale(.7)\" xlink:href=\"#DejaVuSans-5a\"/></g></g><g clip-path=\"url(#17d60b7b1a4)\"><g transform=\"translate(496.06 55.53) scale(.08 -.08)\" fill=\"#ffffff\"><use xlink:href=\"#DejaVuSans-3b8\"/><use x=\"61.181641\" xlink:href=\"#DejaVuSans-5b\"/><use x=\"100.195312\" xlink:href=\"#DejaVuSans-31\"/><use x=\"163.818359\" xlink:href=\"#DejaVuSans-32\"/><use x=\"227.441406\" xlink:href=\"#DejaVuSans-5d\"/></g></g><g clip-path=\"url(#17d60b7b1a4)\"><g transform=\"translate(499.17 43.351) scale(.13 -.13)\" fill=\"#ffffff\"><use transform=\"translate(0 .09375)\" xlink:href=\"#DejaVuSans-52\"/><use transform=\"translate(70.439 -16.312) scale(.7)\" xlink:href=\"#DejaVuSans-59\"/></g></g><g clip-path=\"url(#17d60b7b1a4)\"><g transform=\"translate(496.06 101.88) scale(.08 -.08)\" fill=\"#ffffff\"><use xlink:href=\"#DejaVuSans-3b8\"/><use x=\"61.181641\" xlink:href=\"#DejaVuSans-5b\"/><use x=\"100.195312\" xlink:href=\"#DejaVuSans-31\"/><use x=\"163.818359\" xlink:href=\"#DejaVuSans-33\"/><use x=\"227.441406\" xlink:href=\"#DejaVuSans-5d\"/></g></g><g clip-path=\"url(#17d60b7b1a4)\"><g transform=\"translate(499.17 89.705) scale(.13 -.13)\" fill=\"#ffffff\"><use transform=\"translate(0 .09375)\" xlink:href=\"#DejaVuSans-52\"/><use transform=\"translate(70.439 -16.312) scale(.7)\" xlink:href=\"#DejaVuSans-59\"/></g></g><g clip-path=\"url(#17d60b7b1a4)\"><g transform=\"translate(542.41 55.53) scale(.08 -.08)\"><use xlink:href=\"#DejaVuSans-3b8\"/><use x=\"61.181641\" xlink:href=\"#DejaVuSans-5b\"/><use x=\"100.195312\" xlink:href=\"#DejaVuSans-31\"/><use x=\"163.818359\" xlink:href=\"#DejaVuSans-34\"/><use x=\"227.441406\" xlink:href=\"#DejaVuSans-5d\"/></g></g><g clip-path=\"url(#17d60b7b1a4)\"><g transform=\"translate(545.14 43.351) scale(.13 -.13)\"><use transform=\"translate(0 .09375)\" xlink:href=\"#DejaVuSans-52\"/><use transform=\"translate(70.439 -16.312) scale(.7)\" xlink:href=\"#DejaVuSans-5a\"/></g></g><g clip-path=\"url(#17d60b7b1a4)\"><g transform=\"translate(542.41 101.88) scale(.08 -.08)\"><use xlink:href=\"#DejaVuSans-3b8\"/><use x=\"61.181641\" xlink:href=\"#DejaVuSans-5b\"/><use x=\"100.195312\" xlink:href=\"#DejaVuSans-31\"/><use x=\"163.818359\" xlink:href=\"#DejaVuSans-35\"/><use x=\"227.441406\" xlink:href=\"#DejaVuSans-5d\"/></g></g><g clip-path=\"url(#17d60b7b1a4)\"><g transform=\"translate(545.14 89.705) scale(.13 -.13)\"><use transform=\"translate(0 .09375)\" xlink:href=\"#DejaVuSans-52\"/><use transform=\"translate(70.439 -16.312) scale(.7)\" xlink:href=\"#DejaVuSans-5a\"/></g></g><defs><clipPath id=\"17d60b7b1a4\"><rect x=\"7.2\" y=\"7.2\" width=\"576.46\" height=\"111.25\"/></clipPath></defs></svg>"
      ],
      "text/plain": [
       "<Figure size 1039.79x200.667 with 1 Axes>"
      ]
     },
     "execution_count": 4,
     "metadata": {},
     "output_type": "execute_result"
    }
   ],
   "source": [
    "ansatz = EfficientSU2(hamiltonian.num_qubits)\n",
    "ansatz.decompose().draw(\"mpl\", style=\"iqp\")"
   ]
  },
  {
   "attachments": {},
   "cell_type": "markdown",
   "id": "5bd1f7da",
   "metadata": {},
   "source": [
    "From the previous figure we see that our ansatz circuit is defined by a vector of parameters, $\\theta_{i}$, with the total number given by:"
   ]
  },
  {
   "cell_type": "code",
   "execution_count": 5,
   "id": "aa325696",
   "metadata": {},
   "outputs": [
    {
     "data": {
      "text/plain": [
       "16"
      ]
     },
     "execution_count": 5,
     "metadata": {},
     "output_type": "execute_result"
    }
   ],
   "source": [
    "num_params = ansatz.num_parameters\n",
    "num_params"
   ]
  },
  {
   "cell_type": "markdown",
   "id": "ac6f36e3",
   "metadata": {},
   "source": [
    "## Step 2: Optimize problem for quantum execution"
   ]
  },
  {
   "cell_type": "markdown",
   "id": "ed01c675-6506-4779-bf71-74f0de9212fb",
   "metadata": {},
   "source": [
    "To reduce the total job execution time, Qiskit primitives only accept circuits (ansatz) and observables (Hamiltonian) that conform to the instructions and connectivity supported by the target QPU (referred to as instruction set architecture (ISA) circuits and observables)."
   ]
  },
  {
   "cell_type": "markdown",
   "id": "3390069d-572c-472c-abb5-9cde12fd82a2",
   "metadata": {},
   "source": [
    "### ISA circuit"
   ]
  },
  {
   "cell_type": "markdown",
   "id": "ad6ddd99-b680-4ac4-b2d8-c0ac6266e6e8",
   "metadata": {},
   "source": [
    "Schedule a series of [`qiskit.transpiler`](https://docs.quantum-computing.ibm.com/api/qiskit/transpiler) passes to optimize the circuit for a selected backend and make it compatible with the backend's ISA. This can be easily done with a preset pass manager from `qiskit.transpiler` and its `optimization_level` parameter.\n",
    "\n",
    "The lowest optimization level does the minimum needed to get the circuit running on the device; it maps the circuit qubits to the device qubits and adds swap gates to allow all two-qubit operations. The highest optimization level is much smarter and uses lots of tricks to reduce the overall gate count. Since multi-qubit gates have high error rates and qubits decohere over time, the shorter circuits should give better results."
   ]
  },
  {
   "cell_type": "code",
   "execution_count": 6,
   "id": "1834cb22",
   "metadata": {},
   "outputs": [],
   "source": [
    "from qiskit.transpiler.preset_passmanagers import generate_preset_pass_manager\n",
    "\n",
    "target = backend.target\n",
    "pm = generate_preset_pass_manager(target=target, optimization_level=3)\n",
    "\n",
    "ansatz_isa = pm.run(ansatz)"
   ]
  },
  {
   "cell_type": "code",
   "execution_count": 7,
   "id": "20d9923c",
   "metadata": {},
   "outputs": [
    {
     "data": {
      "image/svg+xml": [
       "<?xml version=\"1.0\" encoding=\"UTF-8\"?><!DOCTYPE svg  PUBLIC '-//W3C//DTD SVG 1.1//EN'  'http://www.w3.org/Graphics/SVG/1.1/DTD/svg11.dtd'><svg width=\"1279.1pt\" height=\"272.31pt\" version=\"1.1\" viewBox=\"0 0 1279.1 272.31\" xmlns=\"http://www.w3.org/2000/svg\" xmlns:xlink=\"http://www.w3.org/1999/xlink\"><defs><style type=\"text/css\">*{stroke-linejoin: round; stroke-linecap: butt}</style></defs><path d=\"m0 272.31h1279.1v-272.31h-1279.1z\" fill=\"#ffffff\"/><path d=\"m103.81 51.882h1163.5\" clip-path=\"url(#01591c92d6a)\" fill=\"none\" stroke=\"#000000\" stroke-linecap=\"square\" stroke-width=\"2\"/><path d=\"m103.81 98.236h1163.5\" clip-path=\"url(#01591c92d6a)\" fill=\"none\" stroke=\"#000000\" stroke-linecap=\"square\" stroke-width=\"2\"/><path d=\"m1267.3 51.882v46.354\" clip-path=\"url(#01591c92d6a)\" fill=\"none\" stroke=\"#000000\" stroke-linecap=\"square\" stroke-width=\"1.5\"/><path d=\"m103.81 190.94h1163.5\" clip-path=\"url(#01591c92d6a)\" fill=\"none\" stroke=\"#000000\" stroke-linecap=\"square\" stroke-width=\"2\"/><path d=\"m103.81 237.3h1163.5\" clip-path=\"url(#01591c92d6a)\" fill=\"none\" stroke=\"#000000\" stroke-linecap=\"square\" stroke-width=\"2\"/><path d=\"m103.35 190.94v46.354\" clip-path=\"url(#01591c92d6a)\" fill=\"none\" stroke=\"#000000\" stroke-linecap=\"square\" stroke-width=\"1.5\"/><g transform=\"translate(7.2 14.798) scale(.1 -.1)\"><defs><path id=\"DejaVuSans-47\" transform=\"scale(.015625)\" d=\"m3809 666v1253h-1031v519h1656v-2004q-365-259-806-392-440-133-940-133-1094 0-1712 639-617 640-617 1780 0 1144 617 1783 618 639 1712 639 456 0 867-113 411-112 758-331v-672q-350 297-744 447t-828 150q-857 0-1287-478-429-478-429-1425 0-944 429-1422 430-478 1287-478 334 0 596 58 263 58 472 180z\"/><path id=\"DejaVuSans-6c\" transform=\"scale(.015625)\" d=\"m603 4863h575v-4863h-575v4863z\"/><path id=\"DejaVuSans-6f\" transform=\"scale(.015625)\" d=\"m1959 3097q-462 0-731-361t-269-989 267-989q268-361 733-361 460 0 728 362 269 363 269 988 0 622-269 986-268 364-728 364zm0 487q750 0 1178-488 429-487 429-1349 0-859-429-1349-428-489-1178-489-753 0-1180 489-426 490-426 1349 0 862 426 1349 427 488 1180 488z\"/><path id=\"DejaVuSans-62\" transform=\"scale(.015625)\" d=\"m3116 1747q0 634-261 995t-717 361q-457 0-718-361t-261-995 261-995 718-361q456 0 717 361t261 995zm-1957 1222q182 312 458 463 277 152 661 152 638 0 1036-506 399-506 399-1331t-399-1332q-398-506-1036-506-384 0-661 152-276 152-458 464v-525h-578v4863h578v-1894z\"/><path id=\"DejaVuSans-61\" transform=\"scale(.015625)\" d=\"m2194 1759q-697 0-966-159t-269-544q0-306 202-486 202-179 548-179 479 0 768 339t289 901v128h-572zm1147 238v-1997h-575v531q-197-318-491-470t-719-152q-537 0-855 302-317 302-317 808 0 590 395 890 396 300 1180 300h807v57q0 397-261 614t-733 217q-300 0-585-72-284-72-546-216v532q315 122 612 182 297 61 578 61 760 0 1135-394 375-393 375-1193z\"/><path id=\"DejaVuSans-50\" transform=\"scale(.015625)\" d=\"m1259 4147v-1753h794q441 0 681 228 241 228 241 650 0 419-241 647-240 228-681 228h-794zm-631 519h1425q785 0 1186-355 402-355 402-1039 0-691-402-1044-401-353-1186-353h-794v-1875h-631v4666z\"/><path id=\"DejaVuSans-68\" transform=\"scale(.015625)\" d=\"m3513 2113v-2113h-575v2094q0 497-194 743-194 247-581 247-466 0-735-297-269-296-269-809v-1978h-578v4863h578v-1907q207 316 486 472 280 156 646 156 603 0 912-373 310-373 310-1098z\"/><path id=\"DejaVuSans-73\" transform=\"scale(.015625)\" d=\"m2834 3397v-544q-243 125-506 187-262 63-544 63-428 0-642-131t-214-394q0-200 153-314t616-217l197-44q612-131 870-370t258-667q0-488-386-773-386-284-1061-284-281 0-586 55t-642 164v594q319-166 628-249 309-82 613-82 406 0 624 139 219 139 219 392 0 234-158 359-157 125-692 241l-200 47q-534 112-772 345-237 233-237 639 0 494 350 762 350 269 994 269 318 0 599-47 282-46 519-140z\"/><path id=\"DejaVuSans-65\" transform=\"scale(.015625)\" d=\"m3597 1894v-281h-2644q38-594 358-905t892-311q331 0 642 81t618 244v-544q-310-131-635-200t-659-69q-838 0-1327 487-489 488-489 1320 0 859 464 1363 464 505 1252 505 706 0 1117-455 411-454 411-1235zm-575 169q-6 471-264 752-258 282-683 282-481 0-770-272t-333-766l2050 4z\"/><path id=\"DejaVuSans-3a\" transform=\"scale(.015625)\" d=\"m750 794h659v-794h-659v794zm0 2515h659v-793h-659v793z\"/><path id=\"DejaVuSans-Oblique-3c0\" transform=\"scale(.015625)\" d=\"m584 3500h3354l-113-575h-441l-418-2150q-44-225 15-325 57-97 228-97 47 0 116 10 72 6 94 9l-81-416q-116-40-235-59-122-19-237-19-375 0-478 203-104 207 3 757l406 2087h-1291l-568-2925h-588l569 2925h-447l112 575z\"/></defs><use transform=\"translate(0 .015625)\" xlink:href=\"#DejaVuSans-47\"/><use transform=\"translate(77.49 .015625)\" xlink:href=\"#DejaVuSans-6c\"/><use transform=\"translate(105.27 .015625)\" xlink:href=\"#DejaVuSans-6f\"/><use transform=\"translate(166.46 .015625)\" xlink:href=\"#DejaVuSans-62\"/><use transform=\"translate(229.93 .015625)\" xlink:href=\"#DejaVuSans-61\"/><use transform=\"translate(291.21 .015625)\" xlink:href=\"#DejaVuSans-6c\"/><use transform=\"translate(318.99 .015625)\" xlink:href=\"#DejaVuSans-20\"/><use transform=\"translate(350.78 .015625)\" xlink:href=\"#DejaVuSans-50\"/><use transform=\"translate(411.08 .015625)\" xlink:href=\"#DejaVuSans-68\"/><use transform=\"translate(474.46 .015625)\" xlink:href=\"#DejaVuSans-61\"/><use transform=\"translate(535.74 .015625)\" xlink:href=\"#DejaVuSans-73\"/><use transform=\"translate(587.84 .015625)\" xlink:href=\"#DejaVuSans-65\"/><use transform=\"translate(649.37 .015625)\" xlink:href=\"#DejaVuSans-3a\"/><use transform=\"translate(683.06 .015625)\" xlink:href=\"#DejaVuSans-20\"/><use transform=\"translate(714.84 .015625)\" xlink:href=\"#DejaVuSans-Oblique-3c0\"/></g><path d=\"m99.176 28.705h-1158.8v139.06h1158.8z\" clip-path=\"url(#01591c92d6a)\" fill=\"#ffffff\" stroke=\"#ffffff\" stroke-width=\"1.5\"/><path d=\"m99.176 167.77h-1158.8v278.12h1158.8z\" clip-path=\"url(#01591c92d6a)\" fill=\"#ffffff\" stroke=\"#ffffff\" stroke-width=\"1.5\"/><path d=\"m113.78 66.947h30.13v-30.13h-30.13z\" clip-path=\"url(#01591c92d6a)\" fill=\"#9f1853\" stroke=\"#9f1853\" stroke-width=\"1.5\"/><path d=\"m113.78 113.3h30.13v-30.13h-30.13z\" clip-path=\"url(#01591c92d6a)\" fill=\"#9f1853\" stroke=\"#9f1853\" stroke-width=\"1.5\"/><path d=\"m158.01 66.947h34.376v-30.13h-34.376z\" clip-path=\"url(#01591c92d6a)\" fill=\"#33b1ff\" stroke=\"#33b1ff\" stroke-width=\"1.5\"/><path d=\"m158.01 113.3h34.376v-30.13h-34.376z\" clip-path=\"url(#01591c92d6a)\" fill=\"#33b1ff\" stroke=\"#33b1ff\" stroke-width=\"1.5\"/><path d=\"m206.49 66.947h30.13v-30.13h-30.13z\" clip-path=\"url(#01591c92d6a)\" fill=\"#9f1853\" stroke=\"#9f1853\" stroke-width=\"1.5\"/><path d=\"m206.49 113.3h30.13v-30.13h-30.13z\" clip-path=\"url(#01591c92d6a)\" fill=\"#9f1853\" stroke=\"#9f1853\" stroke-width=\"1.5\"/><path d=\"m252.84 66.947h30.13v-30.13h-30.13z\" clip-path=\"url(#01591c92d6a)\" fill=\"#33b1ff\" stroke=\"#33b1ff\" stroke-width=\"1.5\"/><path d=\"m252.84 113.3h30.13v-30.13h-30.13z\" clip-path=\"url(#01591c92d6a)\" fill=\"#33b1ff\" stroke=\"#33b1ff\" stroke-width=\"1.5\"/><path d=\"m299.19 66.947h30.13v-30.13h-30.13z\" clip-path=\"url(#01591c92d6a)\" fill=\"#33b1ff\" stroke=\"#33b1ff\" stroke-width=\"1.5\"/><path d=\"m299.19 113.3h30.13v-30.13h-30.13z\" clip-path=\"url(#01591c92d6a)\" fill=\"#33b1ff\" stroke=\"#33b1ff\" stroke-width=\"1.5\"/><path d=\"m345.55 66.947h30.13v-30.13h-30.13z\" clip-path=\"url(#01591c92d6a)\" fill=\"#33b1ff\" stroke=\"#33b1ff\" stroke-width=\"1.5\"/><path d=\"m345.55 113.3h30.13v-30.13h-30.13z\" clip-path=\"url(#01591c92d6a)\" fill=\"#33b1ff\" stroke=\"#33b1ff\" stroke-width=\"1.5\"/><path d=\"m391.9 113.3h30.13v-30.13h-30.13z\" clip-path=\"url(#01591c92d6a)\" fill=\"#9f1853\" stroke=\"#9f1853\" stroke-width=\"1.5\"/><path d=\"m438.26 113.3h30.13v-30.13h-30.13z\" clip-path=\"url(#01591c92d6a)\" fill=\"#33b1ff\" stroke=\"#33b1ff\" stroke-width=\"1.5\"/><path d=\"m483.75 113.3h31.85v-76.484h-31.85z\" clip-path=\"url(#01591c92d6a)\" fill=\"#9f1853\" stroke=\"#9f1853\" stroke-width=\"1.5\"/><path d=\"m530.96 66.947h30.13v-30.13h-30.13z\" clip-path=\"url(#01591c92d6a)\" fill=\"#33b1ff\" stroke=\"#33b1ff\" stroke-width=\"1.5\"/><path d=\"m530.96 113.3h30.13v-30.13h-30.13z\" clip-path=\"url(#01591c92d6a)\" fill=\"#9f1853\" stroke=\"#9f1853\" stroke-width=\"1.5\"/><path d=\"m577.32 66.947h30.13v-30.13h-30.13z\" clip-path=\"url(#01591c92d6a)\" fill=\"#9f1853\" stroke=\"#9f1853\" stroke-width=\"1.5\"/><path d=\"m575.19 113.3h34.376v-30.13h-34.376z\" clip-path=\"url(#01591c92d6a)\" fill=\"#33b1ff\" stroke=\"#33b1ff\" stroke-width=\"1.5\"/><path d=\"m623.67 66.947h30.13v-30.13h-30.13z\" clip-path=\"url(#01591c92d6a)\" fill=\"#33b1ff\" stroke=\"#33b1ff\" stroke-width=\"1.5\"/><path d=\"m623.67 113.3h30.13v-30.13h-30.13z\" clip-path=\"url(#01591c92d6a)\" fill=\"#9f1853\" stroke=\"#9f1853\" stroke-width=\"1.5\"/><path d=\"m667.85 66.947h34.473v-30.13h-34.473z\" clip-path=\"url(#01591c92d6a)\" fill=\"#33b1ff\" stroke=\"#33b1ff\" stroke-width=\"1.5\"/><path d=\"m670.03 113.3h30.13v-30.13h-30.13z\" clip-path=\"url(#01591c92d6a)\" fill=\"#33b1ff\" stroke=\"#33b1ff\" stroke-width=\"1.5\"/><path d=\"m716.38 66.947h30.13v-30.13h-30.13z\" clip-path=\"url(#01591c92d6a)\" fill=\"#9f1853\" stroke=\"#9f1853\" stroke-width=\"1.5\"/><path d=\"m716.38 113.3h30.13v-30.13h-30.13z\" clip-path=\"url(#01591c92d6a)\" fill=\"#33b1ff\" stroke=\"#33b1ff\" stroke-width=\"1.5\"/><path d=\"m762.73 66.947h30.13v-30.13h-30.13z\" clip-path=\"url(#01591c92d6a)\" fill=\"#33b1ff\" stroke=\"#33b1ff\" stroke-width=\"1.5\"/><path d=\"m762.73 113.3h30.13v-30.13h-30.13z\" clip-path=\"url(#01591c92d6a)\" fill=\"#33b1ff\" stroke=\"#33b1ff\" stroke-width=\"1.5\"/><path d=\"m809.09 66.947h30.13v-30.13h-30.13z\" clip-path=\"url(#01591c92d6a)\" fill=\"#33b1ff\" stroke=\"#33b1ff\" stroke-width=\"1.5\"/><path d=\"m809.09 113.3h30.13v-30.13h-30.13z\" clip-path=\"url(#01591c92d6a)\" fill=\"#9f1853\" stroke=\"#9f1853\" stroke-width=\"1.5\"/><path d=\"m855.44 66.947h30.13v-30.13h-30.13z\" clip-path=\"url(#01591c92d6a)\" fill=\"#33b1ff\" stroke=\"#33b1ff\" stroke-width=\"1.5\"/><path d=\"m855.44 113.3h30.13v-30.13h-30.13z\" clip-path=\"url(#01591c92d6a)\" fill=\"#33b1ff\" stroke=\"#33b1ff\" stroke-width=\"1.5\"/><path d=\"m900.94 113.3h31.85v-76.484h-31.85z\" clip-path=\"url(#01591c92d6a)\" fill=\"#9f1853\" stroke=\"#9f1853\" stroke-width=\"1.5\"/><path d=\"m948.15 66.947h30.13v-30.13h-30.13z\" clip-path=\"url(#01591c92d6a)\" fill=\"#33b1ff\" stroke=\"#33b1ff\" stroke-width=\"1.5\"/><path d=\"m948.15 113.3h30.13v-30.13h-30.13z\" clip-path=\"url(#01591c92d6a)\" fill=\"#9f1853\" stroke=\"#9f1853\" stroke-width=\"1.5\"/><path d=\"m994.5 66.947h30.13v-30.13h-30.13z\" clip-path=\"url(#01591c92d6a)\" fill=\"#9f1853\" stroke=\"#9f1853\" stroke-width=\"1.5\"/><path d=\"m992.33 113.3h34.473v-30.13h-34.473z\" clip-path=\"url(#01591c92d6a)\" fill=\"#33b1ff\" stroke=\"#33b1ff\" stroke-width=\"1.5\"/><path d=\"m1040.9 66.947h30.13v-30.13h-30.13z\" clip-path=\"url(#01591c92d6a)\" fill=\"#33b1ff\" stroke=\"#33b1ff\" stroke-width=\"1.5\"/><path d=\"m1040.9 113.3h30.13v-30.13h-30.13z\" clip-path=\"url(#01591c92d6a)\" fill=\"#9f1853\" stroke=\"#9f1853\" stroke-width=\"1.5\"/><path d=\"m1085 66.947h34.473v-30.13h-34.473z\" clip-path=\"url(#01591c92d6a)\" fill=\"#33b1ff\" stroke=\"#33b1ff\" stroke-width=\"1.5\"/><path d=\"m1087.2 113.3h30.13v-30.13h-30.13z\" clip-path=\"url(#01591c92d6a)\" fill=\"#33b1ff\" stroke=\"#33b1ff\" stroke-width=\"1.5\"/><path d=\"m1133.6 66.947h30.13v-30.13h-30.13z\" clip-path=\"url(#01591c92d6a)\" fill=\"#9f1853\" stroke=\"#9f1853\" stroke-width=\"1.5\"/><path d=\"m1133.6 113.3h30.13v-30.13h-30.13z\" clip-path=\"url(#01591c92d6a)\" fill=\"#33b1ff\" stroke=\"#33b1ff\" stroke-width=\"1.5\"/><path d=\"m1179.9 66.947h30.13v-30.13h-30.13z\" clip-path=\"url(#01591c92d6a)\" fill=\"#33b1ff\" stroke=\"#33b1ff\" stroke-width=\"1.5\"/><path d=\"m1179.9 113.3h30.13v-30.13h-30.13z\" clip-path=\"url(#01591c92d6a)\" fill=\"#33b1ff\" stroke=\"#33b1ff\" stroke-width=\"1.5\"/><path d=\"m1226.3 66.947h30.13v-30.13h-30.13z\" clip-path=\"url(#01591c92d6a)\" fill=\"#33b1ff\" stroke=\"#33b1ff\" stroke-width=\"1.5\"/><path d=\"m1226.3 113.3h30.13v-30.13h-30.13z\" clip-path=\"url(#01591c92d6a)\" fill=\"#9f1853\" stroke=\"#9f1853\" stroke-width=\"1.5\"/><path d=\"m113.78 206.01h30.13v-30.13h-30.13z\" clip-path=\"url(#01591c92d6a)\" fill=\"#33b1ff\" stroke=\"#33b1ff\" stroke-width=\"1.5\"/><path d=\"m113.78 252.36h30.13v-30.13h-30.13z\" clip-path=\"url(#01591c92d6a)\" fill=\"#33b1ff\" stroke=\"#33b1ff\" stroke-width=\"1.5\"/><path d=\"m159.27 252.36h31.85v-76.484h-31.85z\" clip-path=\"url(#01591c92d6a)\" fill=\"#9f1853\" stroke=\"#9f1853\" stroke-width=\"1.5\"/><path d=\"m206.49 206.01h30.13v-30.13h-30.13z\" clip-path=\"url(#01591c92d6a)\" fill=\"#33b1ff\" stroke=\"#33b1ff\" stroke-width=\"1.5\"/><path d=\"m206.49 252.36h30.13v-30.13h-30.13z\" clip-path=\"url(#01591c92d6a)\" fill=\"#9f1853\" stroke=\"#9f1853\" stroke-width=\"1.5\"/><path d=\"m252.84 206.01h30.13v-30.13h-30.13z\" clip-path=\"url(#01591c92d6a)\" fill=\"#9f1853\" stroke=\"#9f1853\" stroke-width=\"1.5\"/><path d=\"m248.01 252.36h39.786v-30.13h-39.786z\" clip-path=\"url(#01591c92d6a)\" fill=\"#33b1ff\" stroke=\"#33b1ff\" stroke-width=\"1.5\"/><path d=\"m299.19 206.01h30.13v-30.13h-30.13z\" clip-path=\"url(#01591c92d6a)\" fill=\"#33b1ff\" stroke=\"#33b1ff\" stroke-width=\"1.5\"/><path d=\"m299.19 252.36h30.13v-30.13h-30.13z\" clip-path=\"url(#01591c92d6a)\" fill=\"#9f1853\" stroke=\"#9f1853\" stroke-width=\"1.5\"/><path d=\"m340.67 206.01h39.883v-30.13h-39.883z\" clip-path=\"url(#01591c92d6a)\" fill=\"#33b1ff\" stroke=\"#33b1ff\" stroke-width=\"1.5\"/><path d=\"m345.55 252.36h30.13v-30.13h-30.13z\" clip-path=\"url(#01591c92d6a)\" fill=\"#33b1ff\" stroke=\"#33b1ff\" stroke-width=\"1.5\"/><path d=\"m391.9 206.01h30.13v-30.13h-30.13z\" clip-path=\"url(#01591c92d6a)\" fill=\"#9f1853\" stroke=\"#9f1853\" stroke-width=\"1.5\"/><path d=\"m391.9 252.36h30.13v-30.13h-30.13z\" clip-path=\"url(#01591c92d6a)\" fill=\"#33b1ff\" stroke=\"#33b1ff\" stroke-width=\"1.5\"/><path d=\"m438.26 206.01h30.13v-30.13h-30.13z\" clip-path=\"url(#01591c92d6a)\" fill=\"#33b1ff\" stroke=\"#33b1ff\" stroke-width=\"1.5\"/><path d=\"m484.61 206.01h30.13v-30.13h-30.13z\" clip-path=\"url(#01591c92d6a)\" fill=\"#33b1ff\" stroke=\"#33b1ff\" stroke-width=\"1.5\"/><g clip-path=\"url(#01591c92d6a)\"><g transform=\"translate(27.103 56.333) scale(.1625 -.1625)\"><defs><path id=\"DejaVuSans-Oblique-71\" transform=\"scale(.015625)\" d=\"m2669 525q-231-303-546-460-314-156-695-156-531 0-833 358-301 358-301 986 0 506 186 978t533 847q225 244 517 375t614 131q387 0 637-153t363-462l100 525h578l-934-4813h-579l360 1844zm-1778 813q0-463 193-705 194-242 560-242 544 0 928 520t384 1264q0 450-199 689-198 239-569 239-272 0-504-127-231-126-403-370-181-256-286-600-104-343-104-668z\"/><path id=\"DejaVuSans-30\" transform=\"scale(.015625)\" d=\"m2034 4250q-487 0-733-480-245-479-245-1442 0-959 245-1439 246-480 733-480 491 0 736 480 246 480 246 1439 0 963-246 1442-245 480-736 480zm0 500q785 0 1199-621 414-620 414-1801 0-1178-414-1799-414-620-1199-620-784 0-1198 620-414 621-414 1799 0 1181 414 1801 414 621 1198 621z\"/><path id=\"DejaVuSans-21a6\" transform=\"scale(.015625)\" d=\"m4175 1741h-3278v-1078h-531v2687h531v-1078h3278l-728 728 375 375 1228-1228v-281l-1228-1228-375 375 728 728z\"/><path id=\"DejaVuSans-31\" transform=\"scale(.015625)\" d=\"m794 531h1031v3560l-1122-225v575l1116 225h631v-4135h1031v-531h-2687v531z\"/><path id=\"DejaVuSans-32\" transform=\"scale(.015625)\" d=\"m1228 531h2203v-531h-2962v531q359 372 979 998 621 627 780 809 303 340 423 576 121 236 121 464 0 372-261 606-261 235-680 235-297 0-627-103-329-103-704-313v638q381 153 712 231 332 78 607 78 725 0 1156-363 431-362 431-968 0-288-108-546-107-257-392-607-78-91-497-524-418-433-1181-1211z\"/></defs><use transform=\"translate(0 .78125)\" xlink:href=\"#DejaVuSans-Oblique-71\"/><use transform=\"translate(63.477 -15.625) scale(.7)\" xlink:href=\"#DejaVuSans-30\"/><use transform=\"translate(157.29 .78125)\" xlink:href=\"#DejaVuSans-21a6\"/><use transform=\"translate(287.62 .78125)\" xlink:href=\"#DejaVuSans-31\"/><use transform=\"translate(351.24 .78125)\" xlink:href=\"#DejaVuSans-32\"/></g></g><g clip-path=\"url(#01591c92d6a)\"><g transform=\"translate(27.103 102.69) scale(.1625 -.1625)\"><defs><path id=\"DejaVuSans-33\" transform=\"scale(.015625)\" d=\"m2597 2516q453-97 707-404 255-306 255-756 0-690-475-1069-475-378-1350-378-293 0-604 58t-642 174v609q262-153 574-231 313-78 654-78 593 0 904 234t311 681q0 413-289 645-289 233-804 233h-544v519h569q465 0 712 186t247 536q0 359-255 551-254 193-729 193-260 0-557-57-297-56-653-174v562q360 100 674 150t592 50q719 0 1137-327 419-326 419-882 0-388-222-655t-631-370z\"/></defs><use transform=\"translate(0 .78125)\" xlink:href=\"#DejaVuSans-Oblique-71\"/><use transform=\"translate(63.477 -15.625) scale(.7)\" xlink:href=\"#DejaVuSans-31\"/><use transform=\"translate(157.29 .78125)\" xlink:href=\"#DejaVuSans-21a6\"/><use transform=\"translate(287.62 .78125)\" xlink:href=\"#DejaVuSans-31\"/><use transform=\"translate(351.24 .78125)\" xlink:href=\"#DejaVuSans-33\"/></g></g><g clip-path=\"url(#01591c92d6a)\"><g transform=\"translate(27.103 195.39) scale(.1625 -.1625)\"><use transform=\"translate(0 .78125)\" xlink:href=\"#DejaVuSans-Oblique-71\"/><use transform=\"translate(63.477 -15.625) scale(.7)\" xlink:href=\"#DejaVuSans-30\"/><use transform=\"translate(157.29 .78125)\" xlink:href=\"#DejaVuSans-21a6\"/><use transform=\"translate(287.62 .78125)\" xlink:href=\"#DejaVuSans-31\"/><use transform=\"translate(351.24 .78125)\" xlink:href=\"#DejaVuSans-32\"/></g></g><g clip-path=\"url(#01591c92d6a)\"><g transform=\"translate(27.103 241.75) scale(.1625 -.1625)\"><use transform=\"translate(0 .78125)\" xlink:href=\"#DejaVuSans-Oblique-71\"/><use transform=\"translate(63.477 -15.625) scale(.7)\" xlink:href=\"#DejaVuSans-31\"/><use transform=\"translate(157.29 .78125)\" xlink:href=\"#DejaVuSans-21a6\"/><use transform=\"translate(287.62 .78125)\" xlink:href=\"#DejaVuSans-31\"/><use transform=\"translate(351.24 .78125)\" xlink:href=\"#DejaVuSans-33\"/></g></g><g clip-path=\"url(#01591c92d6a)\"><g transform=\"translate(118.83 56.328) scale(.13 -.13)\" fill=\"#ffffff\"><defs><path id=\"STIXSizeOneSym-Regular-221a\" transform=\"scale(.015625)\" d=\"m6970 9933-3597-11821h-269l-1478 4806q-71 231-161 333-89 103-236 103-218 0-435-173l-77 128 1049 806h160l1453-4717h26l3200 10535h365z\"/><path id=\"DejaVuSans-58\" transform=\"scale(.015625)\" d=\"m403 4666h678l1160-1735 1165 1735h678l-1500-2241 1600-2425h-678l-1312 1984-1322-1984h-681l1665 2491-1453 2175z\"/></defs><use transform=\"translate(0 17.094) scale(.56391)\" xlink:href=\"#STIXSizeOneSym-Regular-221a\"/><use transform=\"translate(72.088 .84375)\" xlink:href=\"#DejaVuSans-58\"/><path d=\"m59.588 97.5v6.25h93.506v-6.25h-93.506z\"/></g></g><g clip-path=\"url(#01591c92d6a)\"><g transform=\"translate(118.83 102.68) scale(.13 -.13)\" fill=\"#ffffff\"><use transform=\"translate(0 17.094) scale(.56391)\" xlink:href=\"#STIXSizeOneSym-Regular-221a\"/><use transform=\"translate(72.088 .84375)\" xlink:href=\"#DejaVuSans-58\"/><path d=\"m59.588 97.5v6.25h93.506v-6.25h-93.506z\"/></g></g><g clip-path=\"url(#01591c92d6a)\"><g transform=\"translate(158.76 63.128) scale(.08 -.08)\"><defs><path id=\"DejaVuSans-3b8\" transform=\"scale(.015625)\" d=\"m2953 2219h-1990q46-935 262-1331 269-488 734-488 469 0 729 491 228 431 265 1328zm-9 531q-88 888-256 1200-269 494-729 494-478 0-731-488-200-393-259-1206h1975zm-985 2163q750 0 1179-663 428-659 428-1828 0-1166-428-1828-429-666-1179-666-753 0-1178 666-428 662-428 1828 0 1169 428 1828 425 663 1178 663z\"/><path id=\"DejaVuSans-5b\" transform=\"scale(.015625)\" d=\"m550 4863h1325v-447h-750v-4813h750v-447h-1325v5707z\"/><path id=\"DejaVuSans-5d\" transform=\"scale(.015625)\" d=\"m1947 4863v-5707h-1325v447h747v4813h-747v447h1325z\"/><path id=\"DejaVuSans-2b\" transform=\"scale(.015625)\" d=\"m2944 4013v-1741h1740v-531h-1740v-1741h-525v1741h-1741v531h1741v1741h525z\"/></defs><use transform=\"translate(0 .23438)\" xlink:href=\"#DejaVuSans-3b8\"/><use transform=\"translate(61.182 .23438)\" xlink:href=\"#DejaVuSans-5b\"/><use transform=\"translate(100.2 .23438)\" xlink:href=\"#DejaVuSans-30\"/><use transform=\"translate(163.82 .23438)\" xlink:href=\"#DejaVuSans-5d\"/><use transform=\"translate(202.83 .23438)\" xlink:href=\"#DejaVuSans-20\"/><use transform=\"translate(234.62 .23438)\" xlink:href=\"#DejaVuSans-2b\"/><use transform=\"translate(318.41 .23438)\" xlink:href=\"#DejaVuSans-20\"/><use transform=\"translate(350.2 .23438)\" xlink:href=\"#DejaVuSans-Oblique-3c0\"/></g></g><g clip-path=\"url(#01591c92d6a)\"><g transform=\"translate(167.27 50.949) scale(.13 -.13)\"><defs><path id=\"DejaVuSans-52\" transform=\"scale(.015625)\" d=\"m2841 2188q203-69 395-294t386-619l641-1275h-679l-596 1197q-232 469-449 622t-592 153h-688v-1972h-631v4666h1425q800 0 1194-335 394-334 394-1009 0-441-205-732-205-290-595-402zm-1582 1959v-1656h794q456 0 689 211t233 620-233 617-689 208h-794z\"/><path id=\"DejaVuSans-5a\" transform=\"scale(.015625)\" d=\"m359 4666h3666v-482l-2950-3653h3022v-531h-3809v481l2950 3653h-2879v532z\"/></defs><use transform=\"translate(0 .09375)\" xlink:href=\"#DejaVuSans-52\"/><use transform=\"translate(70.439 -16.312) scale(.7)\" xlink:href=\"#DejaVuSans-5a\"/></g></g><g clip-path=\"url(#01591c92d6a)\"><g transform=\"translate(158.76 109.48) scale(.08 -.08)\"><use transform=\"translate(0 .23438)\" xlink:href=\"#DejaVuSans-3b8\"/><use transform=\"translate(61.182 .23438)\" xlink:href=\"#DejaVuSans-5b\"/><use transform=\"translate(100.2 .23438)\" xlink:href=\"#DejaVuSans-31\"/><use transform=\"translate(163.82 .23438)\" xlink:href=\"#DejaVuSans-5d\"/><use transform=\"translate(202.83 .23438)\" xlink:href=\"#DejaVuSans-20\"/><use transform=\"translate(234.62 .23438)\" xlink:href=\"#DejaVuSans-2b\"/><use transform=\"translate(318.41 .23438)\" xlink:href=\"#DejaVuSans-20\"/><use transform=\"translate(350.2 .23438)\" xlink:href=\"#DejaVuSans-Oblique-3c0\"/></g></g><g clip-path=\"url(#01591c92d6a)\"><g transform=\"translate(167.27 97.303) scale(.13 -.13)\"><use transform=\"translate(0 .09375)\" xlink:href=\"#DejaVuSans-52\"/><use transform=\"translate(70.439 -16.312) scale(.7)\" xlink:href=\"#DejaVuSans-5a\"/></g></g><g clip-path=\"url(#01591c92d6a)\"><g transform=\"translate(211.54 56.328) scale(.13 -.13)\" fill=\"#ffffff\"><use transform=\"translate(0 17.094) scale(.56391)\" xlink:href=\"#STIXSizeOneSym-Regular-221a\"/><use transform=\"translate(72.088 .84375)\" xlink:href=\"#DejaVuSans-58\"/><path d=\"m59.588 97.5v6.25h93.506v-6.25h-93.506z\"/></g></g><g clip-path=\"url(#01591c92d6a)\"><g transform=\"translate(211.54 102.68) scale(.13 -.13)\" fill=\"#ffffff\"><use transform=\"translate(0 17.094) scale(.56391)\" xlink:href=\"#STIXSizeOneSym-Regular-221a\"/><use transform=\"translate(72.088 .84375)\" xlink:href=\"#DejaVuSans-58\"/><path d=\"m59.588 97.5v6.25h93.506v-6.25h-93.506z\"/></g></g><g clip-path=\"url(#01591c92d6a)\"><g transform=\"translate(262.94 63.128) scale(.08 -.08)\"><use transform=\"translate(0 .78125)\" xlink:href=\"#DejaVuSans-33\"/><use transform=\"translate(63.623 .78125)\" xlink:href=\"#DejaVuSans-Oblique-3c0\"/></g></g><g clip-path=\"url(#01591c92d6a)\"><g transform=\"translate(259.97 50.949) scale(.13 -.13)\"><use transform=\"translate(0 .09375)\" xlink:href=\"#DejaVuSans-52\"/><use transform=\"translate(70.439 -16.312) scale(.7)\" xlink:href=\"#DejaVuSans-5a\"/></g></g><g clip-path=\"url(#01591c92d6a)\"><g transform=\"translate(262.94 109.48) scale(.08 -.08)\"><use transform=\"translate(0 .78125)\" xlink:href=\"#DejaVuSans-33\"/><use transform=\"translate(63.623 .78125)\" xlink:href=\"#DejaVuSans-Oblique-3c0\"/></g></g><g clip-path=\"url(#01591c92d6a)\"><g transform=\"translate(259.97 97.303) scale(.13 -.13)\"><use transform=\"translate(0 .09375)\" xlink:href=\"#DejaVuSans-52\"/><use transform=\"translate(70.439 -16.312) scale(.7)\" xlink:href=\"#DejaVuSans-5a\"/></g></g><g clip-path=\"url(#01591c92d6a)\"><g transform=\"translate(306.14 63.128) scale(.08 -.08)\"><use xlink:href=\"#DejaVuSans-3b8\"/><use x=\"61.181641\" xlink:href=\"#DejaVuSans-5b\"/><use x=\"100.195312\" xlink:href=\"#DejaVuSans-32\"/><use x=\"163.818359\" xlink:href=\"#DejaVuSans-5d\"/></g></g><g clip-path=\"url(#01591c92d6a)\"><g transform=\"translate(306.33 50.949) scale(.13 -.13)\"><use transform=\"translate(0 .09375)\" xlink:href=\"#DejaVuSans-52\"/><use transform=\"translate(70.439 -16.312) scale(.7)\" xlink:href=\"#DejaVuSans-5a\"/></g></g><g clip-path=\"url(#01591c92d6a)\"><g transform=\"translate(306.14 109.48) scale(.08 -.08)\"><use xlink:href=\"#DejaVuSans-3b8\"/><use x=\"61.181641\" xlink:href=\"#DejaVuSans-5b\"/><use x=\"100.195312\" xlink:href=\"#DejaVuSans-33\"/><use x=\"163.818359\" xlink:href=\"#DejaVuSans-5d\"/></g></g><g clip-path=\"url(#01591c92d6a)\"><g transform=\"translate(306.33 97.303) scale(.13 -.13)\"><use transform=\"translate(0 .09375)\" xlink:href=\"#DejaVuSans-52\"/><use transform=\"translate(70.439 -16.312) scale(.7)\" xlink:href=\"#DejaVuSans-5a\"/></g></g><g clip-path=\"url(#01591c92d6a)\"><g transform=\"translate(351.09 63.128) scale(.08 -.08)\"><defs><path id=\"DejaVuSans-2212\" transform=\"scale(.015625)\" d=\"m678 2272h4006v-531h-4006v531z\"/><path id=\"DejaVuSans-2f\" transform=\"scale(.015625)\" d=\"m1625 4666h531l-1625-5260h-531l1625 5260z\"/></defs><use transform=\"translate(0 .78125)\" xlink:href=\"#DejaVuSans-2212\"/><use transform=\"translate(83.789 .78125)\" xlink:href=\"#DejaVuSans-Oblique-3c0\"/><use transform=\"translate(143.99 .78125)\" xlink:href=\"#DejaVuSans-2f\"/><use transform=\"translate(174.06 .78125)\" xlink:href=\"#DejaVuSans-32\"/></g></g><g clip-path=\"url(#01591c92d6a)\"><g transform=\"translate(352.68 50.949) scale(.13 -.13)\"><use transform=\"translate(0 .09375)\" xlink:href=\"#DejaVuSans-52\"/><use transform=\"translate(70.439 -16.312) scale(.7)\" xlink:href=\"#DejaVuSans-5a\"/></g></g><g clip-path=\"url(#01591c92d6a)\"><g transform=\"translate(354.85 109.48) scale(.08 -.08)\"><use transform=\"translate(0 .3125)\" xlink:href=\"#DejaVuSans-2212\"/><use transform=\"translate(83.789 .3125)\" xlink:href=\"#DejaVuSans-Oblique-3c0\"/></g></g><g clip-path=\"url(#01591c92d6a)\"><g transform=\"translate(352.68 97.303) scale(.13 -.13)\"><use transform=\"translate(0 .09375)\" xlink:href=\"#DejaVuSans-52\"/><use transform=\"translate(70.439 -16.312) scale(.7)\" xlink:href=\"#DejaVuSans-5a\"/></g></g><g clip-path=\"url(#01591c92d6a)\"><g transform=\"translate(396.96 102.68) scale(.13 -.13)\" fill=\"#ffffff\"><use transform=\"translate(0 17.094) scale(.56391)\" xlink:href=\"#STIXSizeOneSym-Regular-221a\"/><use transform=\"translate(72.088 .84375)\" xlink:href=\"#DejaVuSans-58\"/><path d=\"m59.588 97.5v6.25h93.506v-6.25h-93.506z\"/></g></g><g clip-path=\"url(#01591c92d6a)\"><g transform=\"translate(447.56 109.48) scale(.08 -.08)\"><use transform=\"translate(0 .3125)\" xlink:href=\"#DejaVuSans-2212\"/><use transform=\"translate(83.789 .3125)\" xlink:href=\"#DejaVuSans-Oblique-3c0\"/></g></g><g clip-path=\"url(#01591c92d6a)\"><g transform=\"translate(445.39 97.303) scale(.13 -.13)\"><use transform=\"translate(0 .09375)\" xlink:href=\"#DejaVuSans-52\"/><use transform=\"translate(70.439 -16.312) scale(.7)\" xlink:href=\"#DejaVuSans-5a\"/></g></g><g clip-path=\"url(#01591c92d6a)\"><g transform=\"translate(486.99 55.469) scale(.13 -.13)\" fill=\"#ffffff\"><use xlink:href=\"#DejaVuSans-30\"/></g></g><g clip-path=\"url(#01591c92d6a)\"><g transform=\"translate(486.99 101.82) scale(.13 -.13)\" fill=\"#ffffff\"><use xlink:href=\"#DejaVuSans-31\"/></g></g><g clip-path=\"url(#01591c92d6a)\"><g transform=\"translate(494.42 78.646) scale(.13 -.13)\" fill=\"#ffffff\"><defs><path id=\"DejaVuSans-45\" transform=\"scale(.015625)\" d=\"m628 4666h2950v-532h-2319v-1381h2222v-531h-2222v-1691h2375v-531h-3006v4666z\"/><path id=\"DejaVuSans-63\" transform=\"scale(.015625)\" d=\"m3122 3366v-538q-244 135-489 202t-495 67q-560 0-870-355-309-354-309-995t309-996q310-354 870-354 250 0 495 67t489 202v-532q-241-112-499-168-257-57-548-57-791 0-1257 497-465 497-465 1341 0 856 470 1346 471 491 1290 491 265 0 518-55 253-54 491-163z\"/><path id=\"DejaVuSans-72\" transform=\"scale(.015625)\" d=\"m2631 2963q-97 56-211 82-114 27-251 27-488 0-749-317t-261-911v-1844h-578v3500h578v-544q182 319 472 473 291 155 707 155 59 0 131-8 72-7 159-23l3-590z\"/></defs><use xlink:href=\"#DejaVuSans-45\"/><use x=\"63.183594\" xlink:href=\"#DejaVuSans-63\"/><use x=\"118.164062\" xlink:href=\"#DejaVuSans-72\"/></g></g><g clip-path=\"url(#01591c92d6a)\"><g transform=\"translate(540.27 63.128) scale(.08 -.08)\"><use transform=\"translate(0 .3125)\" xlink:href=\"#DejaVuSans-2212\"/><use transform=\"translate(83.789 .3125)\" xlink:href=\"#DejaVuSans-Oblique-3c0\"/></g></g><g clip-path=\"url(#01591c92d6a)\"><g transform=\"translate(538.1 50.949) scale(.13 -.13)\"><use transform=\"translate(0 .09375)\" xlink:href=\"#DejaVuSans-52\"/><use transform=\"translate(70.439 -16.312) scale(.7)\" xlink:href=\"#DejaVuSans-5a\"/></g></g><g clip-path=\"url(#01591c92d6a)\"><g transform=\"translate(536.02 102.68) scale(.13 -.13)\" fill=\"#ffffff\"><use transform=\"translate(0 17.094) scale(.56391)\" xlink:href=\"#STIXSizeOneSym-Regular-221a\"/><use transform=\"translate(72.088 .84375)\" xlink:href=\"#DejaVuSans-58\"/><path d=\"m59.588 97.5v6.25h93.506v-6.25h-93.506z\"/></g></g><g clip-path=\"url(#01591c92d6a)\"><g transform=\"translate(582.37 56.328) scale(.13 -.13)\" fill=\"#ffffff\"><use transform=\"translate(0 17.094) scale(.56391)\" xlink:href=\"#STIXSizeOneSym-Regular-221a\"/><use transform=\"translate(72.088 .84375)\" xlink:href=\"#DejaVuSans-58\"/><path d=\"m59.588 97.5v6.25h93.506v-6.25h-93.506z\"/></g></g><g clip-path=\"url(#01591c92d6a)\"><g transform=\"translate(575.94 109.48) scale(.08 -.08)\"><defs><path id=\"DejaVuSans-35\" transform=\"scale(.015625)\" d=\"m691 4666h2478v-532h-1900v-1143q137 47 274 70 138 23 276 23 781 0 1237-428 457-428 457-1159 0-753-469-1171-469-417-1322-417-294 0-599 50-304 50-629 150v635q281-153 581-228t634-75q541 0 856 284 316 284 316 772 0 487-316 771-315 285-856 285-253 0-505-56-251-56-513-175v2344z\"/></defs><use transform=\"translate(0 .23438)\" xlink:href=\"#DejaVuSans-3b8\"/><use transform=\"translate(61.182 .23438)\" xlink:href=\"#DejaVuSans-5b\"/><use transform=\"translate(100.2 .23438)\" xlink:href=\"#DejaVuSans-35\"/><use transform=\"translate(163.82 .23438)\" xlink:href=\"#DejaVuSans-5d\"/><use transform=\"translate(202.83 .23438)\" xlink:href=\"#DejaVuSans-20\"/><use transform=\"translate(234.62 .23438)\" xlink:href=\"#DejaVuSans-2b\"/><use transform=\"translate(318.41 .23438)\" xlink:href=\"#DejaVuSans-20\"/><use transform=\"translate(350.2 .23438)\" xlink:href=\"#DejaVuSans-Oblique-3c0\"/></g></g><g clip-path=\"url(#01591c92d6a)\"><g transform=\"translate(584.45 97.303) scale(.13 -.13)\"><use transform=\"translate(0 .09375)\" xlink:href=\"#DejaVuSans-52\"/><use transform=\"translate(70.439 -16.312) scale(.7)\" xlink:href=\"#DejaVuSans-5a\"/></g></g><g clip-path=\"url(#01591c92d6a)\"><g transform=\"translate(632.98 63.128) scale(.08 -.08)\"><use transform=\"translate(0 .3125)\" xlink:href=\"#DejaVuSans-2212\"/><use transform=\"translate(83.789 .3125)\" xlink:href=\"#DejaVuSans-Oblique-3c0\"/></g></g><g clip-path=\"url(#01591c92d6a)\"><g transform=\"translate(630.81 50.949) scale(.13 -.13)\"><use transform=\"translate(0 .09375)\" xlink:href=\"#DejaVuSans-52\"/><use transform=\"translate(70.439 -16.312) scale(.7)\" xlink:href=\"#DejaVuSans-5a\"/></g></g><g clip-path=\"url(#01591c92d6a)\"><g transform=\"translate(628.73 102.68) scale(.13 -.13)\" fill=\"#ffffff\"><use transform=\"translate(0 17.094) scale(.56391)\" xlink:href=\"#STIXSizeOneSym-Regular-221a\"/><use transform=\"translate(72.088 .84375)\" xlink:href=\"#DejaVuSans-58\"/><path d=\"m59.588 97.5v6.25h93.506v-6.25h-93.506z\"/></g></g><g clip-path=\"url(#01591c92d6a)\"><g transform=\"translate(668.65 63.128) scale(.08 -.08)\"><defs><path id=\"DejaVuSans-34\" transform=\"scale(.015625)\" d=\"m2419 4116-1594-2491h1594v2491zm-166 550h794v-3041h666v-525h-666v-1100h-628v1100h-2106v609l1940 2957z\"/></defs><use transform=\"translate(0 .23438)\" xlink:href=\"#DejaVuSans-3b8\"/><use transform=\"translate(61.182 .23438)\" xlink:href=\"#DejaVuSans-5b\"/><use transform=\"translate(100.2 .23438)\" xlink:href=\"#DejaVuSans-34\"/><use transform=\"translate(163.82 .23438)\" xlink:href=\"#DejaVuSans-5d\"/><use transform=\"translate(202.83 .23438)\" xlink:href=\"#DejaVuSans-20\"/><use transform=\"translate(234.62 .23438)\" xlink:href=\"#DejaVuSans-2b\"/><use transform=\"translate(318.41 .23438)\" xlink:href=\"#DejaVuSans-20\"/><use transform=\"translate(350.2 .23438)\" xlink:href=\"#DejaVuSans-Oblique-3c0\"/></g></g><g clip-path=\"url(#01591c92d6a)\"><g transform=\"translate(677.16 50.949) scale(.13 -.13)\"><use transform=\"translate(0 .09375)\" xlink:href=\"#DejaVuSans-52\"/><use transform=\"translate(70.439 -16.312) scale(.7)\" xlink:href=\"#DejaVuSans-5a\"/></g></g><g clip-path=\"url(#01591c92d6a)\"><g transform=\"translate(680.13 109.48) scale(.08 -.08)\"><use transform=\"translate(0 .78125)\" xlink:href=\"#DejaVuSans-33\"/><use transform=\"translate(63.623 .78125)\" xlink:href=\"#DejaVuSans-Oblique-3c0\"/></g></g><g clip-path=\"url(#01591c92d6a)\"><g transform=\"translate(677.16 97.303) scale(.13 -.13)\"><use transform=\"translate(0 .09375)\" xlink:href=\"#DejaVuSans-52\"/><use transform=\"translate(70.439 -16.312) scale(.7)\" xlink:href=\"#DejaVuSans-5a\"/></g></g><g clip-path=\"url(#01591c92d6a)\"><g transform=\"translate(721.43 56.328) scale(.13 -.13)\" fill=\"#ffffff\"><use transform=\"translate(0 17.094) scale(.56391)\" xlink:href=\"#STIXSizeOneSym-Regular-221a\"/><use transform=\"translate(72.088 .84375)\" xlink:href=\"#DejaVuSans-58\"/><path d=\"m59.588 97.5v6.25h93.506v-6.25h-93.506z\"/></g></g><g clip-path=\"url(#01591c92d6a)\"><g transform=\"translate(723.33 109.48) scale(.08 -.08)\"><defs><path id=\"DejaVuSans-37\" transform=\"scale(.015625)\" d=\"m525 4666h3e3v-269l-1694-4397h-659l1594 4134h-2241v532z\"/></defs><use xlink:href=\"#DejaVuSans-3b8\"/><use x=\"61.181641\" xlink:href=\"#DejaVuSans-5b\"/><use x=\"100.195312\" xlink:href=\"#DejaVuSans-37\"/><use x=\"163.818359\" xlink:href=\"#DejaVuSans-5d\"/></g></g><g clip-path=\"url(#01591c92d6a)\"><g transform=\"translate(723.51 97.303) scale(.13 -.13)\"><use transform=\"translate(0 .09375)\" xlink:href=\"#DejaVuSans-52\"/><use transform=\"translate(70.439 -16.312) scale(.7)\" xlink:href=\"#DejaVuSans-5a\"/></g></g><g clip-path=\"url(#01591c92d6a)\"><g transform=\"translate(772.84 63.128) scale(.08 -.08)\"><use transform=\"translate(0 .78125)\" xlink:href=\"#DejaVuSans-33\"/><use transform=\"translate(63.623 .78125)\" xlink:href=\"#DejaVuSans-Oblique-3c0\"/></g></g><g clip-path=\"url(#01591c92d6a)\"><g transform=\"translate(769.87 50.949) scale(.13 -.13)\"><use transform=\"translate(0 .09375)\" xlink:href=\"#DejaVuSans-52\"/><use transform=\"translate(70.439 -16.312) scale(.7)\" xlink:href=\"#DejaVuSans-5a\"/></g></g><g clip-path=\"url(#01591c92d6a)\"><g transform=\"translate(772.04 109.48) scale(.08 -.08)\"><use transform=\"translate(0 .3125)\" xlink:href=\"#DejaVuSans-2212\"/><use transform=\"translate(83.789 .3125)\" xlink:href=\"#DejaVuSans-Oblique-3c0\"/></g></g><g clip-path=\"url(#01591c92d6a)\"><g transform=\"translate(769.87 97.303) scale(.13 -.13)\"><use transform=\"translate(0 .09375)\" xlink:href=\"#DejaVuSans-52\"/><use transform=\"translate(70.439 -16.312) scale(.7)\" xlink:href=\"#DejaVuSans-5a\"/></g></g><g clip-path=\"url(#01591c92d6a)\"><g transform=\"translate(816.04 63.128) scale(.08 -.08)\"><defs><path id=\"DejaVuSans-36\" transform=\"scale(.015625)\" d=\"m2113 2584q-425 0-674-291-248-290-248-796 0-503 248-796 249-292 674-292t673 292q248 293 248 796 0 506-248 796-248 291-673 291zm1253 1979v-575q-238 112-480 171-242 60-480 60-625 0-955-422-329-422-376-1275 184 272 462 417 279 145 613 145 703 0 1111-427 408-426 408-1160 0-719-425-1154-425-434-1131-434-810 0-1238 620-428 621-428 1799 0 1106 525 1764t1409 658q238 0 480-47t505-140z\"/></defs><use xlink:href=\"#DejaVuSans-3b8\"/><use x=\"61.181641\" xlink:href=\"#DejaVuSans-5b\"/><use x=\"100.195312\" xlink:href=\"#DejaVuSans-36\"/><use x=\"163.818359\" xlink:href=\"#DejaVuSans-5d\"/></g></g><g clip-path=\"url(#01591c92d6a)\"><g transform=\"translate(816.22 50.949) scale(.13 -.13)\"><use transform=\"translate(0 .09375)\" xlink:href=\"#DejaVuSans-52\"/><use transform=\"translate(70.439 -16.312) scale(.7)\" xlink:href=\"#DejaVuSans-5a\"/></g></g><g clip-path=\"url(#01591c92d6a)\"><g transform=\"translate(814.14 102.68) scale(.13 -.13)\" fill=\"#ffffff\"><use transform=\"translate(0 17.094) scale(.56391)\" xlink:href=\"#STIXSizeOneSym-Regular-221a\"/><use transform=\"translate(72.088 .84375)\" xlink:href=\"#DejaVuSans-58\"/><path d=\"m59.588 97.5v6.25h93.506v-6.25h-93.506z\"/></g></g><g clip-path=\"url(#01591c92d6a)\"><g transform=\"translate(860.99 63.128) scale(.08 -.08)\"><use transform=\"translate(0 .78125)\" xlink:href=\"#DejaVuSans-2212\"/><use transform=\"translate(83.789 .78125)\" xlink:href=\"#DejaVuSans-Oblique-3c0\"/><use transform=\"translate(143.99 .78125)\" xlink:href=\"#DejaVuSans-2f\"/><use transform=\"translate(174.06 .78125)\" xlink:href=\"#DejaVuSans-32\"/></g></g><g clip-path=\"url(#01591c92d6a)\"><g transform=\"translate(862.58 50.949) scale(.13 -.13)\"><use transform=\"translate(0 .09375)\" xlink:href=\"#DejaVuSans-52\"/><use transform=\"translate(70.439 -16.312) scale(.7)\" xlink:href=\"#DejaVuSans-5a\"/></g></g><g clip-path=\"url(#01591c92d6a)\"><g transform=\"translate(864.75 109.48) scale(.08 -.08)\"><use transform=\"translate(0 .3125)\" xlink:href=\"#DejaVuSans-2212\"/><use transform=\"translate(83.789 .3125)\" xlink:href=\"#DejaVuSans-Oblique-3c0\"/></g></g><g clip-path=\"url(#01591c92d6a)\"><g transform=\"translate(862.58 97.303) scale(.13 -.13)\"><use transform=\"translate(0 .09375)\" xlink:href=\"#DejaVuSans-52\"/><use transform=\"translate(70.439 -16.312) scale(.7)\" xlink:href=\"#DejaVuSans-5a\"/></g></g><g clip-path=\"url(#01591c92d6a)\"><g transform=\"translate(904.18 55.469) scale(.13 -.13)\" fill=\"#ffffff\"><use xlink:href=\"#DejaVuSans-30\"/></g></g><g clip-path=\"url(#01591c92d6a)\"><g transform=\"translate(904.18 101.82) scale(.13 -.13)\" fill=\"#ffffff\"><use xlink:href=\"#DejaVuSans-31\"/></g></g><g clip-path=\"url(#01591c92d6a)\"><g transform=\"translate(911.61 78.646) scale(.13 -.13)\" fill=\"#ffffff\"><use xlink:href=\"#DejaVuSans-45\"/><use x=\"63.183594\" xlink:href=\"#DejaVuSans-63\"/><use x=\"118.164062\" xlink:href=\"#DejaVuSans-72\"/></g></g><g clip-path=\"url(#01591c92d6a)\"><g transform=\"translate(957.45 63.128) scale(.08 -.08)\"><use transform=\"translate(0 .3125)\" xlink:href=\"#DejaVuSans-2212\"/><use transform=\"translate(83.789 .3125)\" xlink:href=\"#DejaVuSans-Oblique-3c0\"/></g></g><g clip-path=\"url(#01591c92d6a)\"><g transform=\"translate(955.28 50.949) scale(.13 -.13)\"><use transform=\"translate(0 .09375)\" xlink:href=\"#DejaVuSans-52\"/><use transform=\"translate(70.439 -16.312) scale(.7)\" xlink:href=\"#DejaVuSans-5a\"/></g></g><g clip-path=\"url(#01591c92d6a)\"><g transform=\"translate(953.2 102.68) scale(.13 -.13)\" fill=\"#ffffff\"><use transform=\"translate(0 17.094) scale(.56391)\" xlink:href=\"#STIXSizeOneSym-Regular-221a\"/><use transform=\"translate(72.088 .84375)\" xlink:href=\"#DejaVuSans-58\"/><path d=\"m59.588 97.5v6.25h93.506v-6.25h-93.506z\"/></g></g><g clip-path=\"url(#01591c92d6a)\"><g transform=\"translate(999.56 56.328) scale(.13 -.13)\" fill=\"#ffffff\"><use transform=\"translate(0 17.094) scale(.56391)\" xlink:href=\"#STIXSizeOneSym-Regular-221a\"/><use transform=\"translate(72.088 .84375)\" xlink:href=\"#DejaVuSans-58\"/><path d=\"m59.588 97.5v6.25h93.506v-6.25h-93.506z\"/></g></g><g clip-path=\"url(#01591c92d6a)\"><g transform=\"translate(993.13 109.48) scale(.08 -.08)\"><defs><path id=\"DejaVuSans-39\" transform=\"scale(.015625)\" d=\"m703 97v575q238-113 481-172 244-59 479-59 625 0 954 420 330 420 377 1277-181-269-460-413-278-144-615-144-700 0-1108 423-408 424-408 1159 0 718 425 1152 425 435 1131 435 810 0 1236-621 427-620 427-1801 0-1103-524-1761-523-658-1407-658-238 0-482 47-243 47-506 141zm1256 1978q425 0 673 290 249 291 249 798 0 503-249 795-248 292-673 292t-673-292-248-795q0-507 248-798 248-290 673-290z\"/></defs><use transform=\"translate(0 .23438)\" xlink:href=\"#DejaVuSans-3b8\"/><use transform=\"translate(61.182 .23438)\" xlink:href=\"#DejaVuSans-5b\"/><use transform=\"translate(100.2 .23438)\" xlink:href=\"#DejaVuSans-39\"/><use transform=\"translate(163.82 .23438)\" xlink:href=\"#DejaVuSans-5d\"/><use transform=\"translate(202.83 .23438)\" xlink:href=\"#DejaVuSans-20\"/><use transform=\"translate(234.62 .23438)\" xlink:href=\"#DejaVuSans-2b\"/><use transform=\"translate(318.41 .23438)\" xlink:href=\"#DejaVuSans-20\"/><use transform=\"translate(350.2 .23438)\" xlink:href=\"#DejaVuSans-Oblique-3c0\"/></g></g><g clip-path=\"url(#01591c92d6a)\"><g transform=\"translate(1001.6 97.303) scale(.13 -.13)\"><use transform=\"translate(0 .09375)\" xlink:href=\"#DejaVuSans-52\"/><use transform=\"translate(70.439 -16.312) scale(.7)\" xlink:href=\"#DejaVuSans-5a\"/></g></g><g clip-path=\"url(#01591c92d6a)\"><g transform=\"translate(1050.2 63.128) scale(.08 -.08)\"><use transform=\"translate(0 .3125)\" xlink:href=\"#DejaVuSans-2212\"/><use transform=\"translate(83.789 .3125)\" xlink:href=\"#DejaVuSans-Oblique-3c0\"/></g></g><g clip-path=\"url(#01591c92d6a)\"><g transform=\"translate(1048 50.949) scale(.13 -.13)\"><use transform=\"translate(0 .09375)\" xlink:href=\"#DejaVuSans-52\"/><use transform=\"translate(70.439 -16.312) scale(.7)\" xlink:href=\"#DejaVuSans-5a\"/></g></g><g clip-path=\"url(#01591c92d6a)\"><g transform=\"translate(1045.9 102.68) scale(.13 -.13)\" fill=\"#ffffff\"><use transform=\"translate(0 17.094) scale(.56391)\" xlink:href=\"#STIXSizeOneSym-Regular-221a\"/><use transform=\"translate(72.088 .84375)\" xlink:href=\"#DejaVuSans-58\"/><path d=\"m59.588 97.5v6.25h93.506v-6.25h-93.506z\"/></g></g><g clip-path=\"url(#01591c92d6a)\"><g transform=\"translate(1085.8 63.128) scale(.08 -.08)\"><defs><path id=\"DejaVuSans-38\" transform=\"scale(.015625)\" d=\"m2034 2216q-450 0-708-241-257-241-257-662 0-422 257-663 258-241 708-241t709 242q260 243 260 662 0 421-258 662-257 241-711 241zm-631 268q-406 100-633 378-226 279-226 679 0 559 398 884 399 325 1092 325 697 0 1094-325t397-884q0-400-227-679-226-278-629-378 456-106 710-416 255-309 255-755 0-679-414-1042-414-362-1186-362-771 0-1186 362-414 363-414 1042 0 446 256 755 257 310 713 416zm-231 997q0-362 226-565 227-203 636-203 407 0 636 203 230 203 230 565 0 363-230 566-229 203-636 203-409 0-636-203-226-203-226-566z\"/></defs><use transform=\"translate(0 .23438)\" xlink:href=\"#DejaVuSans-3b8\"/><use transform=\"translate(61.182 .23438)\" xlink:href=\"#DejaVuSans-5b\"/><use transform=\"translate(100.2 .23438)\" xlink:href=\"#DejaVuSans-38\"/><use transform=\"translate(163.82 .23438)\" xlink:href=\"#DejaVuSans-5d\"/><use transform=\"translate(202.83 .23438)\" xlink:href=\"#DejaVuSans-20\"/><use transform=\"translate(234.62 .23438)\" xlink:href=\"#DejaVuSans-2b\"/><use transform=\"translate(318.41 .23438)\" xlink:href=\"#DejaVuSans-20\"/><use transform=\"translate(350.2 .23438)\" xlink:href=\"#DejaVuSans-Oblique-3c0\"/></g></g><g clip-path=\"url(#01591c92d6a)\"><g transform=\"translate(1094.3 50.949) scale(.13 -.13)\"><use transform=\"translate(0 .09375)\" xlink:href=\"#DejaVuSans-52\"/><use transform=\"translate(70.439 -16.312) scale(.7)\" xlink:href=\"#DejaVuSans-5a\"/></g></g><g clip-path=\"url(#01591c92d6a)\"><g transform=\"translate(1097.3 109.48) scale(.08 -.08)\"><use transform=\"translate(0 .78125)\" xlink:href=\"#DejaVuSans-33\"/><use transform=\"translate(63.623 .78125)\" xlink:href=\"#DejaVuSans-Oblique-3c0\"/></g></g><g clip-path=\"url(#01591c92d6a)\"><g transform=\"translate(1094.3 97.303) scale(.13 -.13)\"><use transform=\"translate(0 .09375)\" xlink:href=\"#DejaVuSans-52\"/><use transform=\"translate(70.439 -16.312) scale(.7)\" xlink:href=\"#DejaVuSans-5a\"/></g></g><g clip-path=\"url(#01591c92d6a)\"><g transform=\"translate(1138.6 56.328) scale(.13 -.13)\" fill=\"#ffffff\"><use transform=\"translate(0 17.094) scale(.56391)\" xlink:href=\"#STIXSizeOneSym-Regular-221a\"/><use transform=\"translate(72.088 .84375)\" xlink:href=\"#DejaVuSans-58\"/><path d=\"m59.588 97.5v6.25h93.506v-6.25h-93.506z\"/></g></g><g clip-path=\"url(#01591c92d6a)\"><g transform=\"translate(1138 109.48) scale(.08 -.08)\"><use xlink:href=\"#DejaVuSans-3b8\"/><use x=\"61.181641\" xlink:href=\"#DejaVuSans-5b\"/><use x=\"100.195312\" xlink:href=\"#DejaVuSans-31\"/><use x=\"163.818359\" xlink:href=\"#DejaVuSans-31\"/><use x=\"227.441406\" xlink:href=\"#DejaVuSans-5d\"/></g></g><g clip-path=\"url(#01591c92d6a)\"><g transform=\"translate(1140.7 97.303) scale(.13 -.13)\"><use transform=\"translate(0 .09375)\" xlink:href=\"#DejaVuSans-52\"/><use transform=\"translate(70.439 -16.312) scale(.7)\" xlink:href=\"#DejaVuSans-5a\"/></g></g><g clip-path=\"url(#01591c92d6a)\"><g transform=\"translate(1190 63.128) scale(.08 -.08)\"><use transform=\"translate(0 .78125)\" xlink:href=\"#DejaVuSans-33\"/><use transform=\"translate(63.623 .78125)\" xlink:href=\"#DejaVuSans-Oblique-3c0\"/></g></g><g clip-path=\"url(#01591c92d6a)\"><g transform=\"translate(1187.1 50.949) scale(.13 -.13)\"><use transform=\"translate(0 .09375)\" xlink:href=\"#DejaVuSans-52\"/><use transform=\"translate(70.439 -16.312) scale(.7)\" xlink:href=\"#DejaVuSans-5a\"/></g></g><g clip-path=\"url(#01591c92d6a)\"><g transform=\"translate(1189.2 109.48) scale(.08 -.08)\"><use transform=\"translate(0 .3125)\" xlink:href=\"#DejaVuSans-2212\"/><use transform=\"translate(83.789 .3125)\" xlink:href=\"#DejaVuSans-Oblique-3c0\"/></g></g><g clip-path=\"url(#01591c92d6a)\"><g transform=\"translate(1187.1 97.303) scale(.13 -.13)\"><use transform=\"translate(0 .09375)\" xlink:href=\"#DejaVuSans-52\"/><use transform=\"translate(70.439 -16.312) scale(.7)\" xlink:href=\"#DejaVuSans-5a\"/></g></g><g clip-path=\"url(#01591c92d6a)\"><g transform=\"translate(1230.7 63.128) scale(.08 -.08)\"><use xlink:href=\"#DejaVuSans-3b8\"/><use x=\"61.181641\" xlink:href=\"#DejaVuSans-5b\"/><use x=\"100.195312\" xlink:href=\"#DejaVuSans-31\"/><use x=\"163.818359\" xlink:href=\"#DejaVuSans-30\"/><use x=\"227.441406\" xlink:href=\"#DejaVuSans-5d\"/></g></g><g clip-path=\"url(#01591c92d6a)\"><g transform=\"translate(1233.4 50.949) scale(.13 -.13)\"><use transform=\"translate(0 .09375)\" xlink:href=\"#DejaVuSans-52\"/><use transform=\"translate(70.439 -16.312) scale(.7)\" xlink:href=\"#DejaVuSans-5a\"/></g></g><g clip-path=\"url(#01591c92d6a)\"><g transform=\"translate(1231.3 102.68) scale(.13 -.13)\" fill=\"#ffffff\"><use transform=\"translate(0 17.094) scale(.56391)\" xlink:href=\"#STIXSizeOneSym-Regular-221a\"/><use transform=\"translate(72.088 .84375)\" xlink:href=\"#DejaVuSans-58\"/><path d=\"m59.588 97.5v6.25h93.506v-6.25h-93.506z\"/></g></g><g clip-path=\"url(#01591c92d6a)\"><g transform=\"translate(119.32 202.19) scale(.08 -.08)\"><use transform=\"translate(0 .78125)\" xlink:href=\"#DejaVuSans-2212\"/><use transform=\"translate(83.789 .78125)\" xlink:href=\"#DejaVuSans-Oblique-3c0\"/><use transform=\"translate(143.99 .78125)\" xlink:href=\"#DejaVuSans-2f\"/><use transform=\"translate(174.06 .78125)\" xlink:href=\"#DejaVuSans-32\"/></g></g><g clip-path=\"url(#01591c92d6a)\"><g transform=\"translate(120.91 190.01) scale(.13 -.13)\"><use transform=\"translate(0 .09375)\" xlink:href=\"#DejaVuSans-52\"/><use transform=\"translate(70.439 -16.312) scale(.7)\" xlink:href=\"#DejaVuSans-5a\"/></g></g><g clip-path=\"url(#01591c92d6a)\"><g transform=\"translate(123.08 248.54) scale(.08 -.08)\"><use transform=\"translate(0 .3125)\" xlink:href=\"#DejaVuSans-2212\"/><use transform=\"translate(83.789 .3125)\" xlink:href=\"#DejaVuSans-Oblique-3c0\"/></g></g><g clip-path=\"url(#01591c92d6a)\"><g transform=\"translate(120.91 236.37) scale(.13 -.13)\"><use transform=\"translate(0 .09375)\" xlink:href=\"#DejaVuSans-52\"/><use transform=\"translate(70.439 -16.312) scale(.7)\" xlink:href=\"#DejaVuSans-5a\"/></g></g><g clip-path=\"url(#01591c92d6a)\"><g transform=\"translate(162.52 194.53) scale(.13 -.13)\" fill=\"#ffffff\"><use xlink:href=\"#DejaVuSans-30\"/></g></g><g clip-path=\"url(#01591c92d6a)\"><g transform=\"translate(162.52 240.88) scale(.13 -.13)\" fill=\"#ffffff\"><use xlink:href=\"#DejaVuSans-31\"/></g></g><g clip-path=\"url(#01591c92d6a)\"><g transform=\"translate(169.94 217.71) scale(.13 -.13)\" fill=\"#ffffff\"><use xlink:href=\"#DejaVuSans-45\"/><use x=\"63.183594\" xlink:href=\"#DejaVuSans-63\"/><use x=\"118.164062\" xlink:href=\"#DejaVuSans-72\"/></g></g><g clip-path=\"url(#01591c92d6a)\"><g transform=\"translate(215.79 202.19) scale(.08 -.08)\"><use transform=\"translate(0 .3125)\" xlink:href=\"#DejaVuSans-2212\"/><use transform=\"translate(83.789 .3125)\" xlink:href=\"#DejaVuSans-Oblique-3c0\"/></g></g><g clip-path=\"url(#01591c92d6a)\"><g transform=\"translate(213.62 190.01) scale(.13 -.13)\"><use transform=\"translate(0 .09375)\" xlink:href=\"#DejaVuSans-52\"/><use transform=\"translate(70.439 -16.312) scale(.7)\" xlink:href=\"#DejaVuSans-5a\"/></g></g><g clip-path=\"url(#01591c92d6a)\"><g transform=\"translate(211.54 241.74) scale(.13 -.13)\" fill=\"#ffffff\"><use transform=\"translate(0 17.094) scale(.56391)\" xlink:href=\"#STIXSizeOneSym-Regular-221a\"/><use transform=\"translate(72.088 .84375)\" xlink:href=\"#DejaVuSans-58\"/><path d=\"m59.588 97.5v6.25h93.506v-6.25h-93.506z\"/></g></g><g clip-path=\"url(#01591c92d6a)\"><g transform=\"translate(257.89 195.39) scale(.13 -.13)\" fill=\"#ffffff\"><use transform=\"translate(0 17.094) scale(.56391)\" xlink:href=\"#STIXSizeOneSym-Regular-221a\"/><use transform=\"translate(72.088 .84375)\" xlink:href=\"#DejaVuSans-58\"/><path d=\"m59.588 97.5v6.25h93.506v-6.25h-93.506z\"/></g></g><g clip-path=\"url(#01591c92d6a)\"><g transform=\"translate(248.9 248.54) scale(.08 -.08)\"><use transform=\"translate(0 .23438)\" xlink:href=\"#DejaVuSans-3b8\"/><use transform=\"translate(61.182 .23438)\" xlink:href=\"#DejaVuSans-5b\"/><use transform=\"translate(100.2 .23438)\" xlink:href=\"#DejaVuSans-31\"/><use transform=\"translate(163.82 .23438)\" xlink:href=\"#DejaVuSans-33\"/><use transform=\"translate(227.44 .23438)\" xlink:href=\"#DejaVuSans-5d\"/><use transform=\"translate(266.46 .23438)\" xlink:href=\"#DejaVuSans-20\"/><use transform=\"translate(298.24 .23438)\" xlink:href=\"#DejaVuSans-2b\"/><use transform=\"translate(382.03 .23438)\" xlink:href=\"#DejaVuSans-20\"/><use transform=\"translate(413.82 .23438)\" xlink:href=\"#DejaVuSans-Oblique-3c0\"/></g></g><g clip-path=\"url(#01591c92d6a)\"><g transform=\"translate(259.97 236.37) scale(.13 -.13)\"><use transform=\"translate(0 .09375)\" xlink:href=\"#DejaVuSans-52\"/><use transform=\"translate(70.439 -16.312) scale(.7)\" xlink:href=\"#DejaVuSans-5a\"/></g></g><g clip-path=\"url(#01591c92d6a)\"><g transform=\"translate(308.5 202.19) scale(.08 -.08)\"><use transform=\"translate(0 .3125)\" xlink:href=\"#DejaVuSans-2212\"/><use transform=\"translate(83.789 .3125)\" xlink:href=\"#DejaVuSans-Oblique-3c0\"/></g></g><g clip-path=\"url(#01591c92d6a)\"><g transform=\"translate(306.33 190.01) scale(.13 -.13)\"><use transform=\"translate(0 .09375)\" xlink:href=\"#DejaVuSans-52\"/><use transform=\"translate(70.439 -16.312) scale(.7)\" xlink:href=\"#DejaVuSans-5a\"/></g></g><g clip-path=\"url(#01591c92d6a)\"><g transform=\"translate(304.25 241.74) scale(.13 -.13)\" fill=\"#ffffff\"><use transform=\"translate(0 17.094) scale(.56391)\" xlink:href=\"#STIXSizeOneSym-Regular-221a\"/><use transform=\"translate(72.088 .84375)\" xlink:href=\"#DejaVuSans-58\"/><path d=\"m59.588 97.5v6.25h93.506v-6.25h-93.506z\"/></g></g><g clip-path=\"url(#01591c92d6a)\"><g transform=\"translate(341.61 202.19) scale(.08 -.08)\"><use transform=\"translate(0 .23438)\" xlink:href=\"#DejaVuSans-3b8\"/><use transform=\"translate(61.182 .23438)\" xlink:href=\"#DejaVuSans-5b\"/><use transform=\"translate(100.2 .23438)\" xlink:href=\"#DejaVuSans-31\"/><use transform=\"translate(163.82 .23438)\" xlink:href=\"#DejaVuSans-32\"/><use transform=\"translate(227.44 .23438)\" xlink:href=\"#DejaVuSans-5d\"/><use transform=\"translate(266.46 .23438)\" xlink:href=\"#DejaVuSans-20\"/><use transform=\"translate(298.24 .23438)\" xlink:href=\"#DejaVuSans-2b\"/><use transform=\"translate(382.03 .23438)\" xlink:href=\"#DejaVuSans-20\"/><use transform=\"translate(413.82 .23438)\" xlink:href=\"#DejaVuSans-Oblique-3c0\"/></g></g><g clip-path=\"url(#01591c92d6a)\"><g transform=\"translate(352.68 190.01) scale(.13 -.13)\"><use transform=\"translate(0 .09375)\" xlink:href=\"#DejaVuSans-52\"/><use transform=\"translate(70.439 -16.312) scale(.7)\" xlink:href=\"#DejaVuSans-5a\"/></g></g><g clip-path=\"url(#01591c92d6a)\"><g transform=\"translate(355.65 248.54) scale(.08 -.08)\"><use transform=\"translate(0 .78125)\" xlink:href=\"#DejaVuSans-33\"/><use transform=\"translate(63.623 .78125)\" xlink:href=\"#DejaVuSans-Oblique-3c0\"/></g></g><g clip-path=\"url(#01591c92d6a)\"><g transform=\"translate(352.68 236.37) scale(.13 -.13)\"><use transform=\"translate(0 .09375)\" xlink:href=\"#DejaVuSans-52\"/><use transform=\"translate(70.439 -16.312) scale(.7)\" xlink:href=\"#DejaVuSans-5a\"/></g></g><g clip-path=\"url(#01591c92d6a)\"><g transform=\"translate(396.96 195.39) scale(.13 -.13)\" fill=\"#ffffff\"><use transform=\"translate(0 17.094) scale(.56391)\" xlink:href=\"#STIXSizeOneSym-Regular-221a\"/><use transform=\"translate(72.088 .84375)\" xlink:href=\"#DejaVuSans-58\"/><path d=\"m59.588 97.5v6.25h93.506v-6.25h-93.506z\"/></g></g><g clip-path=\"url(#01591c92d6a)\"><g transform=\"translate(396.31 248.54) scale(.08 -.08)\"><use xlink:href=\"#DejaVuSans-3b8\"/><use x=\"61.181641\" xlink:href=\"#DejaVuSans-5b\"/><use x=\"100.195312\" xlink:href=\"#DejaVuSans-31\"/><use x=\"163.818359\" xlink:href=\"#DejaVuSans-35\"/><use x=\"227.441406\" xlink:href=\"#DejaVuSans-5d\"/></g></g><g clip-path=\"url(#01591c92d6a)\"><g transform=\"translate(399.04 236.37) scale(.13 -.13)\"><use transform=\"translate(0 .09375)\" xlink:href=\"#DejaVuSans-52\"/><use transform=\"translate(70.439 -16.312) scale(.7)\" xlink:href=\"#DejaVuSans-5a\"/></g></g><g clip-path=\"url(#01591c92d6a)\"><g transform=\"translate(448.36 202.19) scale(.08 -.08)\"><use transform=\"translate(0 .78125)\" xlink:href=\"#DejaVuSans-33\"/><use transform=\"translate(63.623 .78125)\" xlink:href=\"#DejaVuSans-Oblique-3c0\"/></g></g><g clip-path=\"url(#01591c92d6a)\"><g transform=\"translate(445.39 190.01) scale(.13 -.13)\"><use transform=\"translate(0 .09375)\" xlink:href=\"#DejaVuSans-52\"/><use transform=\"translate(70.439 -16.312) scale(.7)\" xlink:href=\"#DejaVuSans-5a\"/></g></g><g clip-path=\"url(#01591c92d6a)\"><g transform=\"translate(489.02 202.19) scale(.08 -.08)\"><use xlink:href=\"#DejaVuSans-3b8\"/><use x=\"61.181641\" xlink:href=\"#DejaVuSans-5b\"/><use x=\"100.195312\" xlink:href=\"#DejaVuSans-31\"/><use x=\"163.818359\" xlink:href=\"#DejaVuSans-34\"/><use x=\"227.441406\" xlink:href=\"#DejaVuSans-5d\"/></g></g><g clip-path=\"url(#01591c92d6a)\"><g transform=\"translate(491.74 190.01) scale(.13 -.13)\"><use transform=\"translate(0 .09375)\" xlink:href=\"#DejaVuSans-52\"/><use transform=\"translate(70.439 -16.312) scale(.7)\" xlink:href=\"#DejaVuSans-5a\"/></g></g><defs><clipPath id=\"01591c92d6a\"><rect x=\"7.2\" y=\"14.798\" width=\"1264.7\" height=\"250.31\"/></clipPath></defs></svg>"
      ],
      "text/plain": [
       "<Figure size 2281.26x451.5 with 1 Axes>"
      ]
     },
     "execution_count": 7,
     "metadata": {},
     "output_type": "execute_result"
    }
   ],
   "source": [
    "ansatz_isa.draw(output=\"mpl\", idle_wires=False, style=\"iqp\")"
   ]
  },
  {
   "cell_type": "markdown",
   "id": "aab9e309-d643-496f-ad4b-c90173102ad6",
   "metadata": {},
   "source": [
    "### ISA observable"
   ]
  },
  {
   "cell_type": "markdown",
   "id": "6c9e5dcd",
   "metadata": {},
   "source": [
    "Transform the Hamiltonian to make it backend-compatible before running jobs with [`Runtime Estimator V2`](https://docs.quantum.ibm.com/api/qiskit-ibm-runtime/qiskit_ibm_runtime.EstimatorV2#run). Perform the transformation by using the `apply_layout` method of `SparsePauliOp` object."
   ]
  },
  {
   "cell_type": "code",
   "execution_count": 8,
   "id": "3451901c",
   "metadata": {},
   "outputs": [],
   "source": [
    "hamiltonian_isa = hamiltonian.apply_layout(layout=ansatz_isa.layout)"
   ]
  },
  {
   "attachments": {},
   "cell_type": "markdown",
   "id": "b4d480b3",
   "metadata": {},
   "source": [
    "## Step 3: Execute using Qiskit Primitives\n",
    "\n",
    "Like many classical optimization problems, the solution to a VQE problem can be formulated as minimization of a scalar cost function.  By definition, VQE looks to find the ground state solution to a Hamiltonian by optimizing the ansatz circuit parameters to minimize the expectation value (energy) of the Hamiltonian.  With the Qiskit Runtime [`Estimator`](https://docs.quantum.ibm.com/api/qiskit-ibm-runtime/qiskit_ibm_runtime.EstimatorV2) directly taking a Hamiltonian and parameterized ansatz, and returning the necessary energy, the cost function for a VQE instance is quite simple.\n",
    "\n",
    "Note that the `run()` method of [Qiskit Runtime `EstimatorV2`](https://docs.quantum.ibm.com/api/qiskit-ibm-runtime/qiskit_ibm_runtime.EstimatorV2)  takes an iterable of `primitive unified blocs (PUBs)`. Each PUB is an iterable in the format `(circuit, observables, parameter_values: Optional, precision: Optional)`."
   ]
  },
  {
   "cell_type": "code",
   "execution_count": 9,
   "id": "b22a1b00",
   "metadata": {},
   "outputs": [],
   "source": [
    "def cost_func(params, ansatz, hamiltonian, estimator):\n",
    "    \"\"\"Return estimate of energy from estimator\n",
    "\n",
    "    Parameters:\n",
    "        params (ndarray): Array of ansatz parameters\n",
    "        ansatz (QuantumCircuit): Parameterized ansatz circuit\n",
    "        hamiltonian (SparsePauliOp): Operator representation of Hamiltonian\n",
    "        estimator (EstimatorV2): Estimator primitive instance\n",
    "        cost_history_dict: Dictionary for storing intermediate results\n",
    "\n",
    "    Returns:\n",
    "        float: Energy estimate\n",
    "    \"\"\"\n",
    "    pub = (ansatz, [hamiltonian], [params])\n",
    "    result = estimator.run(pubs=[pub]).result()\n",
    "    energy = result[0].data.evs[0]\n",
    "\n",
    "    cost_history_dict[\"iters\"] += 1\n",
    "    cost_history_dict[\"prev_vector\"] = params\n",
    "    cost_history_dict[\"cost_history\"].append(energy)\n",
    "    print(f\"Iters. done: {cost_history_dict['iters']} [Current cost: {energy}]\")\n",
    "\n",
    "    return energy"
   ]
  },
  {
   "attachments": {},
   "cell_type": "markdown",
   "id": "179ba2c4",
   "metadata": {},
   "source": [
    "Note that, in addition to the array of optimization parameters that must be the first argument, we use additional arguments to pass the terms needed in the cost function, such as the `cost_history_dict`. This dictionary stores the current vector at each iteration, for example in case you need to restart the routine due to failure, and also returns the current iteration number and average time per iteration."
   ]
  },
  {
   "cell_type": "code",
   "execution_count": 10,
   "id": "a6bc1ade",
   "metadata": {},
   "outputs": [],
   "source": [
    "cost_history_dict = {\n",
    "    \"prev_vector\": None,\n",
    "    \"iters\": 0,\n",
    "    \"cost_history\": [],\n",
    "}"
   ]
  },
  {
   "cell_type": "markdown",
   "id": "e80ff7d9",
   "metadata": {},
   "source": [
    "We can now use a classical optimizer of our choice to minimize the cost function. Here, we use the [COBYLA routine from SciPy through the `minimize` function](https://docs.scipy.org/doc/scipy/reference/generated/scipy.optimize.minimize.html). Note that when running on real quantum hardware, the choice of optimizer is important, as not all optimizers handle noisy cost function landscapes equally well.\n",
    "\n",
    "To begin the routine, specify a random initial set of parameters:"
   ]
  },
  {
   "cell_type": "code",
   "execution_count": 11,
   "id": "d6b90cca",
   "metadata": {},
   "outputs": [],
   "source": [
    "x0 = 2 * np.pi * np.random.random(num_params)"
   ]
  },
  {
   "cell_type": "code",
   "execution_count": 12,
   "id": "d4587c1d-5d59-47aa-b36c-b6d07b5f84e4",
   "metadata": {},
   "outputs": [
    {
     "data": {
      "text/plain": [
       "array([6.01033044, 3.42125742, 2.69055078, 3.05706475, 1.94882341,\n",
       "       0.51099103, 5.78513237, 2.99550946, 1.44409615, 5.85608656,\n",
       "       0.88065877, 4.49255662, 1.93150906, 5.06833052, 5.43338166,\n",
       "       0.90426186])"
      ]
     },
     "execution_count": 12,
     "metadata": {},
     "output_type": "execute_result"
    }
   ],
   "source": [
    "x0"
   ]
  },
  {
   "cell_type": "markdown",
   "id": "67d09ca9",
   "metadata": {},
   "source": [
    "Because we are sending a large number of jobs that we would like to execute together, we use a [`Session`](https://docs.quantum-computing.ibm.com/api/qiskit-ibm-runtime/qiskit_ibm_runtime.Session) to execute all the generated circuits in one block.  Here `args` is the standard SciPy way to supply the additional parameters needed by the cost function."
   ]
  },
  {
   "cell_type": "code",
   "execution_count": 13,
   "id": "61a802d2-5c58-4495-a617-f15fabef367e",
   "metadata": {},
   "outputs": [
    {
     "name": "stdout",
     "output_type": "stream",
     "text": [
      "Iters. done: 1 [Current cost: 0.31872908414404544]\n"
     ]
    },
    {
     "name": "stdout",
     "output_type": "stream",
     "text": [
      "Iters. done: 2 [Current cost: 0.05332247911314108]\n"
     ]
    },
    {
     "name": "stdout",
     "output_type": "stream",
     "text": [
      "Iters. done: 3 [Current cost: -0.05733525836817121]\n"
     ]
    },
    {
     "name": "stdout",
     "output_type": "stream",
     "text": [
      "Iters. done: 4 [Current cost: -0.09193301987044006]\n"
     ]
    },
    {
     "name": "stdout",
     "output_type": "stream",
     "text": [
      "Iters. done: 5 [Current cost: -0.016875486903630638]\n"
     ]
    },
    {
     "name": "stdout",
     "output_type": "stream",
     "text": [
      "Iters. done: 6 [Current cost: 0.07553039871108921]\n"
     ]
    },
    {
     "name": "stdout",
     "output_type": "stream",
     "text": [
      "Iters. done: 7 [Current cost: 0.1561504708891303]\n"
     ]
    },
    {
     "name": "stdout",
     "output_type": "stream",
     "text": [
      "Iters. done: 8 [Current cost: -0.07597883665418659]\n"
     ]
    },
    {
     "name": "stdout",
     "output_type": "stream",
     "text": [
      "Iters. done: 9 [Current cost: 0.04109006490969499]\n"
     ]
    },
    {
     "name": "stdout",
     "output_type": "stream",
     "text": [
      "Iters. done: 10 [Current cost: -0.3805606997008048]\n"
     ]
    },
    {
     "name": "stdout",
     "output_type": "stream",
     "text": [
      "Iters. done: 11 [Current cost: -0.5915433610729262]\n"
     ]
    },
    {
     "name": "stdout",
     "output_type": "stream",
     "text": [
      "Iters. done: 12 [Current cost: -0.3603640347565253]\n"
     ]
    },
    {
     "name": "stdout",
     "output_type": "stream",
     "text": [
      "Iters. done: 13 [Current cost: -0.29493560778962774]\n"
     ]
    },
    {
     "name": "stdout",
     "output_type": "stream",
     "text": [
      "Iters. done: 14 [Current cost: -0.27929694835926555]\n"
     ]
    },
    {
     "name": "stdout",
     "output_type": "stream",
     "text": [
      "Iters. done: 15 [Current cost: -0.38225583902513893]\n"
     ]
    },
    {
     "name": "stdout",
     "output_type": "stream",
     "text": [
      "Iters. done: 16 [Current cost: -0.5907910296907688]\n"
     ]
    },
    {
     "name": "stdout",
     "output_type": "stream",
     "text": [
      "Iters. done: 17 [Current cost: -0.3377015390464457]\n"
     ]
    },
    {
     "name": "stdout",
     "output_type": "stream",
     "text": [
      "Iters. done: 18 [Current cost: -0.6231492704561443]\n"
     ]
    },
    {
     "name": "stdout",
     "output_type": "stream",
     "text": [
      "Iters. done: 19 [Current cost: -0.62380271928589]\n"
     ]
    },
    {
     "name": "stdout",
     "output_type": "stream",
     "text": [
      "Iters. done: 20 [Current cost: -0.56187788292368]\n"
     ]
    },
    {
     "name": "stdout",
     "output_type": "stream",
     "text": [
      "Iters. done: 21 [Current cost: -0.6220072197236571]\n"
     ]
    },
    {
     "name": "stdout",
     "output_type": "stream",
     "text": [
      "Iters. done: 22 [Current cost: -0.5352482148414961]\n"
     ]
    },
    {
     "name": "stdout",
     "output_type": "stream",
     "text": [
      "Iters. done: 23 [Current cost: -0.5551552733872273]\n"
     ]
    },
    {
     "name": "stdout",
     "output_type": "stream",
     "text": [
      "Iters. done: 24 [Current cost: -0.3436839512777538]\n"
     ]
    },
    {
     "name": "stdout",
     "output_type": "stream",
     "text": [
      "Iters. done: 25 [Current cost: -0.5579021011244261]\n"
     ]
    },
    {
     "name": "stdout",
     "output_type": "stream",
     "text": [
      "Iters. done: 26 [Current cost: -0.5572109195220031]\n"
     ]
    },
    {
     "name": "stdout",
     "output_type": "stream",
     "text": [
      "Iters. done: 27 [Current cost: -0.6087062008791188]\n"
     ]
    },
    {
     "name": "stdout",
     "output_type": "stream",
     "text": [
      "Iters. done: 28 [Current cost: -0.5251310963397335]\n"
     ]
    },
    {
     "name": "stdout",
     "output_type": "stream",
     "text": [
      "Iters. done: 29 [Current cost: -0.6130862717697216]\n"
     ]
    },
    {
     "name": "stdout",
     "output_type": "stream",
     "text": [
      "Iters. done: 30 [Current cost: -0.5824440127451308]\n"
     ]
    },
    {
     "name": "stdout",
     "output_type": "stream",
     "text": [
      "Iters. done: 31 [Current cost: -0.568312434324023]\n"
     ]
    },
    {
     "name": "stdout",
     "output_type": "stream",
     "text": [
      "Iters. done: 32 [Current cost: -0.5980801972473637]\n"
     ]
    },
    {
     "name": "stdout",
     "output_type": "stream",
     "text": [
      "Iters. done: 33 [Current cost: -0.6274460198642635]\n"
     ]
    },
    {
     "name": "stdout",
     "output_type": "stream",
     "text": [
      "Iters. done: 34 [Current cost: -0.5875147954723947]\n"
     ]
    },
    {
     "name": "stdout",
     "output_type": "stream",
     "text": [
      "Iters. done: 35 [Current cost: -0.5550977564328271]\n"
     ]
    },
    {
     "name": "stdout",
     "output_type": "stream",
     "text": [
      "Iters. done: 36 [Current cost: -0.59935019453602]\n"
     ]
    },
    {
     "name": "stdout",
     "output_type": "stream",
     "text": [
      "Iters. done: 37 [Current cost: -0.5788283729557738]\n"
     ]
    },
    {
     "name": "stdout",
     "output_type": "stream",
     "text": [
      "Iters. done: 38 [Current cost: -0.5462442608711413]\n"
     ]
    },
    {
     "name": "stdout",
     "output_type": "stream",
     "text": [
      "Iters. done: 39 [Current cost: -0.5425106710773075]\n"
     ]
    },
    {
     "name": "stdout",
     "output_type": "stream",
     "text": [
      "Iters. done: 40 [Current cost: -0.6205949688907259]\n"
     ]
    },
    {
     "name": "stdout",
     "output_type": "stream",
     "text": [
      "Iters. done: 41 [Current cost: -0.6377611856936093]\n"
     ]
    },
    {
     "name": "stdout",
     "output_type": "stream",
     "text": [
      "Iters. done: 42 [Current cost: -0.6272155875590546]\n"
     ]
    },
    {
     "name": "stdout",
     "output_type": "stream",
     "text": [
      "Iters. done: 43 [Current cost: -0.5992616652631068]\n"
     ]
    },
    {
     "name": "stdout",
     "output_type": "stream",
     "text": [
      "Iters. done: 44 [Current cost: -0.6521846641498605]\n"
     ]
    },
    {
     "name": "stdout",
     "output_type": "stream",
     "text": [
      "Iters. done: 45 [Current cost: -0.6395742810407617]\n"
     ]
    },
    {
     "name": "stdout",
     "output_type": "stream",
     "text": [
      "Iters. done: 46 [Current cost: -0.5863259437472625]\n"
     ]
    },
    {
     "name": "stdout",
     "output_type": "stream",
     "text": [
      "Iters. done: 47 [Current cost: -0.6285040856558404]\n"
     ]
    },
    {
     "name": "stdout",
     "output_type": "stream",
     "text": [
      "Iters. done: 48 [Current cost: -0.6010909573256783]\n"
     ]
    },
    {
     "name": "stdout",
     "output_type": "stream",
     "text": [
      "Iters. done: 49 [Current cost: -0.6125485964096171]\n"
     ]
    },
    {
     "name": "stdout",
     "output_type": "stream",
     "text": [
      "Iters. done: 50 [Current cost: -0.651741508609123]\n"
     ]
    },
    {
     "name": "stdout",
     "output_type": "stream",
     "text": [
      "Iters. done: 51 [Current cost: -0.6379967607932536]\n"
     ]
    },
    {
     "name": "stdout",
     "output_type": "stream",
     "text": [
      "Iters. done: 52 [Current cost: -0.6374363117661479]\n"
     ]
    },
    {
     "name": "stdout",
     "output_type": "stream",
     "text": [
      "Iters. done: 53 [Current cost: -0.6641509631587597]\n"
     ]
    },
    {
     "name": "stdout",
     "output_type": "stream",
     "text": [
      "Iters. done: 54 [Current cost: -0.6821497424030518]\n"
     ]
    },
    {
     "name": "stdout",
     "output_type": "stream",
     "text": [
      "Iters. done: 55 [Current cost: -0.6683804715918115]\n"
     ]
    },
    {
     "name": "stdout",
     "output_type": "stream",
     "text": [
      "Iters. done: 56 [Current cost: -0.6776734262548467]\n"
     ]
    },
    {
     "name": "stdout",
     "output_type": "stream",
     "text": [
      "Iters. done: 57 [Current cost: -0.6741213639441594]\n"
     ]
    },
    {
     "name": "stdout",
     "output_type": "stream",
     "text": [
      "Iters. done: 58 [Current cost: -0.6546457667865788]\n"
     ]
    },
    {
     "name": "stdout",
     "output_type": "stream",
     "text": [
      "Iters. done: 59 [Current cost: -0.6663933270230858]\n"
     ]
    },
    {
     "name": "stdout",
     "output_type": "stream",
     "text": [
      "Iters. done: 60 [Current cost: -0.6801399690454643]\n"
     ]
    },
    {
     "name": "stdout",
     "output_type": "stream",
     "text": [
      "Iters. done: 61 [Current cost: -0.6813702188361852]\n"
     ]
    },
    {
     "name": "stdout",
     "output_type": "stream",
     "text": [
      "Iters. done: 62 [Current cost: -0.6714588246878307]\n"
     ]
    },
    {
     "name": "stdout",
     "output_type": "stream",
     "text": [
      "Iters. done: 63 [Current cost: -0.6825983780903506]\n"
     ]
    },
    {
     "name": "stdout",
     "output_type": "stream",
     "text": [
      "Iters. done: 64 [Current cost: -0.672440216999892]\n"
     ]
    },
    {
     "name": "stdout",
     "output_type": "stream",
     "text": [
      "Iters. done: 65 [Current cost: -0.6740934659988794]\n"
     ]
    },
    {
     "name": "stdout",
     "output_type": "stream",
     "text": [
      "Iters. done: 66 [Current cost: -0.6831944217059401]\n"
     ]
    },
    {
     "name": "stdout",
     "output_type": "stream",
     "text": [
      "Iters. done: 67 [Current cost: -0.6850743120697568]\n"
     ]
    },
    {
     "name": "stdout",
     "output_type": "stream",
     "text": [
      "Iters. done: 68 [Current cost: -0.6805707010857616]\n"
     ]
    },
    {
     "name": "stdout",
     "output_type": "stream",
     "text": [
      "Iters. done: 69 [Current cost: -0.6704741975741164]\n"
     ]
    },
    {
     "name": "stdout",
     "output_type": "stream",
     "text": [
      "Iters. done: 70 [Current cost: -0.6973061245949967]\n"
     ]
    },
    {
     "name": "stdout",
     "output_type": "stream",
     "text": [
      "Iters. done: 71 [Current cost: -0.682422883079569]\n"
     ]
    },
    {
     "name": "stdout",
     "output_type": "stream",
     "text": [
      "Iters. done: 72 [Current cost: -0.6710310566240443]\n"
     ]
    },
    {
     "name": "stdout",
     "output_type": "stream",
     "text": [
      "Iters. done: 73 [Current cost: -0.6788314307424347]\n"
     ]
    },
    {
     "name": "stdout",
     "output_type": "stream",
     "text": [
      "Iters. done: 74 [Current cost: -0.6823993563666338]\n"
     ]
    },
    {
     "name": "stdout",
     "output_type": "stream",
     "text": [
      "Iters. done: 75 [Current cost: -0.6674241617578623]\n"
     ]
    },
    {
     "name": "stdout",
     "output_type": "stream",
     "text": [
      "Iters. done: 76 [Current cost: -0.666686655402005]\n"
     ]
    },
    {
     "name": "stdout",
     "output_type": "stream",
     "text": [
      "Iters. done: 77 [Current cost: -0.6774618982326149]\n"
     ]
    },
    {
     "name": "stdout",
     "output_type": "stream",
     "text": [
      "Iters. done: 78 [Current cost: -0.6695311139970925]\n"
     ]
    },
    {
     "name": "stdout",
     "output_type": "stream",
     "text": [
      "Iters. done: 79 [Current cost: -0.6504213303246186]\n"
     ]
    },
    {
     "name": "stdout",
     "output_type": "stream",
     "text": [
      "Iters. done: 80 [Current cost: -0.6464582608161827]\n"
     ]
    },
    {
     "name": "stdout",
     "output_type": "stream",
     "text": [
      "Iters. done: 81 [Current cost: -0.6345793064179371]\n"
     ]
    },
    {
     "name": "stdout",
     "output_type": "stream",
     "text": [
      "Iters. done: 82 [Current cost: -0.6558439013969629]\n"
     ]
    },
    {
     "name": "stdout",
     "output_type": "stream",
     "text": [
      "Iters. done: 83 [Current cost: -0.69002005158908]\n"
     ]
    },
    {
     "name": "stdout",
     "output_type": "stream",
     "text": [
      "Iters. done: 84 [Current cost: -0.6880388244147784]\n"
     ]
    },
    {
     "name": "stdout",
     "output_type": "stream",
     "text": [
      "Iters. done: 85 [Current cost: -0.6875833710168935]\n"
     ]
    },
    {
     "name": "stdout",
     "output_type": "stream",
     "text": [
      "Iters. done: 86 [Current cost: -0.6842475184163425]\n"
     ]
    },
    {
     "name": "stdout",
     "output_type": "stream",
     "text": [
      "Iters. done: 87 [Current cost: -0.6966126998731381]\n"
     ]
    },
    {
     "name": "stdout",
     "output_type": "stream",
     "text": [
      "Iters. done: 88 [Current cost: -0.6774629150294816]\n"
     ]
    },
    {
     "name": "stdout",
     "output_type": "stream",
     "text": [
      "Iters. done: 89 [Current cost: -0.6925383889940904]\n"
     ]
    },
    {
     "name": "stdout",
     "output_type": "stream",
     "text": [
      "Iters. done: 90 [Current cost: -0.6872375988325404]\n"
     ]
    },
    {
     "name": "stdout",
     "output_type": "stream",
     "text": [
      "Iters. done: 91 [Current cost: -0.6870930125739051]\n"
     ]
    },
    {
     "name": "stdout",
     "output_type": "stream",
     "text": [
      "Iters. done: 92 [Current cost: -0.6926221111222556]\n"
     ]
    },
    {
     "name": "stdout",
     "output_type": "stream",
     "text": [
      "Iters. done: 93 [Current cost: -0.6830390873122324]\n"
     ]
    },
    {
     "name": "stdout",
     "output_type": "stream",
     "text": [
      "Iters. done: 94 [Current cost: -0.6904697754284055]\n"
     ]
    },
    {
     "name": "stdout",
     "output_type": "stream",
     "text": [
      "Iters. done: 95 [Current cost: -0.6785678320833238]\n"
     ]
    },
    {
     "name": "stdout",
     "output_type": "stream",
     "text": [
      "Iters. done: 96 [Current cost: -0.6926573199187536]\n"
     ]
    },
    {
     "name": "stdout",
     "output_type": "stream",
     "text": [
      "Iters. done: 97 [Current cost: -0.6930805889468624]\n"
     ]
    },
    {
     "name": "stdout",
     "output_type": "stream",
     "text": [
      "Iters. done: 98 [Current cost: -0.686432100815364]\n"
     ]
    },
    {
     "name": "stdout",
     "output_type": "stream",
     "text": [
      "Iters. done: 99 [Current cost: -0.6808490178051242]\n"
     ]
    },
    {
     "name": "stdout",
     "output_type": "stream",
     "text": [
      "Iters. done: 100 [Current cost: -0.6860821458857853]\n"
     ]
    },
    {
     "name": "stdout",
     "output_type": "stream",
     "text": [
      "Iters. done: 101 [Current cost: -0.6913911154934782]\n"
     ]
    },
    {
     "name": "stdout",
     "output_type": "stream",
     "text": [
      "Iters. done: 102 [Current cost: -0.6886580908555072]\n"
     ]
    },
    {
     "name": "stdout",
     "output_type": "stream",
     "text": [
      "Iters. done: 103 [Current cost: -0.6898408173139683]\n"
     ]
    },
    {
     "name": "stdout",
     "output_type": "stream",
     "text": [
      "Iters. done: 104 [Current cost: -0.6870592548302957]\n"
     ]
    },
    {
     "name": "stdout",
     "output_type": "stream",
     "text": [
      "Iters. done: 105 [Current cost: -0.692769966002427]\n"
     ]
    },
    {
     "name": "stdout",
     "output_type": "stream",
     "text": [
      "Iters. done: 106 [Current cost: -0.6806635254109943]\n"
     ]
    },
    {
     "name": "stdout",
     "output_type": "stream",
     "text": [
      "Iters. done: 107 [Current cost: -0.6857390607727607]\n"
     ]
    },
    {
     "name": "stdout",
     "output_type": "stream",
     "text": [
      "Iters. done: 108 [Current cost: -0.6924756726245843]\n"
     ]
    },
    {
     "name": "stdout",
     "output_type": "stream",
     "text": [
      "Iters. done: 109 [Current cost: -0.6891275190413613]\n"
     ]
    },
    {
     "name": "stdout",
     "output_type": "stream",
     "text": [
      "Iters. done: 110 [Current cost: -0.6898329790456188]\n"
     ]
    },
    {
     "name": "stdout",
     "output_type": "stream",
     "text": [
      "Iters. done: 111 [Current cost: -0.6848660716766907]\n"
     ]
    },
    {
     "name": "stdout",
     "output_type": "stream",
     "text": [
      "Iters. done: 112 [Current cost: -0.6823975863491619]\n"
     ]
    },
    {
     "name": "stdout",
     "output_type": "stream",
     "text": [
      "Iters. done: 113 [Current cost: -0.6826220197285111]\n"
     ]
    },
    {
     "name": "stdout",
     "output_type": "stream",
     "text": [
      "Iters. done: 114 [Current cost: -0.6799165475345168]\n"
     ]
    },
    {
     "name": "stdout",
     "output_type": "stream",
     "text": [
      "Iters. done: 115 [Current cost: -0.6923971876151412]\n"
     ]
    },
    {
     "name": "stdout",
     "output_type": "stream",
     "text": [
      "Iters. done: 116 [Current cost: -0.6915255409109828]\n"
     ]
    },
    {
     "name": "stdout",
     "output_type": "stream",
     "text": [
      "Iters. done: 117 [Current cost: -0.6888868201015147]\n"
     ]
    },
    {
     "name": "stdout",
     "output_type": "stream",
     "text": [
      "Iters. done: 118 [Current cost: -0.6934664941799394]\n"
     ]
    },
    {
     "name": "stdout",
     "output_type": "stream",
     "text": [
      "Iters. done: 119 [Current cost: -0.6909716570600177]\n"
     ]
    },
    {
     "name": "stdout",
     "output_type": "stream",
     "text": [
      "Iters. done: 120 [Current cost: -0.6848963619172278]\n"
     ]
    },
    {
     "name": "stdout",
     "output_type": "stream",
     "text": [
      "Iters. done: 121 [Current cost: -0.6891492386985703]\n"
     ]
    },
    {
     "name": "stdout",
     "output_type": "stream",
     "text": [
      "Iters. done: 122 [Current cost: -0.6844193961104535]\n"
     ]
    },
    {
     "name": "stdout",
     "output_type": "stream",
     "text": [
      "Iters. done: 123 [Current cost: -0.6904187105929747]\n"
     ]
    },
    {
     "name": "stdout",
     "output_type": "stream",
     "text": [
      "Iters. done: 124 [Current cost: -0.6867449048555667]\n"
     ]
    },
    {
     "name": "stdout",
     "output_type": "stream",
     "text": [
      "Iters. done: 125 [Current cost: -0.6935834697214169]\n"
     ]
    },
    {
     "name": "stdout",
     "output_type": "stream",
     "text": [
      "Iters. done: 126 [Current cost: -0.6904627682716127]\n"
     ]
    },
    {
     "name": "stdout",
     "output_type": "stream",
     "text": [
      "Iters. done: 127 [Current cost: -0.6930023211547341]\n"
     ]
    },
    {
     "name": "stdout",
     "output_type": "stream",
     "text": [
      "Iters. done: 128 [Current cost: -0.6814017734626042]\n"
     ]
    },
    {
     "name": "stdout",
     "output_type": "stream",
     "text": [
      "Iters. done: 129 [Current cost: -0.691368636211864]\n"
     ]
    },
    {
     "name": "stdout",
     "output_type": "stream",
     "text": [
      "Iters. done: 130 [Current cost: -0.6949506999657679]\n"
     ]
    },
    {
     "name": "stdout",
     "output_type": "stream",
     "text": [
      "Iters. done: 131 [Current cost: -0.6806092221679958]\n"
     ]
    },
    {
     "name": "stdout",
     "output_type": "stream",
     "text": [
      "Iters. done: 132 [Current cost: -0.6825664212376155]\n"
     ]
    },
    {
     "name": "stdout",
     "output_type": "stream",
     "text": [
      "Iters. done: 133 [Current cost: -0.6854866869486071]\n"
     ]
    },
    {
     "name": "stdout",
     "output_type": "stream",
     "text": [
      "Iters. done: 134 [Current cost: -0.6808676979937159]\n"
     ]
    },
    {
     "name": "stdout",
     "output_type": "stream",
     "text": [
      "Iters. done: 135 [Current cost: -0.7002294572589833]\n"
     ]
    },
    {
     "name": "stdout",
     "output_type": "stream",
     "text": [
      "Iters. done: 136 [Current cost: -0.7035903706026995]\n"
     ]
    },
    {
     "name": "stdout",
     "output_type": "stream",
     "text": [
      "Iters. done: 137 [Current cost: -0.692153625669559]\n"
     ]
    },
    {
     "name": "stdout",
     "output_type": "stream",
     "text": [
      "Iters. done: 138 [Current cost: -0.6898600322056543]\n"
     ]
    },
    {
     "name": "stdout",
     "output_type": "stream",
     "text": [
      "Iters. done: 139 [Current cost: -0.6925556122715808]\n"
     ]
    },
    {
     "name": "stdout",
     "output_type": "stream",
     "text": [
      "Iters. done: 140 [Current cost: -0.6842933995596693]\n"
     ]
    },
    {
     "name": "stdout",
     "output_type": "stream",
     "text": [
      "Iters. done: 141 [Current cost: -0.6847484751101199]\n"
     ]
    },
    {
     "name": "stdout",
     "output_type": "stream",
     "text": [
      "Iters. done: 142 [Current cost: -0.6791622684126596]\n"
     ]
    },
    {
     "name": "stdout",
     "output_type": "stream",
     "text": [
      "Iters. done: 143 [Current cost: -0.6822456803838898]\n"
     ]
    },
    {
     "name": "stdout",
     "output_type": "stream",
     "text": [
      "Iters. done: 144 [Current cost: -0.6819973969402315]\n"
     ]
    },
    {
     "name": "stdout",
     "output_type": "stream",
     "text": [
      "Iters. done: 145 [Current cost: -0.6890182176845808]\n"
     ]
    },
    {
     "name": "stdout",
     "output_type": "stream",
     "text": [
      "Iters. done: 146 [Current cost: -0.6828696465401426]\n"
     ]
    },
    {
     "name": "stdout",
     "output_type": "stream",
     "text": [
      "Iters. done: 147 [Current cost: -0.6855014435799711]\n"
     ]
    },
    {
     "name": "stdout",
     "output_type": "stream",
     "text": [
      "Iters. done: 148 [Current cost: -0.6840034729238571]\n"
     ]
    },
    {
     "name": "stdout",
     "output_type": "stream",
     "text": [
      "Iters. done: 149 [Current cost: -0.6896528183134051]\n"
     ]
    },
    {
     "name": "stdout",
     "output_type": "stream",
     "text": [
      "Iters. done: 150 [Current cost: -0.6861726701996971]\n"
     ]
    },
    {
     "name": "stdout",
     "output_type": "stream",
     "text": [
      "Iters. done: 151 [Current cost: -0.6819900510798613]\n"
     ]
    },
    {
     "name": "stdout",
     "output_type": "stream",
     "text": [
      "Iters. done: 152 [Current cost: -0.6990627527999292]\n"
     ]
    },
    {
     "name": "stdout",
     "output_type": "stream",
     "text": [
      "Iters. done: 153 [Current cost: -0.6857278395621165]\n"
     ]
    },
    {
     "name": "stdout",
     "output_type": "stream",
     "text": [
      "Iters. done: 154 [Current cost: -0.6880245407115045]\n"
     ]
    },
    {
     "name": "stdout",
     "output_type": "stream",
     "text": [
      "Iters. done: 155 [Current cost: -0.6980575790110636]\n"
     ]
    },
    {
     "name": "stdout",
     "output_type": "stream",
     "text": [
      "Iters. done: 156 [Current cost: -0.6823112747166241]\n"
     ]
    },
    {
     "name": "stdout",
     "output_type": "stream",
     "text": [
      "Iters. done: 157 [Current cost: -0.6833397576725261]\n"
     ]
    },
    {
     "name": "stdout",
     "output_type": "stream",
     "text": [
      "Iters. done: 158 [Current cost: -0.6944916215503313]\n"
     ]
    },
    {
     "name": "stdout",
     "output_type": "stream",
     "text": [
      "Iters. done: 159 [Current cost: -0.6914484497472895]\n"
     ]
    },
    {
     "name": "stdout",
     "output_type": "stream",
     "text": [
      "Iters. done: 160 [Current cost: -0.6901977687346004]\n"
     ]
    },
    {
     "name": "stdout",
     "output_type": "stream",
     "text": [
      "Iters. done: 161 [Current cost: -0.683150171761562]\n"
     ]
    },
    {
     "name": "stdout",
     "output_type": "stream",
     "text": [
      "Iters. done: 162 [Current cost: -0.682437444427721]\n"
     ]
    },
    {
     "name": "stdout",
     "output_type": "stream",
     "text": [
      "Iters. done: 163 [Current cost: -0.6921564379639266]\n"
     ]
    },
    {
     "name": "stdout",
     "output_type": "stream",
     "text": [
      "Iters. done: 164 [Current cost: -0.6765933995883807]\n"
     ]
    },
    {
     "name": "stdout",
     "output_type": "stream",
     "text": [
      "Iters. done: 165 [Current cost: -0.6812806423181021]\n"
     ]
    },
    {
     "name": "stdout",
     "output_type": "stream",
     "text": [
      "Iters. done: 166 [Current cost: -0.6905425681984867]\n"
     ]
    },
    {
     "name": "stdout",
     "output_type": "stream",
     "text": [
      "Iters. done: 167 [Current cost: -0.6978245213782931]\n"
     ]
    },
    {
     "name": "stdout",
     "output_type": "stream",
     "text": [
      "Iters. done: 168 [Current cost: -0.6876516406385846]\n"
     ]
    }
   ],
   "source": [
    "with Session(backend=backend) as session:\n",
    "    estimator = Estimator(mode=session)\n",
    "    estimator.options.default_shots = 10000\n",
    "\n",
    "    res = minimize(\n",
    "        cost_func,\n",
    "        x0,\n",
    "        args=(ansatz_isa, hamiltonian_isa, estimator),\n",
    "        method=\"cobyla\",\n",
    "    )"
   ]
  },
  {
   "cell_type": "markdown",
   "id": "937f5a6e",
   "metadata": {},
   "source": [
    "At the terminus of this routine we have a result in the standard SciPy `OptimizeResult` format.  From this we see that it took `nfev` number of cost function evaluations to obtain the solution vector of parameter angles (`x`) that, when plugged into the ansatz circuit, yield the approximate ground state solution we were looking for."
   ]
  },
  {
   "cell_type": "code",
   "execution_count": 14,
   "id": "4e76845a-3fa0-4d12-86b5-de5b2bdee86c",
   "metadata": {},
   "outputs": [
    {
     "data": {
      "text/plain": [
       " message: Optimization terminated successfully.\n",
       " success: True\n",
       "  status: 1\n",
       "     fun: -0.6876516406385846\n",
       "       x: [ 7.079e+00  4.881e+00 ...  5.382e+00  8.773e-01]\n",
       "    nfev: 168\n",
       "   maxcv: 0.0"
      ]
     },
     "execution_count": 14,
     "metadata": {},
     "output_type": "execute_result"
    }
   ],
   "source": [
    "res"
   ]
  },
  {
   "cell_type": "markdown",
   "id": "50b94af2",
   "metadata": {},
   "source": [
    "## Step 4: Post-process, return result in classical format"
   ]
  },
  {
   "attachments": {},
   "cell_type": "markdown",
   "id": "733431ad",
   "metadata": {},
   "source": [
    "If the procedure terminates correctly, then the `prev_vector` and `iters` values in our `cost_history_dict` dictionary should be equal to the solution vector and total number of function evaluations, respectively.  This is easy to verify:"
   ]
  },
  {
   "cell_type": "code",
   "execution_count": 15,
   "id": "31dc35ea-6554-4ca7-9c3b-0b5394c46e4e",
   "metadata": {},
   "outputs": [
    {
     "data": {
      "text/plain": [
       "True"
      ]
     },
     "execution_count": 15,
     "metadata": {},
     "output_type": "execute_result"
    }
   ],
   "source": [
    "all(cost_history_dict[\"prev_vector\"] == res.x)"
   ]
  },
  {
   "cell_type": "code",
   "execution_count": 16,
   "id": "a90d1664-1728-4a8a-bb11-03f15e3f5639",
   "metadata": {},
   "outputs": [
    {
     "data": {
      "text/plain": [
       "True"
      ]
     },
     "execution_count": 16,
     "metadata": {},
     "output_type": "execute_result"
    }
   ],
   "source": [
    "cost_history_dict[\"iters\"] == res.nfev"
   ]
  },
  {
   "attachments": {},
   "cell_type": "markdown",
   "id": "19459b48",
   "metadata": {},
   "source": [
    "We can also now view the progress toward convergence as monitored by the cost history at each iteration:"
   ]
  },
  {
   "cell_type": "code",
   "execution_count": 17,
   "id": "8501d609",
   "metadata": {},
   "outputs": [
    {
     "data": {
      "image/svg+xml": [
       "<?xml version=\"1.0\" encoding=\"UTF-8\"?><!DOCTYPE svg  PUBLIC '-//W3C//DTD SVG 1.1//EN'  'http://www.w3.org/Graphics/SVG/1.1/DTD/svg11.dtd'><svg width=\"425.34pt\" height=\"310.87pt\" version=\"1.1\" viewBox=\"0 0 425.34 310.87\" xmlns=\"http://www.w3.org/2000/svg\" xmlns:xlink=\"http://www.w3.org/1999/xlink\"><defs><style type=\"text/css\">*{stroke-linejoin: round; stroke-linecap: butt}</style></defs><path d=\"m0 310.87h425.34v-310.87h-425.34z\" fill=\"#ffffff\"/><path d=\"m52.161 273.31h357.12v-266.11h-357.12z\" fill=\"#ffffff\"/><defs><path id=\"bde73d0d777\" d=\"m0 0v3.5\" stroke=\"#000000\" stroke-width=\".8\"/></defs><use x=\"68.393665\" y=\"273.312\" stroke=\"#000000\" stroke-width=\".8\" xlink:href=\"#bde73d0d777\"/><g transform=\"translate(65.212 287.91) scale(.1 -.1)\"><defs><path id=\"DejaVuSans-30\" transform=\"scale(.015625)\" d=\"m2034 4250q-487 0-733-480-245-479-245-1442 0-959 245-1439 246-480 733-480 491 0 736 480 246 480 246 1439 0 963-246 1442-245 480-736 480zm0 500q785 0 1199-621 414-620 414-1801 0-1178-414-1799-414-620-1199-620-784 0-1198 620-414 621-414 1799 0 1181 414 1801 414 621 1198 621z\"/></defs><use xlink:href=\"#DejaVuSans-30\"/></g><use x=\"116.994645\" y=\"273.312\" stroke=\"#000000\" stroke-width=\".8\" xlink:href=\"#bde73d0d777\"/><g transform=\"translate(110.63 287.91) scale(.1 -.1)\"><defs><path id=\"DejaVuSans-32\" transform=\"scale(.015625)\" d=\"m1228 531h2203v-531h-2962v531q359 372 979 998 621 627 780 809 303 340 423 576 121 236 121 464 0 372-261 606-261 235-680 235-297 0-627-103-329-103-704-313v638q381 153 712 231 332 78 607 78 725 0 1156-363 431-362 431-968 0-288-108-546-107-257-392-607-78-91-497-524-418-433-1181-1211z\"/><path id=\"DejaVuSans-35\" transform=\"scale(.015625)\" d=\"m691 4666h2478v-532h-1900v-1143q137 47 274 70 138 23 276 23 781 0 1237-428 457-428 457-1159 0-753-469-1171-469-417-1322-417-294 0-599 50-304 50-629 150v635q281-153 581-228t634-75q541 0 856 284 316 284 316 772 0 487-316 771-315 285-856 285-253 0-505-56-251-56-513-175v2344z\"/></defs><use xlink:href=\"#DejaVuSans-32\"/><use x=\"63.623047\" xlink:href=\"#DejaVuSans-35\"/></g><use x=\"165.595624\" y=\"273.312\" stroke=\"#000000\" stroke-width=\".8\" xlink:href=\"#bde73d0d777\"/><g transform=\"translate(159.23 287.91) scale(.1 -.1)\"><use xlink:href=\"#DejaVuSans-35\"/><use x=\"63.623047\" xlink:href=\"#DejaVuSans-30\"/></g><use x=\"214.196604\" y=\"273.312\" stroke=\"#000000\" stroke-width=\".8\" xlink:href=\"#bde73d0d777\"/><g transform=\"translate(207.83 287.91) scale(.1 -.1)\"><defs><path id=\"DejaVuSans-37\" transform=\"scale(.015625)\" d=\"m525 4666h3e3v-269l-1694-4397h-659l1594 4134h-2241v532z\"/></defs><use xlink:href=\"#DejaVuSans-37\"/><use x=\"63.623047\" xlink:href=\"#DejaVuSans-35\"/></g><use x=\"262.797584\" y=\"273.312\" stroke=\"#000000\" stroke-width=\".8\" xlink:href=\"#bde73d0d777\"/><g transform=\"translate(253.25 287.91) scale(.1 -.1)\"><defs><path id=\"DejaVuSans-31\" transform=\"scale(.015625)\" d=\"m794 531h1031v3560l-1122-225v575l1116 225h631v-4135h1031v-531h-2687v531z\"/></defs><use xlink:href=\"#DejaVuSans-31\"/><use x=\"63.623047\" xlink:href=\"#DejaVuSans-30\"/><use x=\"127.246094\" xlink:href=\"#DejaVuSans-30\"/></g><use x=\"311.398564\" y=\"273.312\" stroke=\"#000000\" stroke-width=\".8\" xlink:href=\"#bde73d0d777\"/><g transform=\"translate(301.85 287.91) scale(.1 -.1)\"><use xlink:href=\"#DejaVuSans-31\"/><use x=\"63.623047\" xlink:href=\"#DejaVuSans-32\"/><use x=\"127.246094\" xlink:href=\"#DejaVuSans-35\"/></g><use x=\"359.999544\" y=\"273.312\" stroke=\"#000000\" stroke-width=\".8\" xlink:href=\"#bde73d0d777\"/><g transform=\"translate(350.46 287.91) scale(.1 -.1)\"><use xlink:href=\"#DejaVuSans-31\"/><use x=\"63.623047\" xlink:href=\"#DejaVuSans-35\"/><use x=\"127.246094\" xlink:href=\"#DejaVuSans-30\"/></g><use x=\"408.600524\" y=\"273.312\" stroke=\"#000000\" stroke-width=\".8\" xlink:href=\"#bde73d0d777\"/><g transform=\"translate(399.06 287.91) scale(.1 -.1)\"><use xlink:href=\"#DejaVuSans-31\"/><use x=\"63.623047\" xlink:href=\"#DejaVuSans-37\"/><use x=\"127.246094\" xlink:href=\"#DejaVuSans-35\"/></g><g transform=\"translate(206.91 301.59) scale(.1 -.1)\"><defs><path id=\"DejaVuSans-49\" transform=\"scale(.015625)\" d=\"m628 4666h631v-4666h-631v4666z\"/><path id=\"DejaVuSans-74\" transform=\"scale(.015625)\" d=\"m1172 4494v-994h1184v-447h-1184v-1900q0-428 117-550t477-122h590v-481h-590q-666 0-919 248-253 249-253 905v1900h-422v447h422v994h578z\"/><path id=\"DejaVuSans-65\" transform=\"scale(.015625)\" d=\"m3597 1894v-281h-2644q38-594 358-905t892-311q331 0 642 81t618 244v-544q-310-131-635-200t-659-69q-838 0-1327 487-489 488-489 1320 0 859 464 1363 464 505 1252 505 706 0 1117-455 411-454 411-1235zm-575 169q-6 471-264 752-258 282-683 282-481 0-770-272t-333-766l2050 4z\"/><path id=\"DejaVuSans-72\" transform=\"scale(.015625)\" d=\"m2631 2963q-97 56-211 82-114 27-251 27-488 0-749-317t-261-911v-1844h-578v3500h578v-544q182 319 472 473 291 155 707 155 59 0 131-8 72-7 159-23l3-590z\"/><path id=\"DejaVuSans-61\" transform=\"scale(.015625)\" d=\"m2194 1759q-697 0-966-159t-269-544q0-306 202-486 202-179 548-179 479 0 768 339t289 901v128h-572zm1147 238v-1997h-575v531q-197-318-491-470t-719-152q-537 0-855 302-317 302-317 808 0 590 395 890 396 300 1180 300h807v57q0 397-261 614t-733 217q-300 0-585-72-284-72-546-216v532q315 122 612 182 297 61 578 61 760 0 1135-394 375-393 375-1193z\"/><path id=\"DejaVuSans-69\" transform=\"scale(.015625)\" d=\"m603 3500h575v-3500h-575v3500zm0 1363h575v-729h-575v729z\"/><path id=\"DejaVuSans-6f\" transform=\"scale(.015625)\" d=\"m1959 3097q-462 0-731-361t-269-989 267-989q268-361 733-361 460 0 728 362 269 363 269 988 0 622-269 986-268 364-728 364zm0 487q750 0 1178-488 429-487 429-1349 0-859-429-1349-428-489-1178-489-753 0-1180 489-426 490-426 1349 0 862 426 1349 427 488 1180 488z\"/><path id=\"DejaVuSans-6e\" transform=\"scale(.015625)\" d=\"m3513 2113v-2113h-575v2094q0 497-194 743-194 247-581 247-466 0-735-297-269-296-269-809v-1978h-578v3500h578v-544q207 316 486 472 280 156 646 156 603 0 912-373 310-373 310-1098z\"/><path id=\"DejaVuSans-73\" transform=\"scale(.015625)\" d=\"m2834 3397v-544q-243 125-506 187-262 63-544 63-428 0-642-131t-214-394q0-200 153-314t616-217l197-44q612-131 870-370t258-667q0-488-386-773-386-284-1061-284-281 0-586 55t-642 164v594q319-166 628-249 309-82 613-82 406 0 624 139 219 139 219 392 0 234-158 359-157 125-692 241l-200 47q-534 112-772 345-237 233-237 639 0 494 350 762 350 269 994 269 318 0 599-47 282-46 519-140z\"/></defs><use xlink:href=\"#DejaVuSans-49\"/><use x=\"29.492188\" xlink:href=\"#DejaVuSans-74\"/><use x=\"68.701172\" xlink:href=\"#DejaVuSans-65\"/><use x=\"130.224609\" xlink:href=\"#DejaVuSans-72\"/><use x=\"171.337891\" xlink:href=\"#DejaVuSans-61\"/><use x=\"232.617188\" xlink:href=\"#DejaVuSans-74\"/><use x=\"271.826172\" xlink:href=\"#DejaVuSans-69\"/><use x=\"299.609375\" xlink:href=\"#DejaVuSans-6f\"/><use x=\"360.791016\" xlink:href=\"#DejaVuSans-6e\"/><use x=\"424.169922\" xlink:href=\"#DejaVuSans-73\"/></g><defs><path id=\"acddd4584f3\" d=\"m0 0h-3.5\" stroke=\"#000000\" stroke-width=\".8\"/></defs><use x=\"52.160938\" y=\"236.702545\" stroke=\"#000000\" stroke-width=\".8\" xlink:href=\"#acddd4584f3\"/><g transform=\"translate(20.878 240.5) scale(.1 -.1)\"><defs><path id=\"DejaVuSans-2212\" transform=\"scale(.015625)\" d=\"m678 2272h4006v-531h-4006v531z\"/><path id=\"DejaVuSans-2e\" transform=\"scale(.015625)\" d=\"m684 794h660v-794h-660v794z\"/><path id=\"DejaVuSans-36\" transform=\"scale(.015625)\" d=\"m2113 2584q-425 0-674-291-248-290-248-796 0-503 248-796 249-292 674-292t673 292q248 293 248 796 0 506-248 796-248 291-673 291zm1253 1979v-575q-238 112-480 171-242 60-480 60-625 0-955-422-329-422-376-1275 184 272 462 417 279 145 613 145 703 0 1111-427 408-426 408-1160 0-719-425-1154-425-434-1131-434-810 0-1238 620-428 621-428 1799 0 1106 525 1764t1409 658q238 0 480-47t505-140z\"/></defs><use xlink:href=\"#DejaVuSans-2212\"/><use x=\"83.789062\" xlink:href=\"#DejaVuSans-30\"/><use x=\"147.412109\" xlink:href=\"#DejaVuSans-2e\"/><use x=\"179.199219\" xlink:href=\"#DejaVuSans-36\"/></g><use x=\"52.160938\" y=\"189.374872\" stroke=\"#000000\" stroke-width=\".8\" xlink:href=\"#acddd4584f3\"/><g transform=\"translate(20.878 193.17) scale(.1 -.1)\"><defs><path id=\"DejaVuSans-34\" transform=\"scale(.015625)\" d=\"m2419 4116-1594-2491h1594v2491zm-166 550h794v-3041h666v-525h-666v-1100h-628v1100h-2106v609l1940 2957z\"/></defs><use xlink:href=\"#DejaVuSans-2212\"/><use x=\"83.789062\" xlink:href=\"#DejaVuSans-30\"/><use x=\"147.412109\" xlink:href=\"#DejaVuSans-2e\"/><use x=\"179.199219\" xlink:href=\"#DejaVuSans-34\"/></g><use x=\"52.160938\" y=\"142.0472\" stroke=\"#000000\" stroke-width=\".8\" xlink:href=\"#acddd4584f3\"/><g transform=\"translate(20.878 145.85) scale(.1 -.1)\"><use xlink:href=\"#DejaVuSans-2212\"/><use x=\"83.789062\" xlink:href=\"#DejaVuSans-30\"/><use x=\"147.412109\" xlink:href=\"#DejaVuSans-2e\"/><use x=\"179.199219\" xlink:href=\"#DejaVuSans-32\"/></g><use x=\"52.160938\" y=\"94.719528\" stroke=\"#000000\" stroke-width=\".8\" xlink:href=\"#acddd4584f3\"/><g transform=\"translate(29.258 98.519) scale(.1 -.1)\"><use xlink:href=\"#DejaVuSans-30\"/><use x=\"63.623047\" xlink:href=\"#DejaVuSans-2e\"/><use x=\"95.410156\" xlink:href=\"#DejaVuSans-30\"/></g><use x=\"52.160938\" y=\"47.391856\" stroke=\"#000000\" stroke-width=\".8\" xlink:href=\"#acddd4584f3\"/><g transform=\"translate(29.258 51.191) scale(.1 -.1)\"><use xlink:href=\"#DejaVuSans-30\"/><use x=\"63.623047\" xlink:href=\"#DejaVuSans-2e\"/><use x=\"95.410156\" xlink:href=\"#DejaVuSans-32\"/></g><g transform=\"translate(14.798 151.37) rotate(-90) scale(.1 -.1)\"><defs><path id=\"DejaVuSans-43\" transform=\"scale(.015625)\" d=\"m4122 4306v-665q-319 297-680 443-361 147-767 147-800 0-1225-489t-425-1414q0-922 425-1411t1225-489q406 0 767 147t680 444v-660q-331-225-702-338-370-112-782-112-1060 0-1670 648-609 649-609 1771 0 1125 609 1773 610 649 1670 649 418 0 788-111 371-111 696-333z\"/></defs><use xlink:href=\"#DejaVuSans-43\"/><use x=\"69.824219\" xlink:href=\"#DejaVuSans-6f\"/><use x=\"131.005859\" xlink:href=\"#DejaVuSans-73\"/><use x=\"183.105469\" xlink:href=\"#DejaVuSans-74\"/></g><path d=\"m68.394 19.296 1.944 62.805 1.944 26.186 1.944 8.1872 1.944-17.761 1.944-21.867 1.944-19.078 1.944 54.931 1.944-27.703 1.944 99.779 1.944 49.927 1.944-54.706 1.944-15.483 1.944-3.7007 1.944 24.364 1.944 49.347 1.944-59.891 1.944 67.548 1.944 0.15463 1.944-14.654 1.944 14.229 1.944-20.531 1.944 4.7108 1.944-50.042 1.944 50.692 1.944-0.16356 1.944 12.186 1.944-19.777 1.944 20.814 1.944-7.2511 1.944-3.3441 3.8881 13.993 1.944-9.4493 1.944-7.6711 1.944 10.472 1.944-4.8563 1.944-7.7106 1.944-0.88351 1.944 18.478 1.944 4.0622 1.944-2.4955 1.944-6.615 1.944 12.524 1.944-2.9841 1.944-12.601 1.944 9.981 1.944-6.487 1.944 2.7113 1.944 9.2745 1.944-3.2525 1.944-0.13262 1.944 6.3217 1.944 4.2592 1.944-3.2583 1.944 2.1991 1.944-0.84055 1.944-4.6087 1.944 2.7799 1.944 3.253 1.944 0.29112 1.944-2.3454 1.944 2.636 1.944-2.4038 1.944 0.39122 1.944 2.1536 1.944 0.44485 1.944-1.0657 1.944-2.3892 1.944 6.3495 1.944-3.5219 1.944-2.6957 1.944 1.8459 1.944 0.84431 1.944-3.5437 1.944-0.17452 1.944 2.5498 1.944-1.8767 1.944-4.5221 1.944-0.93781 1.944-2.811 1.944 5.032 1.944 8.0874 1.944-0.46883 1.944-0.10778 1.944-0.78939 1.944 2.9261 1.944-4.5316 1.944 3.5674 1.944-1.2544 1.944-0.034215 1.944 1.3084 1.944-2.2677 1.944 1.7584 1.944-2.8165 1.944 3.3341 1.944 0.10016 1.944-1.5733 1.944-1.3212 3.8881 2.4947 1.944-0.64674 1.944 0.27988 1.944-0.65822 1.944 1.3514 1.944-2.8648 1.944 1.2011 1.944 1.5941 1.944-0.7923 1.944 0.16694 1.944-1.1754 1.944-0.58414 1.944 0.05311 1.944-0.64022 1.944 2.9534 1.944-0.20627 1.944-0.62442 1.944 1.0837 1.944-0.59037 1.944-1.4376 1.944 1.0064 1.944-1.1193 1.944 1.4197 1.944-0.86936 1.944 1.6183 1.944-0.73848 1.944 0.60096 1.944-2.7451 1.944 2.3585 1.944 0.84765 1.944-3.3937 1.944 0.46315 1.944 0.69105 1.944-1.093 1.944 4.5817 1.944 0.79532 1.944-2.7064 1.944-0.54275 1.944 0.63788 1.944-1.9552 1.944 0.10769 1.944-1.3219 1.944 0.72965 1.944-0.058753 1.944 1.6614 1.944-1.455 1.944 0.62278 1.944-0.35448 1.944 1.3369 1.944-0.82354 1.944-0.98977 1.944 4.0401 1.944-3.1556 1.944 0.54349 1.944 2.3742 1.944-3.7262 1.944 0.24338 1.944 2.639 1.944-0.72013 1.944-0.29596 1.944-1.6677 1.944-0.16866 1.944 2.2999 1.944-3.6828 1.944 1.1092 1.944 2.1917 1.944 1.7232 1.944-2.4073v0\" clip-path=\"url(#e393714ba9e)\" fill=\"none\" stroke=\"#1f77b4\" stroke-linecap=\"square\" stroke-width=\"1.5\"/><path d=\"m52.161 273.31v-266.11\" fill=\"none\" stroke=\"#000000\" stroke-linecap=\"square\" stroke-width=\".8\"/><path d=\"m409.28 273.31v-266.11\" fill=\"none\" stroke=\"#000000\" stroke-linecap=\"square\" stroke-width=\".8\"/><path d=\"m52.161 273.31h357.12\" fill=\"none\" stroke=\"#000000\" stroke-linecap=\"square\" stroke-width=\".8\"/><path d=\"m52.161 7.2h357.12\" fill=\"none\" stroke=\"#000000\" stroke-linecap=\"square\" stroke-width=\".8\"/><defs><clipPath id=\"e393714ba9e\"><rect x=\"52.161\" y=\"7.2\" width=\"357.12\" height=\"266.11\"/></clipPath></defs></svg>"
      ],
      "text/plain": [
       "<Figure size 640x480 with 1 Axes>"
      ]
     },
     "metadata": {},
     "output_type": "display_data"
    }
   ],
   "source": [
    "fig, ax = plt.subplots()\n",
    "ax.plot(range(cost_history_dict[\"iters\"]), cost_history_dict[\"cost_history\"])\n",
    "ax.set_xlabel(\"Iterations\")\n",
    "ax.set_ylabel(\"Cost\")\n",
    "plt.draw()"
   ]
  },
  {
   "cell_type": "code",
   "execution_count": 18,
   "id": "ee3ac2fa",
   "metadata": {},
   "outputs": [
    {
     "data": {
      "text/plain": [
       "'0.25.0'"
      ]
     },
     "execution_count": 18,
     "metadata": {},
     "output_type": "execute_result"
    }
   ],
   "source": [
    "import qiskit_ibm_runtime\n",
    "\n",
    "qiskit_ibm_runtime.version.get_version_info()"
   ]
  },
  {
   "cell_type": "code",
   "execution_count": 19,
   "id": "11c9e788",
   "metadata": {},
   "outputs": [
    {
     "data": {
      "text/plain": [
       "'1.1.1'"
      ]
     },
     "execution_count": 19,
     "metadata": {},
     "output_type": "execute_result"
    }
   ],
   "source": [
    "import qiskit\n",
    "\n",
    "qiskit.version.get_version_info()"
   ]
  }
 ],
 "metadata": {
  "kernelspec": {
   "display_name": "Python 3",
   "language": "python",
   "name": "python3"
  },
  "language_info": {
   "codemirror_mode": {
    "name": "ipython",
    "version": 3
   },
   "file_extension": ".py",
   "mimetype": "text/x-python",
   "name": "python",
   "nbconvert_exporter": "python",
   "pygments_lexer": "ipython3",
   "version": "3"
  }
 },
 "nbformat": 4,
 "nbformat_minor": 5
}
