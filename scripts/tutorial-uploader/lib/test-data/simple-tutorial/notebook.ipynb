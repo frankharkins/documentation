{
 "cells": [
  {
   "attachments": {},
   "cell_type": "markdown",
   "id": "52ad9e82-d351-4c6c-b8f6-f3ae7922554f",
   "metadata": {},
   "source": [
    "# My tutorial title\n",
    "\n",
    "Here's some basic content."
   ]
  }
 ],
 "metadata": {
  "kernelspec": {
   "display_name": "Python 3",
   "language": "python",
   "name": "python3"
  },
  "language_info": {
   "codemirror_mode": {
    "name": "ipython",
    "version": 3
   },
   "file_extension": ".py",
   "mimetype": "text/x-python",
   "name": "python",
   "nbconvert_exporter": "python",
   "pygments_lexer": "ipython3",
   "version": "3"
  }
 },
 "nbformat": 4,
 "nbformat_minor": 5
}
