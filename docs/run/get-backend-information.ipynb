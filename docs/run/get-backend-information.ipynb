{
 "cells": [
  {
   "cell_type": "markdown",
   "id": "214e51c9-4818-408b-9421-3e513e77a713",
   "metadata": {},
   "source": [
    "# Get backend information with Qiskit\n",
    "\n",
    "This page explains how to use Qiskit to find information about your available backends."
   ]
  },
  {
   "cell_type": "markdown",
   "id": "2126b05d-1cc8-4230-bfe3-25461a0f1b5b",
   "metadata": {},
   "source": [
    "## List backends\n",
    "\n",
    "To view the backends you have access to, you can either view a list on the [Compute resources page,](https://quantum.ibm.com/services/resources?tab=yours) or you can use the [`QiskitRuntimeService.backends()`](../api/qiskit-ibm-runtime/qiskit_ibm_runtime.QiskitRuntimeService#backends) method. This method returns a list of [`IBMBackend`](../api/qiskit-ibm-runtime/qiskit_ibm_runtime.IBMBackend) instances:"
   ]
  },
  {
   "cell_type": "code",
   "execution_count": 1,
   "id": "2074e1b8-d294-4c5b-82ba-cd9d7a190598",
   "metadata": {},
   "outputs": [
    {
     "data": {
      "text/plain": [
       "[<IBMBackend('simulator_stabilizer')>,\n",
       " <IBMBackend('ibm_osaka')>,\n",
       " <IBMBackend('ibm_sherbrooke')>,\n",
       " <IBMBackend('ibmq_qasm_simulator')>,\n",
       " <IBMBackend('simulator_extended_stabilizer')>,\n",
       " <IBMBackend('simulator_mps')>,\n",
       " <IBMBackend('simulator_statevector')>,\n",
       " <IBMBackend('ibm_brisbane')>,\n",
       " <IBMBackend('ibm_kyoto')>]"
      ]
     },
     "execution_count": 1,
     "metadata": {},
     "output_type": "execute_result"
    }
   ],
   "source": [
    "# Initialize your account\n",
    "from qiskit_ibm_runtime import QiskitRuntimeService\n",
    "service = QiskitRuntimeService(instance=\"ibm-q/open/main\")\n",
    "\n",
    "service.backends()"
   ]
  },
  {
   "cell_type": "markdown",
   "id": "ad27cfef-1684-4c77-80ab-aef61d204acd",
   "metadata": {},
   "source": [
    "The [`QiskitRuntimeService.backend()`](../api/qiskit-ibm-runtime/qiskit_ibm_runtime.QiskitRuntimeService#backend) method (note that this is singular: *backend*) takes the name of the backend as the input parameter and returns an [`IBMBackend`](../api/qiskit-ibm-runtime/qiskit_ibm_runtime.IBMBackend) instance representing that particular backend:"
   ]
  },
  {
   "cell_type": "code",
   "execution_count": 2,
   "id": "e8716516-ded8-45b5-9304-fc199fa3a877",
   "metadata": {},
   "outputs": [
    {
     "data": {
      "text/plain": [
       "<IBMBackend('ibm_kyoto')>"
      ]
     },
     "execution_count": 2,
     "metadata": {},
     "output_type": "execute_result"
    }
   ],
   "source": [
    "service.backend(\"ibm_kyoto\")"
   ]
  },
  {
   "cell_type": "markdown",
   "id": "b1f8f3f5-4014-454b-8783-09291e246f69",
   "metadata": {},
   "source": [
    "## Filter backends\n",
    "\n",
    "You can also filter the available backends by their properties. For more general filters, set the `filters` argument to a function that accepts a backend object and returns `True` if it meets your criteria. Refer to the [API documentation](../api/qiskit-ibm-runtime/qiskit_ibm_runtime.QiskitRuntimeService#backends) for more details.\n",
    "\n",
    "The following code returns only backends that fit these criteria:\n",
    "\n",
    "*   Are real quantum devices (`simulator=False`)\n",
    "*   Are currently operational (`operational=True`)\n",
    "*   Have at least 5 qubits (`min_num_qubits=5`)"
   ]
  },
  {
   "cell_type": "code",
   "execution_count": 3,
   "id": "9db4aaa2-f23c-4141-b7aa-07f84a679292",
   "metadata": {},
   "outputs": [
    {
     "data": {
      "text/plain": [
       "[<IBMBackend('ibm_osaka')>,\n",
       " <IBMBackend('ibm_sherbrooke')>,\n",
       " <IBMBackend('ibm_brisbane')>,\n",
       " <IBMBackend('ibm_kyoto')>]"
      ]
     },
     "execution_count": 3,
     "metadata": {},
     "output_type": "execute_result"
    }
   ],
   "source": [
    "service.backends(simulator=False, operational=True, min_num_qubits=5)"
   ]
  },
  {
   "cell_type": "markdown",
   "id": "6de23dcc-c2ba-4338-b1e8-4086ed653240",
   "metadata": {},
   "source": [
    "Use these keyword arguments to filter by any attribute in backend configuration ([JSON schema](https://github.com/Qiskit/ibm-quantum-schemas/blob/main/schemas/backend_configuration_schema.json)) or status ([JSON schema](https://github.com/Qiskit/ibm-quantum-schemas/blob/main/schemas/backend_status_schema.json)). A similar method is [`QiskitRuntimeService.least_busy()`](../api/qiskit-ibm-runtime/qiskit_ibm_runtime.QiskitRuntimeService#least_busy), which takes the same filters as `backends()` but returns the backend that matches the filters and has the least number of jobs pending in the queue:"
   ]
  },
  {
   "cell_type": "code",
   "execution_count": 4,
   "id": "4c296c69-6f30-4cf1-97c5-42989e30db8b",
   "metadata": {},
   "outputs": [
    {
     "data": {
      "text/plain": [
       "<IBMBackend('simulator_stabilizer')>"
      ]
     },
     "execution_count": 4,
     "metadata": {},
     "output_type": "execute_result"
    }
   ],
   "source": [
    "service.least_busy(operational=True, min_num_qubits=5)"
   ]
  },
  {
   "cell_type": "markdown",
   "id": "dc892148-094e-4a5b-8514-a96436dce1b1",
   "metadata": {},
   "source": [
    "## Static backend information\n",
    "\n",
    "Some information about a backend does not change regularly, such as its name, version, the number of qubits it has, and the types of features it supports. This information is available as attributes of the `backend` object.\n",
    "\n",
    "The following cell builds a description of a backend."
   ]
  },
  {
   "cell_type": "code",
   "execution_count": 5,
   "id": "0e7e3c43-4aa1-43d2-93b5-31e4abbb3dd5",
   "metadata": {},
   "outputs": [
    {
     "name": "stdout",
     "output_type": "stream",
     "text": [
      "Name: ibm_kyoto\n",
      "Version: 2\n",
      "No. of qubits: 127\n",
      "\n"
     ]
    }
   ],
   "source": [
    "backend = service.backend(\"ibm_kyoto\")\n",
    "\n",
    "print(\n",
    "    f\"Name: {backend.name}\\n\"\n",
    "    f\"Version: {backend.version}\\n\"\n",
    "    f\"No. of qubits: {backend.num_qubits}\\n\"\n",
    ")"
   ]
  },
  {
   "cell_type": "markdown",
   "id": "ac81677d-12bd-4671-8452-3107edcfbd50",
   "metadata": {},
   "source": [
    "For a full list of attributes, see the [`IBMBackend` API documentation](/api/qiskit-ibm-runtime/qiskit_ibm_runtime.IBMBackend)."
   ]
  },
  {
   "cell_type": "markdown",
   "id": "24b212d0-c5dc-4640-8a00-76255784ef72",
   "metadata": {},
   "source": [
    "## Dynamic backend information\n",
    "\n",
    "Backends can also have properties that change whenever the backed is calibrated, such as qubit frequency and operation error rates. Backends are usually calibrated every 24 hours, and their properties update after the calibration sequence completes. These properties can be used when optimizing quantum circuits or to construct noise models for a classical simulator.\n",
    "\n",
    "\n",
    "### Qubit properties\n",
    "\n",
    "The `backend.qubit_properties` method returns information about the qubits' physical attributes. This includes the qubit frequency in GHz and decay times (`t1` and `t2`) in µs."
   ]
  },
  {
   "cell_type": "code",
   "execution_count": 6,
   "id": "9c1fc8ca-fd06-409f-9a5a-ce99d8b936e4",
   "metadata": {},
   "outputs": [
    {
     "data": {
      "text/plain": [
       "IBMQubitProperties(t1=0.0001998083920593155, t2=3.782815390372979e-05, frequency=4908334723.934911, anharmonicity=-308028796.19250304)"
      ]
     },
     "execution_count": 6,
     "metadata": {},
     "output_type": "execute_result"
    }
   ],
   "source": [
    "backend.qubit_properties(0)  # properties of qubit 0"
   ]
  },
  {
   "cell_type": "markdown",
   "id": "9ce06354-4fcb-444d-a2d6-abe6caf1d318",
   "metadata": {},
   "source": [
    "### Instruction properties\n",
    "\n",
    "The `backend.target` attribute is a `qiskit.transpiler.Target` object: an object that contains all the information needed to transpile a circuit for that backend. This includes instruction errors and durations. For example, the following cell gets the properties for an [`ecr` gate](/api/qiskit/qiskit.circuit.library.ECRGate) acting between qubits 1 and 0."
   ]
  },
  {
   "cell_type": "code",
   "execution_count": 7,
   "id": "c8b88454-dfef-4c35-b4e2-a03fe34eaa07",
   "metadata": {},
   "outputs": [
    {
     "data": {
      "text/plain": [
       "InstructionProperties(duration=6.6e-07, error=0.02010089064512202, calibration=Schedule ecr)"
      ]
     },
     "execution_count": 7,
     "metadata": {},
     "output_type": "execute_result"
    }
   ],
   "source": [
    "backend.target[\"ecr\"][(1,0)]"
   ]
  },
  {
   "cell_type": "markdown",
   "id": "931a81bc-8bd1-4aba-bfa5-e05984df713d",
   "metadata": {},
   "source": [
    "The following cell shows the properties for a measurement operation (including the readout error) on qubit 0."
   ]
  },
  {
   "cell_type": "code",
   "execution_count": 8,
   "id": "040f5267-f635-4871-89bb-14a38904033e",
   "metadata": {},
   "outputs": [
    {
     "data": {
      "text/plain": [
       "InstructionProperties(duration=1.4e-06, error=0.19640000000000002, calibration=Schedule measure)"
      ]
     },
     "execution_count": 8,
     "metadata": {},
     "output_type": "execute_result"
    }
   ],
   "source": [
    "backend.target[\"measure\"][(0,)]"
   ]
  },
  {
   "cell_type": "markdown",
   "id": "3c28c0dc-6d24-4554-bbe8-8e6c51f563d9",
   "metadata": {},
   "source": [
    "## Next steps\n",
    "\n",
    "<Admonition type=\"tip\" title=\"Recommendations\">\n",
    "    - Try the [Grover's algorithm](https://learning.quantum.ibm.com/tutorial/grovers-algorithm) tutorial.\n",
    "    - Review the [IBMProvider backend API](/api/qiskit-ibm-provider/qiskit_ibm_provider.IBMProvider#backend) reference.\n",
    "    - Review the [QiskitRuntime backend API](/api/qiskit-ibm-runtime/qiskit_ibm_runtime.QiskitRuntimeService#backend) reference.\n",
    "</Admonition>"
   ]
  }
 ],
 "metadata": {
  "description": "Find and filter available backends, get configuration and calibration data programmatically.",
  "kernelspec": {
   "display_name": "Python 3",
   "language": "python",
   "name": "python3"
  },
  "language_info": {
   "codemirror_mode": {
    "name": "ipython",
    "version": 3
   },
   "file_extension": ".py",
   "mimetype": "text/x-python",
   "name": "python",
   "nbconvert_exporter": "python",
   "pygments_lexer": "ipython3",
   "version": "3"
  },
  "title": "Get backend information with Qiskit"
 },
 "nbformat": 4,
 "nbformat_minor": 4
}
