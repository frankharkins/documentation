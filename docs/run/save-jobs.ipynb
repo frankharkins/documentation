{
 "cells": [
  {
   "cell_type": "markdown",
   "id": "539f98fa-9ccc-472a-99da-ebe6382243dc",
   "metadata": {},
   "source": [
    "# Save and retrieve jobs\n",
    "\n",
    "Quantum workflows often take a while to complete and can run over many sessions. Restarting your Python kernel means you'll lose any results stored in memory. To avoid loss of data, you can save results to file and retrieve results of past jobs from IBM Quantum&trade; so your next session can continue where you left off."
   ]
  },
  {
   "cell_type": "markdown",
   "id": "73f23256-6519-47ae-b9e3-700f52a76711",
   "metadata": {},
   "source": [
    "## Retrieve jobs from IBM Quantum\n",
    "\n",
    "IBM Quantum automatically stores results from every job for you to retrieve at a later date. Use this feature to continue quantum programs across kernel restarts and review past results. You can get the ID of a job programmatically through its `job_id` method, or you can see all your submitted jobs and their IDs through the [Jobs dashboard](https://quantum.ibm.com/jobs).\n",
    "\n",
    "To find a job programatically, use the [`QiskitRuntimeService.jobs`](/api/qiskit-ibm-runtime/qiskit_ibm_runtime.QiskitRuntimeService#jobs) method. By default, this returns the most recent jobs, but you can also filter jobs by backend name, creation date, and more. The following cell finds any jobs submitted in the last three months. The `created_after` argument must be a [`datetime.datetime`](https://docs.python.org/3.8/library/datetime.html#datetime.datetime) object."
   ]
  },
  {
   "cell_type": "code",
   "execution_count": 1,
   "id": "da02c7ca-803a-4426-8dd0-bbe062c0e9e1",
   "metadata": {},
   "outputs": [
    {
     "data": {
      "text/plain": [
       "[<RuntimeJob('crmfqhetdjr0008dzb7g', 'estimator')>,\n",
       " <RuntimeJob('crmfq4m14ys00088aqk0', 'estimator')>,\n",
       " <RuntimeJob('crm3r8stdjr0008dyqp0', 'qasm3-runner')>]"
      ]
     },
     "execution_count": 1,
     "metadata": {},
     "output_type": "execute_result"
    }
   ],
   "source": [
    "import datetime\n",
    "from qiskit_ibm_runtime import QiskitRuntimeService\n",
    "\n",
    "three_months_ago = datetime.datetime.now() - datetime.timedelta(days=90)\n",
    "\n",
    "service = QiskitRuntimeService()\n",
    "jobs_in_last_three_months = service.jobs(created_after=three_months_ago)\n",
    "jobs_in_last_three_months[:3]  # show first three jobs"
   ]
  },
  {
   "cell_type": "markdown",
   "id": "9aae5f5a-a543-493c-9bc5-5682ba846ab5",
   "metadata": {},
   "source": [
    "You can also select by backend, job state, session, and more. For more information, see [`QiskitRuntimeService.jobs`](/api/qiskit-ibm-runtime/qiskit_ibm_runtime.QiskitRuntimeService#jobs) in the API documentation.\n",
    "\n",
    "Once you have the job ID, use the [`QiskitRuntimeService.job`](/api/qiskit-ibm-runtime/qiskit_ibm_runtime.QiskitRuntimeService#job) method to retrieve it."
   ]
  },
  {
   "cell_type": "code",
   "execution_count": 2,
   "id": "43d0f06e-f97f-4c19-b242-02cb0bd420a9",
   "metadata": {},
   "outputs": [
    {
     "name": "stdout",
     "output_type": "stream",
     "text": [
      "crmfqhetdjr0008dzb7g\n"
     ]
    }
   ],
   "source": [
    "# Get ID of most recent successful job for demonstration.\n",
    "# This will not work if you've never successfully run a job.\n",
    "job_id = service.jobs(pending=False)[0].job_id()\n",
    "print(job_id)"
   ]
  },
  {
   "cell_type": "code",
   "execution_count": 3,
   "id": "90133394-3259-487f-96b2-3b50e0274064",
   "metadata": {},
   "outputs": [
    {
     "data": {
      "text/plain": [
       "PrimitiveResult([PubResult(data=DataBin<99>(evs=[ 0.64570064  0.31953125  0.15481172  0.15026362  0.1015873   0.06350626\n",
       "  0.02247191  0.03113208  0.02272727 -0.01854839  0.02457757 -0.02230769\n",
       "  0.02293578 -0.01092044 -0.02472952 -0.00944882  0.03767123  0.02166934\n",
       "  0.01305057 -0.01098901  0.01068702  0.01762821  0.01932773  0.01294498\n",
       " -0.01468315 -0.01232877 -0.03030303  0.01155462  0.12745098 -0.02332815\n",
       "  0.00245098  0.05736434 -0.00078616 -0.01820941  0.02724359  0.03257576\n",
       " -0.0229709   0.01394052  0.03928571  0.02599388 -0.0015625   0.02323718\n",
       " -0.01215805 -0.00234742  0.00466563  0.03106061  0.01630435  0.0464527\n",
       "  0.         -0.00151745  0.02841782  0.01697531  0.01351351 -0.01018676\n",
       "  0.00152672  0.00622084  0.0060698   0.02579666  0.02        0.01148545\n",
       "  0.02586207  0.00381098 -0.01461538  0.04876161  0.00076805 -0.00608696\n",
       " -0.00813743  0.         -0.03056027 -0.02665245  0.01660156 -0.16216216\n",
       " -0.064      -0.01295732 -0.01930894 -0.01829268  0.02163833  0.00496689\n",
       "  0.04223228 -0.01465798 -0.01317957 -0.00618238 -0.02963526 -0.00613497\n",
       "  0.00152905 -0.02941176 -0.03215926  0.01529791  0.01905488  0.01687117\n",
       " -0.00152905  0.03466872  0.00381098 -0.02531646  0.04984424  0.03257576\n",
       "  0.00716561  0.0375      0.01192369], stds=[0.0301912  0.02439315 0.03771335 0.02273161 0.02739113 0.0295477\n",
       " 0.03288008 0.02413365 0.03831347 0.02884026 0.02536583 0.02681657\n",
       " 0.0272724  0.02060853 0.02863267 0.02421324 0.07009148 0.02684497\n",
       " 0.02538034 0.02612797 0.02454662 0.0203859  0.02793376 0.02416668\n",
       " 0.02155515 0.03890846 0.02796816 0.03592119 0.13748787 0.02046372\n",
       " 0.0226519  0.02212958 0.02610926 0.02304325 0.05380769 0.01890131\n",
       " 0.02313008 0.0258601  0.02763123 0.03068307 0.02649207 0.02440182\n",
       " 0.02246694 0.0222245  0.02612686 0.0202093  0.020652   0.02290411\n",
       " 0.02298056 0.02069357 0.02485448 0.02475432 0.0265815  0.02261385\n",
       " 0.02070769 0.023968   0.0236309  0.01825162 0.02616927 0.0259223\n",
       " 0.02572882 0.02750496 0.0233063  0.02454793 0.02621478 0.03324334\n",
       " 0.02369112 0.02301501 0.02882225 0.03405876 0.0237285  0.07714824\n",
       " 0.05473595 0.03195926 0.03185138 0.02856942 0.02328771 0.0266565\n",
       " 0.01628194 0.02089134 0.02544533 0.02144492 0.02448796 0.02196046\n",
       " 0.02090776 0.02034051 0.02206126 0.02163483 0.02571104 0.03089664\n",
       " 0.02135038 0.02577374 0.02551062 0.02294048 0.02026551 0.0219107\n",
       " 0.02212938 0.02250427 0.0280836 ], ensemble_standard_error=[0.02974919 0.02603545 0.03400854 0.02845832 0.02550986 0.0286863\n",
       " 0.03596807 0.03020618 0.04042023 0.02581045 0.02458342 0.02462023\n",
       " 0.02446983 0.02496223 0.02473559 0.0251978  0.05486275 0.02568755\n",
       " 0.0261032  0.02511901 0.02442856 0.02564456 0.02689571 0.02589194\n",
       " 0.02473166 0.04384101 0.02552859 0.03361648 0.10620428 0.02488889\n",
       " 0.02614386 0.02483923 0.02515724 0.02428226 0.0513148  0.02425212\n",
       " 0.02450734 0.02974316 0.02859573 0.02447125 0.02500003 0.02564716\n",
       " 0.02431748 0.02503918 0.02488358 0.02425124 0.02484741 0.02705609\n",
       " 0.02453988 0.02427923 0.02458539 0.0246942  0.02543922 0.02716611\n",
       " 0.0244275  0.02488375 0.02427955 0.02428533 0.02461928 0.02450356\n",
       " 0.02508538 0.02439038 0.02461746 0.02479152 0.02457758 0.02782663\n",
       " 0.02893417 0.02488336 0.02717746 0.03413174 0.03125538 0.07381268\n",
       " 0.04280605 0.02439182 0.03252825 0.0278795  0.02473417 0.02649038\n",
       " 0.0241487  0.02606121 0.02636131 0.0247299  0.02432424 0.02454024\n",
       " 0.02446485 0.02690224 0.02451218 0.0257676  0.02439365 0.02454261\n",
       " 0.02446485 0.02466509 0.02439038 0.02532341 0.02494752 0.02425212\n",
       " 0.02547828 0.02501455 0.02543877]), metadata={'shots': 4096, 'target_precision': 0.015625, 'circuit_metadata': {}, 'resilience': {}, 'num_randomizations': 32})], metadata={'dynamical_decoupling': {'enable': True, 'sequence_type': 'XY4', 'extra_slack_distribution': 'middle', 'scheduling_method': 'alap'}, 'twirling': {'enable_gates': False, 'enable_measure': True, 'num_randomizations': 'auto', 'shots_per_randomization': 'auto', 'interleave_randomizations': True, 'strategy': 'active-accum'}, 'resilience': {'measure_mitigation': True, 'zne_mitigation': False, 'pec_mitigation': False}, 'version': 2})"
      ]
     },
     "execution_count": 3,
     "metadata": {},
     "output_type": "execute_result"
    }
   ],
   "source": [
    "retrieved_job = service.job(job_id)\n",
    "retrieved_job.result()"
   ]
  },
  {
   "cell_type": "markdown",
   "id": "211b8c15-5aa3-43f6-82ee-2bd1d49ae8fc",
   "metadata": {},
   "source": [
    "## Save results to disk\n",
    "\n",
    "You may also want to save results to disk. To do this, use Python's built-in JSON library with Qiskit IBM Runtime's encoders."
   ]
  },
  {
   "cell_type": "code",
   "execution_count": 4,
   "id": "3a3ff817-01c1-47e8-94c6-1ecf2215ef7c",
   "metadata": {},
   "outputs": [],
   "source": [
    "import json\n",
    "from qiskit_ibm_runtime import RuntimeEncoder\n",
    "with open(\"result.json\", \"w\") as file:\n",
    "    json.dump(retrieved_job.result(), file, cls=RuntimeEncoder)"
   ]
  },
  {
   "cell_type": "markdown",
   "id": "40a9d8e5-c876-47a7-862e-d2ce535a6052",
   "metadata": {},
   "source": [
    "You can then load this array from disk in a separate kernel."
   ]
  },
  {
   "cell_type": "code",
   "execution_count": 5,
   "id": "316aa6f7-faee-4a05-a7b4-02d7bee4d58a",
   "metadata": {},
   "outputs": [
    {
     "data": {
      "text/plain": [
       "PrimitiveResult([PubResult(data=DataBin<99>(evs=[ 0.64570064  0.31953125  0.15481172  0.15026362  0.1015873   0.06350626\n",
       "  0.02247191  0.03113208  0.02272727 -0.01854839  0.02457757 -0.02230769\n",
       "  0.02293578 -0.01092044 -0.02472952 -0.00944882  0.03767123  0.02166934\n",
       "  0.01305057 -0.01098901  0.01068702  0.01762821  0.01932773  0.01294498\n",
       " -0.01468315 -0.01232877 -0.03030303  0.01155462  0.12745098 -0.02332815\n",
       "  0.00245098  0.05736434 -0.00078616 -0.01820941  0.02724359  0.03257576\n",
       " -0.0229709   0.01394052  0.03928571  0.02599388 -0.0015625   0.02323718\n",
       " -0.01215805 -0.00234742  0.00466563  0.03106061  0.01630435  0.0464527\n",
       "  0.         -0.00151745  0.02841782  0.01697531  0.01351351 -0.01018676\n",
       "  0.00152672  0.00622084  0.0060698   0.02579666  0.02        0.01148545\n",
       "  0.02586207  0.00381098 -0.01461538  0.04876161  0.00076805 -0.00608696\n",
       " -0.00813743  0.         -0.03056027 -0.02665245  0.01660156 -0.16216216\n",
       " -0.064      -0.01295732 -0.01930894 -0.01829268  0.02163833  0.00496689\n",
       "  0.04223228 -0.01465798 -0.01317957 -0.00618238 -0.02963526 -0.00613497\n",
       "  0.00152905 -0.02941176 -0.03215926  0.01529791  0.01905488  0.01687117\n",
       " -0.00152905  0.03466872  0.00381098 -0.02531646  0.04984424  0.03257576\n",
       "  0.00716561  0.0375      0.01192369], stds=[0.0301912  0.02439315 0.03771335 0.02273161 0.02739113 0.0295477\n",
       " 0.03288008 0.02413365 0.03831347 0.02884026 0.02536583 0.02681657\n",
       " 0.0272724  0.02060853 0.02863267 0.02421324 0.07009148 0.02684497\n",
       " 0.02538034 0.02612797 0.02454662 0.0203859  0.02793376 0.02416668\n",
       " 0.02155515 0.03890846 0.02796816 0.03592119 0.13748787 0.02046372\n",
       " 0.0226519  0.02212958 0.02610926 0.02304325 0.05380769 0.01890131\n",
       " 0.02313008 0.0258601  0.02763123 0.03068307 0.02649207 0.02440182\n",
       " 0.02246694 0.0222245  0.02612686 0.0202093  0.020652   0.02290411\n",
       " 0.02298056 0.02069357 0.02485448 0.02475432 0.0265815  0.02261385\n",
       " 0.02070769 0.023968   0.0236309  0.01825162 0.02616927 0.0259223\n",
       " 0.02572882 0.02750496 0.0233063  0.02454793 0.02621478 0.03324334\n",
       " 0.02369112 0.02301501 0.02882225 0.03405876 0.0237285  0.07714824\n",
       " 0.05473595 0.03195926 0.03185138 0.02856942 0.02328771 0.0266565\n",
       " 0.01628194 0.02089134 0.02544533 0.02144492 0.02448796 0.02196046\n",
       " 0.02090776 0.02034051 0.02206126 0.02163483 0.02571104 0.03089664\n",
       " 0.02135038 0.02577374 0.02551062 0.02294048 0.02026551 0.0219107\n",
       " 0.02212938 0.02250427 0.0280836 ], ensemble_standard_error=[0.02974919 0.02603545 0.03400854 0.02845832 0.02550986 0.0286863\n",
       " 0.03596807 0.03020618 0.04042023 0.02581045 0.02458342 0.02462023\n",
       " 0.02446983 0.02496223 0.02473559 0.0251978  0.05486275 0.02568755\n",
       " 0.0261032  0.02511901 0.02442856 0.02564456 0.02689571 0.02589194\n",
       " 0.02473166 0.04384101 0.02552859 0.03361648 0.10620428 0.02488889\n",
       " 0.02614386 0.02483923 0.02515724 0.02428226 0.0513148  0.02425212\n",
       " 0.02450734 0.02974316 0.02859573 0.02447125 0.02500003 0.02564716\n",
       " 0.02431748 0.02503918 0.02488358 0.02425124 0.02484741 0.02705609\n",
       " 0.02453988 0.02427923 0.02458539 0.0246942  0.02543922 0.02716611\n",
       " 0.0244275  0.02488375 0.02427955 0.02428533 0.02461928 0.02450356\n",
       " 0.02508538 0.02439038 0.02461746 0.02479152 0.02457758 0.02782663\n",
       " 0.02893417 0.02488336 0.02717746 0.03413174 0.03125538 0.07381268\n",
       " 0.04280605 0.02439182 0.03252825 0.0278795  0.02473417 0.02649038\n",
       " 0.0241487  0.02606121 0.02636131 0.0247299  0.02432424 0.02454024\n",
       " 0.02446485 0.02690224 0.02451218 0.0257676  0.02439365 0.02454261\n",
       " 0.02446485 0.02466509 0.02439038 0.02532341 0.02494752 0.02425212\n",
       " 0.02547828 0.02501455 0.02543877]), metadata={'shots': 4096, 'target_precision': 0.015625, 'circuit_metadata': {}, 'resilience': {}, 'num_randomizations': 32})], metadata={'dynamical_decoupling': {'enable': True, 'sequence_type': 'XY4', 'extra_slack_distribution': 'middle', 'scheduling_method': 'alap'}, 'twirling': {'enable_gates': False, 'enable_measure': True, 'num_randomizations': 'auto', 'shots_per_randomization': 'auto', 'interleave_randomizations': True, 'strategy': 'active-accum'}, 'resilience': {'measure_mitigation': True, 'zne_mitigation': False, 'pec_mitigation': False}, 'version': 2})"
      ]
     },
     "execution_count": 5,
     "metadata": {},
     "output_type": "execute_result"
    }
   ],
   "source": [
    "from qiskit_ibm_runtime import RuntimeDecoder\n",
    "with open(\"result.json\", \"r\") as file:\n",
    "    result = json.load(file, cls=RuntimeDecoder)\n",
    "\n",
    "result"
   ]
  },
  {
   "cell_type": "code",
   "execution_count": 6,
   "id": "eae94b73-157b-4751-8dd3-add4cc9efec6",
   "metadata": {
    "tags": [
     "remove-cell"
    ]
   },
   "outputs": [],
   "source": [
    "# Cleanup the file we created (this cell should be hidden from the user)\n",
    "import pathlib\n",
    "pathlib.Path('result.json').unlink()"
   ]
  }
 ],
 "metadata": {
  "description": "Store Qiskit objects on disk or in the cloud so you can continue where you left off",
  "kernelspec": {
   "display_name": "Python 3",
   "language": "python",
   "name": "python3"
  },
  "language_info": {
   "codemirror_mode": {
    "name": "ipython",
    "version": 3
   },
   "file_extension": ".py",
   "mimetype": "text/x-python",
   "name": "python",
   "nbconvert_exporter": "python",
   "pygments_lexer": "ipython3",
   "version": "3"
  },
  "title": "Save and retrieve Qiskit objects"
 },
 "nbformat": 4,
 "nbformat_minor": 2
}
